{
 "cells": [
  {
   "cell_type": "markdown",
   "metadata": {},
   "source": [
    "# CHAPTER6: Data Loading, Storage, and File Formats"
   ]
  },
  {
   "cell_type": "markdown",
   "metadata": {},
   "source": [
    "## 6.1 Reading and Writing Data in Text Format"
   ]
  },
  {
   "cell_type": "code",
   "execution_count": 1,
   "metadata": {},
   "outputs": [
    {
     "name": "stdout",
     "output_type": "stream",
     "text": [
      "a,b,c,d,message\r\n",
      "1,2,3,4,hello\r\n",
      "5,6,7,8,world\r\n",
      "9,10,11,12,foo"
     ]
    }
   ],
   "source": [
    "# menampilkan isi file ex1.csv\n",
    "!cat examples/ex1.csv"
   ]
  },
  {
   "cell_type": "code",
   "execution_count": 2,
   "metadata": {},
   "outputs": [],
   "source": [
    "# membaca file csv dan menyimpan nya ke DataFrame:"
   ]
  },
  {
   "cell_type": "code",
   "execution_count": 1,
   "metadata": {},
   "outputs": [],
   "source": [
    "import pandas as pd"
   ]
  },
  {
   "cell_type": "code",
   "execution_count": 4,
   "metadata": {},
   "outputs": [],
   "source": [
    "df = pd.read_csv('examples/ex1.csv')"
   ]
  },
  {
   "cell_type": "code",
   "execution_count": 5,
   "metadata": {},
   "outputs": [
    {
     "data": {
      "text/html": [
       "<div>\n",
       "<style scoped>\n",
       "    .dataframe tbody tr th:only-of-type {\n",
       "        vertical-align: middle;\n",
       "    }\n",
       "\n",
       "    .dataframe tbody tr th {\n",
       "        vertical-align: top;\n",
       "    }\n",
       "\n",
       "    .dataframe thead th {\n",
       "        text-align: right;\n",
       "    }\n",
       "</style>\n",
       "<table border=\"1\" class=\"dataframe\">\n",
       "  <thead>\n",
       "    <tr style=\"text-align: right;\">\n",
       "      <th></th>\n",
       "      <th>a</th>\n",
       "      <th>b</th>\n",
       "      <th>c</th>\n",
       "      <th>d</th>\n",
       "      <th>message</th>\n",
       "    </tr>\n",
       "  </thead>\n",
       "  <tbody>\n",
       "    <tr>\n",
       "      <th>0</th>\n",
       "      <td>1</td>\n",
       "      <td>2</td>\n",
       "      <td>3</td>\n",
       "      <td>4</td>\n",
       "      <td>hello</td>\n",
       "    </tr>\n",
       "    <tr>\n",
       "      <th>1</th>\n",
       "      <td>5</td>\n",
       "      <td>6</td>\n",
       "      <td>7</td>\n",
       "      <td>8</td>\n",
       "      <td>world</td>\n",
       "    </tr>\n",
       "    <tr>\n",
       "      <th>2</th>\n",
       "      <td>9</td>\n",
       "      <td>10</td>\n",
       "      <td>11</td>\n",
       "      <td>12</td>\n",
       "      <td>foo</td>\n",
       "    </tr>\n",
       "  </tbody>\n",
       "</table>\n",
       "</div>"
      ],
      "text/plain": [
       "   a   b   c   d message\n",
       "0  1   2   3   4   hello\n",
       "1  5   6   7   8   world\n",
       "2  9  10  11  12     foo"
      ]
     },
     "execution_count": 5,
     "metadata": {},
     "output_type": "execute_result"
    }
   ],
   "source": [
    "df"
   ]
  },
  {
   "cell_type": "code",
   "execution_count": 6,
   "metadata": {},
   "outputs": [],
   "source": [
    "# load data dengan fungsi read_table ditambah delimiter nya\n",
    "# misal karena file nya csv delimiter nya comma (,)"
   ]
  },
  {
   "cell_type": "code",
   "execution_count": 8,
   "metadata": {},
   "outputs": [
    {
     "data": {
      "text/html": [
       "<div>\n",
       "<style scoped>\n",
       "    .dataframe tbody tr th:only-of-type {\n",
       "        vertical-align: middle;\n",
       "    }\n",
       "\n",
       "    .dataframe tbody tr th {\n",
       "        vertical-align: top;\n",
       "    }\n",
       "\n",
       "    .dataframe thead th {\n",
       "        text-align: right;\n",
       "    }\n",
       "</style>\n",
       "<table border=\"1\" class=\"dataframe\">\n",
       "  <thead>\n",
       "    <tr style=\"text-align: right;\">\n",
       "      <th></th>\n",
       "      <th>a</th>\n",
       "      <th>b</th>\n",
       "      <th>c</th>\n",
       "      <th>d</th>\n",
       "      <th>message</th>\n",
       "    </tr>\n",
       "  </thead>\n",
       "  <tbody>\n",
       "    <tr>\n",
       "      <th>0</th>\n",
       "      <td>1</td>\n",
       "      <td>2</td>\n",
       "      <td>3</td>\n",
       "      <td>4</td>\n",
       "      <td>hello</td>\n",
       "    </tr>\n",
       "    <tr>\n",
       "      <th>1</th>\n",
       "      <td>5</td>\n",
       "      <td>6</td>\n",
       "      <td>7</td>\n",
       "      <td>8</td>\n",
       "      <td>world</td>\n",
       "    </tr>\n",
       "    <tr>\n",
       "      <th>2</th>\n",
       "      <td>9</td>\n",
       "      <td>10</td>\n",
       "      <td>11</td>\n",
       "      <td>12</td>\n",
       "      <td>foo</td>\n",
       "    </tr>\n",
       "  </tbody>\n",
       "</table>\n",
       "</div>"
      ],
      "text/plain": [
       "   a   b   c   d message\n",
       "0  1   2   3   4   hello\n",
       "1  5   6   7   8   world\n",
       "2  9  10  11  12     foo"
      ]
     },
     "execution_count": 8,
     "metadata": {},
     "output_type": "execute_result"
    }
   ],
   "source": [
    "pd.read_table('examples/ex1.csv', sep=',')"
   ]
  },
  {
   "cell_type": "code",
   "execution_count": 9,
   "metadata": {},
   "outputs": [],
   "source": [
    "# membaca file csv tanpa header karena file csv nya tidak memiliki header"
   ]
  },
  {
   "cell_type": "code",
   "execution_count": 10,
   "metadata": {},
   "outputs": [
    {
     "name": "stdout",
     "output_type": "stream",
     "text": [
      "1,2,3,4,hello\r\n",
      "5,6,7,8,world\r\n",
      "9,10,11,12,foo"
     ]
    }
   ],
   "source": [
    "!cat examples/ex2.csv"
   ]
  },
  {
   "cell_type": "code",
   "execution_count": 11,
   "metadata": {},
   "outputs": [
    {
     "data": {
      "text/html": [
       "<div>\n",
       "<style scoped>\n",
       "    .dataframe tbody tr th:only-of-type {\n",
       "        vertical-align: middle;\n",
       "    }\n",
       "\n",
       "    .dataframe tbody tr th {\n",
       "        vertical-align: top;\n",
       "    }\n",
       "\n",
       "    .dataframe thead th {\n",
       "        text-align: right;\n",
       "    }\n",
       "</style>\n",
       "<table border=\"1\" class=\"dataframe\">\n",
       "  <thead>\n",
       "    <tr style=\"text-align: right;\">\n",
       "      <th></th>\n",
       "      <th>0</th>\n",
       "      <th>1</th>\n",
       "      <th>2</th>\n",
       "      <th>3</th>\n",
       "      <th>4</th>\n",
       "    </tr>\n",
       "  </thead>\n",
       "  <tbody>\n",
       "    <tr>\n",
       "      <th>0</th>\n",
       "      <td>1</td>\n",
       "      <td>2</td>\n",
       "      <td>3</td>\n",
       "      <td>4</td>\n",
       "      <td>hello</td>\n",
       "    </tr>\n",
       "    <tr>\n",
       "      <th>1</th>\n",
       "      <td>5</td>\n",
       "      <td>6</td>\n",
       "      <td>7</td>\n",
       "      <td>8</td>\n",
       "      <td>world</td>\n",
       "    </tr>\n",
       "    <tr>\n",
       "      <th>2</th>\n",
       "      <td>9</td>\n",
       "      <td>10</td>\n",
       "      <td>11</td>\n",
       "      <td>12</td>\n",
       "      <td>foo</td>\n",
       "    </tr>\n",
       "  </tbody>\n",
       "</table>\n",
       "</div>"
      ],
      "text/plain": [
       "   0   1   2   3      4\n",
       "0  1   2   3   4  hello\n",
       "1  5   6   7   8  world\n",
       "2  9  10  11  12    foo"
      ]
     },
     "execution_count": 11,
     "metadata": {},
     "output_type": "execute_result"
    }
   ],
   "source": [
    "pd.read_csv('examples/ex2.csv', header=None)"
   ]
  },
  {
   "cell_type": "code",
   "execution_count": 12,
   "metadata": {},
   "outputs": [],
   "source": [
    "# memberi header sendiri karena tidak memiliki header"
   ]
  },
  {
   "cell_type": "code",
   "execution_count": 13,
   "metadata": {},
   "outputs": [
    {
     "data": {
      "text/html": [
       "<div>\n",
       "<style scoped>\n",
       "    .dataframe tbody tr th:only-of-type {\n",
       "        vertical-align: middle;\n",
       "    }\n",
       "\n",
       "    .dataframe tbody tr th {\n",
       "        vertical-align: top;\n",
       "    }\n",
       "\n",
       "    .dataframe thead th {\n",
       "        text-align: right;\n",
       "    }\n",
       "</style>\n",
       "<table border=\"1\" class=\"dataframe\">\n",
       "  <thead>\n",
       "    <tr style=\"text-align: right;\">\n",
       "      <th></th>\n",
       "      <th>a</th>\n",
       "      <th>b</th>\n",
       "      <th>c</th>\n",
       "      <th>d</th>\n",
       "      <th>message</th>\n",
       "    </tr>\n",
       "  </thead>\n",
       "  <tbody>\n",
       "    <tr>\n",
       "      <th>0</th>\n",
       "      <td>1</td>\n",
       "      <td>2</td>\n",
       "      <td>3</td>\n",
       "      <td>4</td>\n",
       "      <td>hello</td>\n",
       "    </tr>\n",
       "    <tr>\n",
       "      <th>1</th>\n",
       "      <td>5</td>\n",
       "      <td>6</td>\n",
       "      <td>7</td>\n",
       "      <td>8</td>\n",
       "      <td>world</td>\n",
       "    </tr>\n",
       "    <tr>\n",
       "      <th>2</th>\n",
       "      <td>9</td>\n",
       "      <td>10</td>\n",
       "      <td>11</td>\n",
       "      <td>12</td>\n",
       "      <td>foo</td>\n",
       "    </tr>\n",
       "  </tbody>\n",
       "</table>\n",
       "</div>"
      ],
      "text/plain": [
       "   a   b   c   d message\n",
       "0  1   2   3   4   hello\n",
       "1  5   6   7   8   world\n",
       "2  9  10  11  12     foo"
      ]
     },
     "execution_count": 13,
     "metadata": {},
     "output_type": "execute_result"
    }
   ],
   "source": [
    "pd.read_csv('examples/ex2.csv', names=['a','b','c','d','message'])"
   ]
  },
  {
   "cell_type": "code",
   "execution_count": 15,
   "metadata": {},
   "outputs": [
    {
     "name": "stdout",
     "output_type": "stream",
     "text": [
      "1,2,3,4,hello\r\n",
      "5,6,7,8,world\r\n",
      "9,10,11,12,foo"
     ]
    }
   ],
   "source": [
    "!cat examples/ex2.csv"
   ]
  },
  {
   "cell_type": "markdown",
   "metadata": {},
   "source": [
    "You can either indicate you want the column at index 4 or named 'message' using\n",
    "the index_col argument"
   ]
  },
  {
   "cell_type": "code",
   "execution_count": 16,
   "metadata": {},
   "outputs": [],
   "source": [
    "names = ['a','b','c','d','message']"
   ]
  },
  {
   "cell_type": "code",
   "execution_count": 18,
   "metadata": {},
   "outputs": [
    {
     "data": {
      "text/html": [
       "<div>\n",
       "<style scoped>\n",
       "    .dataframe tbody tr th:only-of-type {\n",
       "        vertical-align: middle;\n",
       "    }\n",
       "\n",
       "    .dataframe tbody tr th {\n",
       "        vertical-align: top;\n",
       "    }\n",
       "\n",
       "    .dataframe thead th {\n",
       "        text-align: right;\n",
       "    }\n",
       "</style>\n",
       "<table border=\"1\" class=\"dataframe\">\n",
       "  <thead>\n",
       "    <tr style=\"text-align: right;\">\n",
       "      <th></th>\n",
       "      <th>a</th>\n",
       "      <th>b</th>\n",
       "      <th>c</th>\n",
       "      <th>d</th>\n",
       "    </tr>\n",
       "    <tr>\n",
       "      <th>message</th>\n",
       "      <th></th>\n",
       "      <th></th>\n",
       "      <th></th>\n",
       "      <th></th>\n",
       "    </tr>\n",
       "  </thead>\n",
       "  <tbody>\n",
       "    <tr>\n",
       "      <th>hello</th>\n",
       "      <td>1</td>\n",
       "      <td>2</td>\n",
       "      <td>3</td>\n",
       "      <td>4</td>\n",
       "    </tr>\n",
       "    <tr>\n",
       "      <th>world</th>\n",
       "      <td>5</td>\n",
       "      <td>6</td>\n",
       "      <td>7</td>\n",
       "      <td>8</td>\n",
       "    </tr>\n",
       "    <tr>\n",
       "      <th>foo</th>\n",
       "      <td>9</td>\n",
       "      <td>10</td>\n",
       "      <td>11</td>\n",
       "      <td>12</td>\n",
       "    </tr>\n",
       "  </tbody>\n",
       "</table>\n",
       "</div>"
      ],
      "text/plain": [
       "         a   b   c   d\n",
       "message               \n",
       "hello    1   2   3   4\n",
       "world    5   6   7   8\n",
       "foo      9  10  11  12"
      ]
     },
     "execution_count": 18,
     "metadata": {},
     "output_type": "execute_result"
    }
   ],
   "source": [
    "pd.read_csv('examples/ex2.csv', names=names, index_col='message')"
   ]
  },
  {
   "cell_type": "code",
   "execution_count": 20,
   "metadata": {},
   "outputs": [
    {
     "name": "stdout",
     "output_type": "stream",
     "text": [
      "key1,key2,value1,value2\r\n",
      "one,a,1,2\r\n",
      "one,b,3,4\r\n",
      "one,c,5,6\r\n",
      "one,d,7,8\r\n",
      "two,a,9,10\r\n",
      "two,b,11,12\r\n",
      "two,c,13,14\r\n",
      "two,d,15,16\r\n"
     ]
    }
   ],
   "source": [
    "!cat examples/csv_mindex.csv"
   ]
  },
  {
   "cell_type": "code",
   "execution_count": 21,
   "metadata": {},
   "outputs": [],
   "source": [
    "parsed = pd.read_csv('examples/csv_mindex.csv', index_col=['key1','key2'])"
   ]
  },
  {
   "cell_type": "code",
   "execution_count": 22,
   "metadata": {},
   "outputs": [
    {
     "data": {
      "text/html": [
       "<div>\n",
       "<style scoped>\n",
       "    .dataframe tbody tr th:only-of-type {\n",
       "        vertical-align: middle;\n",
       "    }\n",
       "\n",
       "    .dataframe tbody tr th {\n",
       "        vertical-align: top;\n",
       "    }\n",
       "\n",
       "    .dataframe thead th {\n",
       "        text-align: right;\n",
       "    }\n",
       "</style>\n",
       "<table border=\"1\" class=\"dataframe\">\n",
       "  <thead>\n",
       "    <tr style=\"text-align: right;\">\n",
       "      <th></th>\n",
       "      <th></th>\n",
       "      <th>value1</th>\n",
       "      <th>value2</th>\n",
       "    </tr>\n",
       "    <tr>\n",
       "      <th>key1</th>\n",
       "      <th>key2</th>\n",
       "      <th></th>\n",
       "      <th></th>\n",
       "    </tr>\n",
       "  </thead>\n",
       "  <tbody>\n",
       "    <tr>\n",
       "      <th rowspan=\"4\" valign=\"top\">one</th>\n",
       "      <th>a</th>\n",
       "      <td>1</td>\n",
       "      <td>2</td>\n",
       "    </tr>\n",
       "    <tr>\n",
       "      <th>b</th>\n",
       "      <td>3</td>\n",
       "      <td>4</td>\n",
       "    </tr>\n",
       "    <tr>\n",
       "      <th>c</th>\n",
       "      <td>5</td>\n",
       "      <td>6</td>\n",
       "    </tr>\n",
       "    <tr>\n",
       "      <th>d</th>\n",
       "      <td>7</td>\n",
       "      <td>8</td>\n",
       "    </tr>\n",
       "    <tr>\n",
       "      <th rowspan=\"4\" valign=\"top\">two</th>\n",
       "      <th>a</th>\n",
       "      <td>9</td>\n",
       "      <td>10</td>\n",
       "    </tr>\n",
       "    <tr>\n",
       "      <th>b</th>\n",
       "      <td>11</td>\n",
       "      <td>12</td>\n",
       "    </tr>\n",
       "    <tr>\n",
       "      <th>c</th>\n",
       "      <td>13</td>\n",
       "      <td>14</td>\n",
       "    </tr>\n",
       "    <tr>\n",
       "      <th>d</th>\n",
       "      <td>15</td>\n",
       "      <td>16</td>\n",
       "    </tr>\n",
       "  </tbody>\n",
       "</table>\n",
       "</div>"
      ],
      "text/plain": [
       "           value1  value2\n",
       "key1 key2                \n",
       "one  a          1       2\n",
       "     b          3       4\n",
       "     c          5       6\n",
       "     d          7       8\n",
       "two  a          9      10\n",
       "     b         11      12\n",
       "     c         13      14\n",
       "     d         15      16"
      ]
     },
     "execution_count": 22,
     "metadata": {},
     "output_type": "execute_result"
    }
   ],
   "source": [
    "parsed"
   ]
  },
  {
   "cell_type": "markdown",
   "metadata": {},
   "source": [
    "In some cases, a table might not have a fixed delimiter, using whitespace or some other pattern to separate fields"
   ]
  },
  {
   "cell_type": "code",
   "execution_count": 23,
   "metadata": {},
   "outputs": [
    {
     "data": {
      "text/plain": [
       "['            A         B         C\\n',\n",
       " 'aaa -0.264438 -1.026059 -0.619500\\n',\n",
       " 'bbb  0.927272  0.302904 -0.032399\\n',\n",
       " 'ccc -0.264273 -0.386314 -0.217601\\n',\n",
       " 'ddd -0.871858 -0.348382  1.100491\\n']"
      ]
     },
     "execution_count": 23,
     "metadata": {},
     "output_type": "execute_result"
    }
   ],
   "source": [
    "list(open('examples/ex3.txt'))"
   ]
  },
  {
   "cell_type": "code",
   "execution_count": 24,
   "metadata": {},
   "outputs": [],
   "source": [
    "result = pd.read_table('examples/ex3.txt', sep='\\s+')"
   ]
  },
  {
   "cell_type": "code",
   "execution_count": 25,
   "metadata": {},
   "outputs": [
    {
     "data": {
      "text/html": [
       "<div>\n",
       "<style scoped>\n",
       "    .dataframe tbody tr th:only-of-type {\n",
       "        vertical-align: middle;\n",
       "    }\n",
       "\n",
       "    .dataframe tbody tr th {\n",
       "        vertical-align: top;\n",
       "    }\n",
       "\n",
       "    .dataframe thead th {\n",
       "        text-align: right;\n",
       "    }\n",
       "</style>\n",
       "<table border=\"1\" class=\"dataframe\">\n",
       "  <thead>\n",
       "    <tr style=\"text-align: right;\">\n",
       "      <th></th>\n",
       "      <th>A</th>\n",
       "      <th>B</th>\n",
       "      <th>C</th>\n",
       "    </tr>\n",
       "  </thead>\n",
       "  <tbody>\n",
       "    <tr>\n",
       "      <th>aaa</th>\n",
       "      <td>-0.264438</td>\n",
       "      <td>-1.026059</td>\n",
       "      <td>-0.619500</td>\n",
       "    </tr>\n",
       "    <tr>\n",
       "      <th>bbb</th>\n",
       "      <td>0.927272</td>\n",
       "      <td>0.302904</td>\n",
       "      <td>-0.032399</td>\n",
       "    </tr>\n",
       "    <tr>\n",
       "      <th>ccc</th>\n",
       "      <td>-0.264273</td>\n",
       "      <td>-0.386314</td>\n",
       "      <td>-0.217601</td>\n",
       "    </tr>\n",
       "    <tr>\n",
       "      <th>ddd</th>\n",
       "      <td>-0.871858</td>\n",
       "      <td>-0.348382</td>\n",
       "      <td>1.100491</td>\n",
       "    </tr>\n",
       "  </tbody>\n",
       "</table>\n",
       "</div>"
      ],
      "text/plain": [
       "            A         B         C\n",
       "aaa -0.264438 -1.026059 -0.619500\n",
       "bbb  0.927272  0.302904 -0.032399\n",
       "ccc -0.264273 -0.386314 -0.217601\n",
       "ddd -0.871858 -0.348382  1.100491"
      ]
     },
     "execution_count": 25,
     "metadata": {},
     "output_type": "execute_result"
    }
   ],
   "source": [
    "result"
   ]
  },
  {
   "cell_type": "code",
   "execution_count": 26,
   "metadata": {},
   "outputs": [],
   "source": [
    "# skip first, third, and fourth rows of the file with skiprows"
   ]
  },
  {
   "cell_type": "code",
   "execution_count": 27,
   "metadata": {},
   "outputs": [
    {
     "name": "stdout",
     "output_type": "stream",
     "text": [
      "# hey!\r\n",
      "a,b,c,d,message\r\n",
      "# just wanted to make things more difficult for you\r\n",
      "# who reads CSV files with computers, anyway?\r\n",
      "1,2,3,4,hello\r\n",
      "5,6,7,8,world\r\n",
      "9,10,11,12,foo"
     ]
    }
   ],
   "source": [
    "!cat examples/ex4.csv"
   ]
  },
  {
   "cell_type": "code",
   "execution_count": 28,
   "metadata": {},
   "outputs": [
    {
     "data": {
      "text/html": [
       "<div>\n",
       "<style scoped>\n",
       "    .dataframe tbody tr th:only-of-type {\n",
       "        vertical-align: middle;\n",
       "    }\n",
       "\n",
       "    .dataframe tbody tr th {\n",
       "        vertical-align: top;\n",
       "    }\n",
       "\n",
       "    .dataframe thead th {\n",
       "        text-align: right;\n",
       "    }\n",
       "</style>\n",
       "<table border=\"1\" class=\"dataframe\">\n",
       "  <thead>\n",
       "    <tr style=\"text-align: right;\">\n",
       "      <th></th>\n",
       "      <th>a</th>\n",
       "      <th>b</th>\n",
       "      <th>c</th>\n",
       "      <th>d</th>\n",
       "      <th>message</th>\n",
       "    </tr>\n",
       "  </thead>\n",
       "  <tbody>\n",
       "    <tr>\n",
       "      <th>0</th>\n",
       "      <td>1</td>\n",
       "      <td>2</td>\n",
       "      <td>3</td>\n",
       "      <td>4</td>\n",
       "      <td>hello</td>\n",
       "    </tr>\n",
       "    <tr>\n",
       "      <th>1</th>\n",
       "      <td>5</td>\n",
       "      <td>6</td>\n",
       "      <td>7</td>\n",
       "      <td>8</td>\n",
       "      <td>world</td>\n",
       "    </tr>\n",
       "    <tr>\n",
       "      <th>2</th>\n",
       "      <td>9</td>\n",
       "      <td>10</td>\n",
       "      <td>11</td>\n",
       "      <td>12</td>\n",
       "      <td>foo</td>\n",
       "    </tr>\n",
       "  </tbody>\n",
       "</table>\n",
       "</div>"
      ],
      "text/plain": [
       "   a   b   c   d message\n",
       "0  1   2   3   4   hello\n",
       "1  5   6   7   8   world\n",
       "2  9  10  11  12     foo"
      ]
     },
     "execution_count": 28,
     "metadata": {},
     "output_type": "execute_result"
    }
   ],
   "source": [
    "pd.read_csv('examples/ex4.csv', skiprows=[0, 2, 3])"
   ]
  },
  {
   "cell_type": "code",
   "execution_count": 29,
   "metadata": {},
   "outputs": [],
   "source": [
    "# Handling missing values"
   ]
  },
  {
   "cell_type": "code",
   "execution_count": 30,
   "metadata": {},
   "outputs": [
    {
     "name": "stdout",
     "output_type": "stream",
     "text": [
      "something,a,b,c,d,message\r\n",
      "one,1,2,3,4,NA\r\n",
      "two,5,6,,8,world\r\n",
      "three,9,10,11,12,foo"
     ]
    }
   ],
   "source": [
    "!cat examples/ex5.csv"
   ]
  },
  {
   "cell_type": "code",
   "execution_count": 31,
   "metadata": {},
   "outputs": [],
   "source": [
    "result = pd.read_csv('examples/ex5.csv')"
   ]
  },
  {
   "cell_type": "code",
   "execution_count": 32,
   "metadata": {},
   "outputs": [
    {
     "data": {
      "text/html": [
       "<div>\n",
       "<style scoped>\n",
       "    .dataframe tbody tr th:only-of-type {\n",
       "        vertical-align: middle;\n",
       "    }\n",
       "\n",
       "    .dataframe tbody tr th {\n",
       "        vertical-align: top;\n",
       "    }\n",
       "\n",
       "    .dataframe thead th {\n",
       "        text-align: right;\n",
       "    }\n",
       "</style>\n",
       "<table border=\"1\" class=\"dataframe\">\n",
       "  <thead>\n",
       "    <tr style=\"text-align: right;\">\n",
       "      <th></th>\n",
       "      <th>something</th>\n",
       "      <th>a</th>\n",
       "      <th>b</th>\n",
       "      <th>c</th>\n",
       "      <th>d</th>\n",
       "      <th>message</th>\n",
       "    </tr>\n",
       "  </thead>\n",
       "  <tbody>\n",
       "    <tr>\n",
       "      <th>0</th>\n",
       "      <td>one</td>\n",
       "      <td>1</td>\n",
       "      <td>2</td>\n",
       "      <td>3.0</td>\n",
       "      <td>4</td>\n",
       "      <td>NaN</td>\n",
       "    </tr>\n",
       "    <tr>\n",
       "      <th>1</th>\n",
       "      <td>two</td>\n",
       "      <td>5</td>\n",
       "      <td>6</td>\n",
       "      <td>NaN</td>\n",
       "      <td>8</td>\n",
       "      <td>world</td>\n",
       "    </tr>\n",
       "    <tr>\n",
       "      <th>2</th>\n",
       "      <td>three</td>\n",
       "      <td>9</td>\n",
       "      <td>10</td>\n",
       "      <td>11.0</td>\n",
       "      <td>12</td>\n",
       "      <td>foo</td>\n",
       "    </tr>\n",
       "  </tbody>\n",
       "</table>\n",
       "</div>"
      ],
      "text/plain": [
       "  something  a   b     c   d message\n",
       "0       one  1   2   3.0   4     NaN\n",
       "1       two  5   6   NaN   8   world\n",
       "2     three  9  10  11.0  12     foo"
      ]
     },
     "execution_count": 32,
     "metadata": {},
     "output_type": "execute_result"
    }
   ],
   "source": [
    "result "
   ]
  },
  {
   "cell_type": "code",
   "execution_count": 33,
   "metadata": {},
   "outputs": [],
   "source": [
    "# NA dan ULL akan diisi NaN"
   ]
  },
  {
   "cell_type": "code",
   "execution_count": 34,
   "metadata": {},
   "outputs": [
    {
     "data": {
      "text/html": [
       "<div>\n",
       "<style scoped>\n",
       "    .dataframe tbody tr th:only-of-type {\n",
       "        vertical-align: middle;\n",
       "    }\n",
       "\n",
       "    .dataframe tbody tr th {\n",
       "        vertical-align: top;\n",
       "    }\n",
       "\n",
       "    .dataframe thead th {\n",
       "        text-align: right;\n",
       "    }\n",
       "</style>\n",
       "<table border=\"1\" class=\"dataframe\">\n",
       "  <thead>\n",
       "    <tr style=\"text-align: right;\">\n",
       "      <th></th>\n",
       "      <th>something</th>\n",
       "      <th>a</th>\n",
       "      <th>b</th>\n",
       "      <th>c</th>\n",
       "      <th>d</th>\n",
       "      <th>message</th>\n",
       "    </tr>\n",
       "  </thead>\n",
       "  <tbody>\n",
       "    <tr>\n",
       "      <th>0</th>\n",
       "      <td>False</td>\n",
       "      <td>False</td>\n",
       "      <td>False</td>\n",
       "      <td>False</td>\n",
       "      <td>False</td>\n",
       "      <td>True</td>\n",
       "    </tr>\n",
       "    <tr>\n",
       "      <th>1</th>\n",
       "      <td>False</td>\n",
       "      <td>False</td>\n",
       "      <td>False</td>\n",
       "      <td>True</td>\n",
       "      <td>False</td>\n",
       "      <td>False</td>\n",
       "    </tr>\n",
       "    <tr>\n",
       "      <th>2</th>\n",
       "      <td>False</td>\n",
       "      <td>False</td>\n",
       "      <td>False</td>\n",
       "      <td>False</td>\n",
       "      <td>False</td>\n",
       "      <td>False</td>\n",
       "    </tr>\n",
       "  </tbody>\n",
       "</table>\n",
       "</div>"
      ],
      "text/plain": [
       "   something      a      b      c      d  message\n",
       "0      False  False  False  False  False     True\n",
       "1      False  False  False   True  False    False\n",
       "2      False  False  False  False  False    False"
      ]
     },
     "execution_count": 34,
     "metadata": {},
     "output_type": "execute_result"
    }
   ],
   "source": [
    "pd.isnull(result)"
   ]
  },
  {
   "cell_type": "code",
   "execution_count": 35,
   "metadata": {},
   "outputs": [
    {
     "data": {
      "text/html": [
       "<div>\n",
       "<style scoped>\n",
       "    .dataframe tbody tr th:only-of-type {\n",
       "        vertical-align: middle;\n",
       "    }\n",
       "\n",
       "    .dataframe tbody tr th {\n",
       "        vertical-align: top;\n",
       "    }\n",
       "\n",
       "    .dataframe thead th {\n",
       "        text-align: right;\n",
       "    }\n",
       "</style>\n",
       "<table border=\"1\" class=\"dataframe\">\n",
       "  <thead>\n",
       "    <tr style=\"text-align: right;\">\n",
       "      <th></th>\n",
       "      <th>something</th>\n",
       "      <th>a</th>\n",
       "      <th>b</th>\n",
       "      <th>c</th>\n",
       "      <th>d</th>\n",
       "      <th>message</th>\n",
       "    </tr>\n",
       "  </thead>\n",
       "  <tbody>\n",
       "    <tr>\n",
       "      <th>0</th>\n",
       "      <td>one</td>\n",
       "      <td>1</td>\n",
       "      <td>2</td>\n",
       "      <td>3.0</td>\n",
       "      <td>4</td>\n",
       "      <td>NaN</td>\n",
       "    </tr>\n",
       "    <tr>\n",
       "      <th>1</th>\n",
       "      <td>two</td>\n",
       "      <td>5</td>\n",
       "      <td>6</td>\n",
       "      <td>NaN</td>\n",
       "      <td>8</td>\n",
       "      <td>world</td>\n",
       "    </tr>\n",
       "    <tr>\n",
       "      <th>2</th>\n",
       "      <td>three</td>\n",
       "      <td>9</td>\n",
       "      <td>10</td>\n",
       "      <td>11.0</td>\n",
       "      <td>12</td>\n",
       "      <td>foo</td>\n",
       "    </tr>\n",
       "  </tbody>\n",
       "</table>\n",
       "</div>"
      ],
      "text/plain": [
       "  something  a   b     c   d message\n",
       "0       one  1   2   3.0   4     NaN\n",
       "1       two  5   6   NaN   8   world\n",
       "2     three  9  10  11.0  12     foo"
      ]
     },
     "execution_count": 35,
     "metadata": {},
     "output_type": "execute_result"
    }
   ],
   "source": [
    "result"
   ]
  },
  {
   "cell_type": "code",
   "execution_count": 36,
   "metadata": {},
   "outputs": [],
   "source": [
    "result = pd.read_csv('examples/ex5.csv', na_values=['NULL'])"
   ]
  },
  {
   "cell_type": "code",
   "execution_count": 37,
   "metadata": {},
   "outputs": [
    {
     "data": {
      "text/html": [
       "<div>\n",
       "<style scoped>\n",
       "    .dataframe tbody tr th:only-of-type {\n",
       "        vertical-align: middle;\n",
       "    }\n",
       "\n",
       "    .dataframe tbody tr th {\n",
       "        vertical-align: top;\n",
       "    }\n",
       "\n",
       "    .dataframe thead th {\n",
       "        text-align: right;\n",
       "    }\n",
       "</style>\n",
       "<table border=\"1\" class=\"dataframe\">\n",
       "  <thead>\n",
       "    <tr style=\"text-align: right;\">\n",
       "      <th></th>\n",
       "      <th>something</th>\n",
       "      <th>a</th>\n",
       "      <th>b</th>\n",
       "      <th>c</th>\n",
       "      <th>d</th>\n",
       "      <th>message</th>\n",
       "    </tr>\n",
       "  </thead>\n",
       "  <tbody>\n",
       "    <tr>\n",
       "      <th>0</th>\n",
       "      <td>one</td>\n",
       "      <td>1</td>\n",
       "      <td>2</td>\n",
       "      <td>3.0</td>\n",
       "      <td>4</td>\n",
       "      <td>NaN</td>\n",
       "    </tr>\n",
       "    <tr>\n",
       "      <th>1</th>\n",
       "      <td>two</td>\n",
       "      <td>5</td>\n",
       "      <td>6</td>\n",
       "      <td>NaN</td>\n",
       "      <td>8</td>\n",
       "      <td>world</td>\n",
       "    </tr>\n",
       "    <tr>\n",
       "      <th>2</th>\n",
       "      <td>three</td>\n",
       "      <td>9</td>\n",
       "      <td>10</td>\n",
       "      <td>11.0</td>\n",
       "      <td>12</td>\n",
       "      <td>foo</td>\n",
       "    </tr>\n",
       "  </tbody>\n",
       "</table>\n",
       "</div>"
      ],
      "text/plain": [
       "  something  a   b     c   d message\n",
       "0       one  1   2   3.0   4     NaN\n",
       "1       two  5   6   NaN   8   world\n",
       "2     three  9  10  11.0  12     foo"
      ]
     },
     "execution_count": 37,
     "metadata": {},
     "output_type": "execute_result"
    }
   ],
   "source": [
    "result"
   ]
  },
  {
   "cell_type": "code",
   "execution_count": 38,
   "metadata": {},
   "outputs": [],
   "source": [
    "# sentinels"
   ]
  },
  {
   "cell_type": "code",
   "execution_count": 39,
   "metadata": {},
   "outputs": [],
   "source": [
    "sentinels = {'message': ['foo','NA'], 'something': ['two']}"
   ]
  },
  {
   "cell_type": "code",
   "execution_count": 40,
   "metadata": {},
   "outputs": [
    {
     "data": {
      "text/html": [
       "<div>\n",
       "<style scoped>\n",
       "    .dataframe tbody tr th:only-of-type {\n",
       "        vertical-align: middle;\n",
       "    }\n",
       "\n",
       "    .dataframe tbody tr th {\n",
       "        vertical-align: top;\n",
       "    }\n",
       "\n",
       "    .dataframe thead th {\n",
       "        text-align: right;\n",
       "    }\n",
       "</style>\n",
       "<table border=\"1\" class=\"dataframe\">\n",
       "  <thead>\n",
       "    <tr style=\"text-align: right;\">\n",
       "      <th></th>\n",
       "      <th>something</th>\n",
       "      <th>a</th>\n",
       "      <th>b</th>\n",
       "      <th>c</th>\n",
       "      <th>d</th>\n",
       "      <th>message</th>\n",
       "    </tr>\n",
       "  </thead>\n",
       "  <tbody>\n",
       "    <tr>\n",
       "      <th>0</th>\n",
       "      <td>one</td>\n",
       "      <td>1</td>\n",
       "      <td>2</td>\n",
       "      <td>3.0</td>\n",
       "      <td>4</td>\n",
       "      <td>NaN</td>\n",
       "    </tr>\n",
       "    <tr>\n",
       "      <th>1</th>\n",
       "      <td>NaN</td>\n",
       "      <td>5</td>\n",
       "      <td>6</td>\n",
       "      <td>NaN</td>\n",
       "      <td>8</td>\n",
       "      <td>world</td>\n",
       "    </tr>\n",
       "    <tr>\n",
       "      <th>2</th>\n",
       "      <td>three</td>\n",
       "      <td>9</td>\n",
       "      <td>10</td>\n",
       "      <td>11.0</td>\n",
       "      <td>12</td>\n",
       "      <td>NaN</td>\n",
       "    </tr>\n",
       "  </tbody>\n",
       "</table>\n",
       "</div>"
      ],
      "text/plain": [
       "  something  a   b     c   d message\n",
       "0       one  1   2   3.0   4     NaN\n",
       "1       NaN  5   6   NaN   8   world\n",
       "2     three  9  10  11.0  12     NaN"
      ]
     },
     "execution_count": 40,
     "metadata": {},
     "output_type": "execute_result"
    }
   ],
   "source": [
    "pd.read_csv('examples/ex5.csv', na_values=sentinels)"
   ]
  },
  {
   "cell_type": "code",
   "execution_count": 41,
   "metadata": {},
   "outputs": [],
   "source": [
    "# perhatikan word foo dan two akan menjadi NaN"
   ]
  },
  {
   "cell_type": "code",
   "execution_count": 42,
   "metadata": {},
   "outputs": [],
   "source": [
    "# READING TEXT FILES IN PIECES"
   ]
  },
  {
   "cell_type": "code",
   "execution_count": 44,
   "metadata": {},
   "outputs": [],
   "source": [
    "# setting pandas display hanya 10 baris\n",
    "pd.options.display.max_rows = 10"
   ]
  },
  {
   "cell_type": "code",
   "execution_count": 45,
   "metadata": {},
   "outputs": [],
   "source": [
    "result = pd.read_csv('examples/ex6.csv')"
   ]
  },
  {
   "cell_type": "code",
   "execution_count": 46,
   "metadata": {},
   "outputs": [
    {
     "data": {
      "text/html": [
       "<div>\n",
       "<style scoped>\n",
       "    .dataframe tbody tr th:only-of-type {\n",
       "        vertical-align: middle;\n",
       "    }\n",
       "\n",
       "    .dataframe tbody tr th {\n",
       "        vertical-align: top;\n",
       "    }\n",
       "\n",
       "    .dataframe thead th {\n",
       "        text-align: right;\n",
       "    }\n",
       "</style>\n",
       "<table border=\"1\" class=\"dataframe\">\n",
       "  <thead>\n",
       "    <tr style=\"text-align: right;\">\n",
       "      <th></th>\n",
       "      <th>one</th>\n",
       "      <th>two</th>\n",
       "      <th>three</th>\n",
       "      <th>four</th>\n",
       "      <th>key</th>\n",
       "    </tr>\n",
       "  </thead>\n",
       "  <tbody>\n",
       "    <tr>\n",
       "      <th>0</th>\n",
       "      <td>0.467976</td>\n",
       "      <td>-0.038649</td>\n",
       "      <td>-0.295344</td>\n",
       "      <td>-1.824726</td>\n",
       "      <td>L</td>\n",
       "    </tr>\n",
       "    <tr>\n",
       "      <th>1</th>\n",
       "      <td>-0.358893</td>\n",
       "      <td>1.404453</td>\n",
       "      <td>0.704965</td>\n",
       "      <td>-0.200638</td>\n",
       "      <td>B</td>\n",
       "    </tr>\n",
       "    <tr>\n",
       "      <th>2</th>\n",
       "      <td>-0.501840</td>\n",
       "      <td>0.659254</td>\n",
       "      <td>-0.421691</td>\n",
       "      <td>-0.057688</td>\n",
       "      <td>G</td>\n",
       "    </tr>\n",
       "    <tr>\n",
       "      <th>3</th>\n",
       "      <td>0.204886</td>\n",
       "      <td>1.074134</td>\n",
       "      <td>1.388361</td>\n",
       "      <td>-0.982404</td>\n",
       "      <td>R</td>\n",
       "    </tr>\n",
       "    <tr>\n",
       "      <th>4</th>\n",
       "      <td>0.354628</td>\n",
       "      <td>-0.133116</td>\n",
       "      <td>0.283763</td>\n",
       "      <td>-0.837063</td>\n",
       "      <td>Q</td>\n",
       "    </tr>\n",
       "    <tr>\n",
       "      <th>...</th>\n",
       "      <td>...</td>\n",
       "      <td>...</td>\n",
       "      <td>...</td>\n",
       "      <td>...</td>\n",
       "      <td>...</td>\n",
       "    </tr>\n",
       "    <tr>\n",
       "      <th>9995</th>\n",
       "      <td>2.311896</td>\n",
       "      <td>-0.417070</td>\n",
       "      <td>-1.409599</td>\n",
       "      <td>-0.515821</td>\n",
       "      <td>L</td>\n",
       "    </tr>\n",
       "    <tr>\n",
       "      <th>9996</th>\n",
       "      <td>-0.479893</td>\n",
       "      <td>-0.650419</td>\n",
       "      <td>0.745152</td>\n",
       "      <td>-0.646038</td>\n",
       "      <td>E</td>\n",
       "    </tr>\n",
       "    <tr>\n",
       "      <th>9997</th>\n",
       "      <td>0.523331</td>\n",
       "      <td>0.787112</td>\n",
       "      <td>0.486066</td>\n",
       "      <td>1.093156</td>\n",
       "      <td>K</td>\n",
       "    </tr>\n",
       "    <tr>\n",
       "      <th>9998</th>\n",
       "      <td>-0.362559</td>\n",
       "      <td>0.598894</td>\n",
       "      <td>-1.843201</td>\n",
       "      <td>0.887292</td>\n",
       "      <td>G</td>\n",
       "    </tr>\n",
       "    <tr>\n",
       "      <th>9999</th>\n",
       "      <td>-0.096376</td>\n",
       "      <td>-1.012999</td>\n",
       "      <td>-0.657431</td>\n",
       "      <td>-0.573315</td>\n",
       "      <td>0</td>\n",
       "    </tr>\n",
       "  </tbody>\n",
       "</table>\n",
       "<p>10000 rows × 5 columns</p>\n",
       "</div>"
      ],
      "text/plain": [
       "           one       two     three      four key\n",
       "0     0.467976 -0.038649 -0.295344 -1.824726   L\n",
       "1    -0.358893  1.404453  0.704965 -0.200638   B\n",
       "2    -0.501840  0.659254 -0.421691 -0.057688   G\n",
       "3     0.204886  1.074134  1.388361 -0.982404   R\n",
       "4     0.354628 -0.133116  0.283763 -0.837063   Q\n",
       "...        ...       ...       ...       ...  ..\n",
       "9995  2.311896 -0.417070 -1.409599 -0.515821   L\n",
       "9996 -0.479893 -0.650419  0.745152 -0.646038   E\n",
       "9997  0.523331  0.787112  0.486066  1.093156   K\n",
       "9998 -0.362559  0.598894 -1.843201  0.887292   G\n",
       "9999 -0.096376 -1.012999 -0.657431 -0.573315   0\n",
       "\n",
       "[10000 rows x 5 columns]"
      ]
     },
     "execution_count": 46,
     "metadata": {},
     "output_type": "execute_result"
    }
   ],
   "source": [
    "result"
   ]
  },
  {
   "cell_type": "code",
   "execution_count": 47,
   "metadata": {},
   "outputs": [],
   "source": [
    "pd.options.display.max_rows = 6"
   ]
  },
  {
   "cell_type": "code",
   "execution_count": 48,
   "metadata": {},
   "outputs": [
    {
     "data": {
      "text/html": [
       "<div>\n",
       "<style scoped>\n",
       "    .dataframe tbody tr th:only-of-type {\n",
       "        vertical-align: middle;\n",
       "    }\n",
       "\n",
       "    .dataframe tbody tr th {\n",
       "        vertical-align: top;\n",
       "    }\n",
       "\n",
       "    .dataframe thead th {\n",
       "        text-align: right;\n",
       "    }\n",
       "</style>\n",
       "<table border=\"1\" class=\"dataframe\">\n",
       "  <thead>\n",
       "    <tr style=\"text-align: right;\">\n",
       "      <th></th>\n",
       "      <th>one</th>\n",
       "      <th>two</th>\n",
       "      <th>three</th>\n",
       "      <th>four</th>\n",
       "      <th>key</th>\n",
       "    </tr>\n",
       "  </thead>\n",
       "  <tbody>\n",
       "    <tr>\n",
       "      <th>0</th>\n",
       "      <td>0.467976</td>\n",
       "      <td>-0.038649</td>\n",
       "      <td>-0.295344</td>\n",
       "      <td>-1.824726</td>\n",
       "      <td>L</td>\n",
       "    </tr>\n",
       "    <tr>\n",
       "      <th>1</th>\n",
       "      <td>-0.358893</td>\n",
       "      <td>1.404453</td>\n",
       "      <td>0.704965</td>\n",
       "      <td>-0.200638</td>\n",
       "      <td>B</td>\n",
       "    </tr>\n",
       "    <tr>\n",
       "      <th>2</th>\n",
       "      <td>-0.501840</td>\n",
       "      <td>0.659254</td>\n",
       "      <td>-0.421691</td>\n",
       "      <td>-0.057688</td>\n",
       "      <td>G</td>\n",
       "    </tr>\n",
       "    <tr>\n",
       "      <th>...</th>\n",
       "      <td>...</td>\n",
       "      <td>...</td>\n",
       "      <td>...</td>\n",
       "      <td>...</td>\n",
       "      <td>...</td>\n",
       "    </tr>\n",
       "    <tr>\n",
       "      <th>9997</th>\n",
       "      <td>0.523331</td>\n",
       "      <td>0.787112</td>\n",
       "      <td>0.486066</td>\n",
       "      <td>1.093156</td>\n",
       "      <td>K</td>\n",
       "    </tr>\n",
       "    <tr>\n",
       "      <th>9998</th>\n",
       "      <td>-0.362559</td>\n",
       "      <td>0.598894</td>\n",
       "      <td>-1.843201</td>\n",
       "      <td>0.887292</td>\n",
       "      <td>G</td>\n",
       "    </tr>\n",
       "    <tr>\n",
       "      <th>9999</th>\n",
       "      <td>-0.096376</td>\n",
       "      <td>-1.012999</td>\n",
       "      <td>-0.657431</td>\n",
       "      <td>-0.573315</td>\n",
       "      <td>0</td>\n",
       "    </tr>\n",
       "  </tbody>\n",
       "</table>\n",
       "<p>10000 rows × 5 columns</p>\n",
       "</div>"
      ],
      "text/plain": [
       "           one       two     three      four key\n",
       "0     0.467976 -0.038649 -0.295344 -1.824726   L\n",
       "1    -0.358893  1.404453  0.704965 -0.200638   B\n",
       "2    -0.501840  0.659254 -0.421691 -0.057688   G\n",
       "...        ...       ...       ...       ...  ..\n",
       "9997  0.523331  0.787112  0.486066  1.093156   K\n",
       "9998 -0.362559  0.598894 -1.843201  0.887292   G\n",
       "9999 -0.096376 -1.012999 -0.657431 -0.573315   0\n",
       "\n",
       "[10000 rows x 5 columns]"
      ]
     },
     "execution_count": 48,
     "metadata": {},
     "output_type": "execute_result"
    }
   ],
   "source": [
    "result"
   ]
  },
  {
   "cell_type": "code",
   "execution_count": 49,
   "metadata": {},
   "outputs": [],
   "source": [
    "pd.options.display.max_rows = 10"
   ]
  },
  {
   "cell_type": "code",
   "execution_count": 50,
   "metadata": {},
   "outputs": [],
   "source": [
    "# read a small number of rows"
   ]
  },
  {
   "cell_type": "code",
   "execution_count": 51,
   "metadata": {},
   "outputs": [
    {
     "data": {
      "text/html": [
       "<div>\n",
       "<style scoped>\n",
       "    .dataframe tbody tr th:only-of-type {\n",
       "        vertical-align: middle;\n",
       "    }\n",
       "\n",
       "    .dataframe tbody tr th {\n",
       "        vertical-align: top;\n",
       "    }\n",
       "\n",
       "    .dataframe thead th {\n",
       "        text-align: right;\n",
       "    }\n",
       "</style>\n",
       "<table border=\"1\" class=\"dataframe\">\n",
       "  <thead>\n",
       "    <tr style=\"text-align: right;\">\n",
       "      <th></th>\n",
       "      <th>one</th>\n",
       "      <th>two</th>\n",
       "      <th>three</th>\n",
       "      <th>four</th>\n",
       "      <th>key</th>\n",
       "    </tr>\n",
       "  </thead>\n",
       "  <tbody>\n",
       "    <tr>\n",
       "      <th>0</th>\n",
       "      <td>0.467976</td>\n",
       "      <td>-0.038649</td>\n",
       "      <td>-0.295344</td>\n",
       "      <td>-1.824726</td>\n",
       "      <td>L</td>\n",
       "    </tr>\n",
       "    <tr>\n",
       "      <th>1</th>\n",
       "      <td>-0.358893</td>\n",
       "      <td>1.404453</td>\n",
       "      <td>0.704965</td>\n",
       "      <td>-0.200638</td>\n",
       "      <td>B</td>\n",
       "    </tr>\n",
       "    <tr>\n",
       "      <th>2</th>\n",
       "      <td>-0.501840</td>\n",
       "      <td>0.659254</td>\n",
       "      <td>-0.421691</td>\n",
       "      <td>-0.057688</td>\n",
       "      <td>G</td>\n",
       "    </tr>\n",
       "    <tr>\n",
       "      <th>3</th>\n",
       "      <td>0.204886</td>\n",
       "      <td>1.074134</td>\n",
       "      <td>1.388361</td>\n",
       "      <td>-0.982404</td>\n",
       "      <td>R</td>\n",
       "    </tr>\n",
       "    <tr>\n",
       "      <th>4</th>\n",
       "      <td>0.354628</td>\n",
       "      <td>-0.133116</td>\n",
       "      <td>0.283763</td>\n",
       "      <td>-0.837063</td>\n",
       "      <td>Q</td>\n",
       "    </tr>\n",
       "    <tr>\n",
       "      <th>5</th>\n",
       "      <td>1.817480</td>\n",
       "      <td>0.742273</td>\n",
       "      <td>0.419395</td>\n",
       "      <td>-2.251035</td>\n",
       "      <td>Q</td>\n",
       "    </tr>\n",
       "  </tbody>\n",
       "</table>\n",
       "</div>"
      ],
      "text/plain": [
       "        one       two     three      four key\n",
       "0  0.467976 -0.038649 -0.295344 -1.824726   L\n",
       "1 -0.358893  1.404453  0.704965 -0.200638   B\n",
       "2 -0.501840  0.659254 -0.421691 -0.057688   G\n",
       "3  0.204886  1.074134  1.388361 -0.982404   R\n",
       "4  0.354628 -0.133116  0.283763 -0.837063   Q\n",
       "5  1.817480  0.742273  0.419395 -2.251035   Q"
      ]
     },
     "execution_count": 51,
     "metadata": {},
     "output_type": "execute_result"
    }
   ],
   "source": [
    "pd.read_csv('examples/ex6.csv', nrows = 6)"
   ]
  },
  {
   "cell_type": "markdown",
   "metadata": {},
   "source": [
    "specify a chunksize as a number of rows <br>\n",
    "The parameter essentially means the number of rows to be read into a dataframe at any single time in order to fit into the local memory."
   ]
  },
  {
   "cell_type": "code",
   "execution_count": 18,
   "metadata": {},
   "outputs": [],
   "source": [
    "chunker = pd.read_csv('examples/ex6.csv', chunksize=1000)"
   ]
  },
  {
   "cell_type": "code",
   "execution_count": 19,
   "metadata": {},
   "outputs": [
    {
     "data": {
      "text/plain": [
       "<pandas.io.parsers.TextFileReader at 0x7f1da0b90710>"
      ]
     },
     "execution_count": 19,
     "metadata": {},
     "output_type": "execute_result"
    }
   ],
   "source": [
    "chunker"
   ]
  },
  {
   "cell_type": "code",
   "execution_count": 20,
   "metadata": {},
   "outputs": [
    {
     "data": {
      "text/plain": [
       "pandas.io.parsers.TextFileReader"
      ]
     },
     "execution_count": 20,
     "metadata": {},
     "output_type": "execute_result"
    }
   ],
   "source": [
    "type(chunker)"
   ]
  },
  {
   "cell_type": "code",
   "execution_count": 21,
   "metadata": {},
   "outputs": [
    {
     "name": "stderr",
     "output_type": "stream",
     "text": [
      "/home/unstoppable/anaconda3/lib/python3.7/site-packages/ipykernel_launcher.py:1: DeprecationWarning: The default dtype for empty Series will be 'object' instead of 'float64' in a future version. Specify a dtype explicitly to silence this warning.\n",
      "  \"\"\"Entry point for launching an IPython kernel.\n"
     ]
    }
   ],
   "source": [
    "tot = pd.Series([])"
   ]
  },
  {
   "cell_type": "code",
   "execution_count": 22,
   "metadata": {},
   "outputs": [],
   "source": [
    "for piece in chunker:\n",
    "    tot = tot.add(piece['key'].value_counts(), fill_value=0)"
   ]
  },
  {
   "cell_type": "code",
   "execution_count": 23,
   "metadata": {},
   "outputs": [
    {
     "data": {
      "text/plain": [
       "pandas.core.series.Series"
      ]
     },
     "execution_count": 23,
     "metadata": {},
     "output_type": "execute_result"
    }
   ],
   "source": [
    "type(tot)"
   ]
  },
  {
   "cell_type": "code",
   "execution_count": 24,
   "metadata": {},
   "outputs": [],
   "source": [
    "tot = tot.sort_values(ascending=False)"
   ]
  },
  {
   "cell_type": "code",
   "execution_count": 25,
   "metadata": {},
   "outputs": [
    {
     "data": {
      "text/plain": [
       "E    368.0\n",
       "X    364.0\n",
       "L    346.0\n",
       "O    343.0\n",
       "Q    340.0\n",
       "M    338.0\n",
       "J    337.0\n",
       "F    335.0\n",
       "K    334.0\n",
       "H    330.0\n",
       "dtype: float64"
      ]
     },
     "execution_count": 25,
     "metadata": {},
     "output_type": "execute_result"
    }
   ],
   "source": [
    "tot[:10]"
   ]
  },
  {
   "cell_type": "code",
   "execution_count": 26,
   "metadata": {},
   "outputs": [
    {
     "data": {
      "text/plain": [
       "E    368.0\n",
       "X    364.0\n",
       "L    346.0\n",
       "O    343.0\n",
       "Q    340.0\n",
       "M    338.0\n",
       "J    337.0\n",
       "F    335.0\n",
       "K    334.0\n",
       "H    330.0\n",
       "V    328.0\n",
       "I    327.0\n",
       "U    326.0\n",
       "P    324.0\n",
       "D    320.0\n",
       "A    320.0\n",
       "R    318.0\n",
       "Y    314.0\n",
       "G    308.0\n",
       "S    308.0\n",
       "N    306.0\n",
       "W    305.0\n",
       "T    304.0\n",
       "B    302.0\n",
       "Z    288.0\n",
       "C    286.0\n",
       "4    171.0\n",
       "6    166.0\n",
       "7    164.0\n",
       "8    162.0\n",
       "3    162.0\n",
       "5    157.0\n",
       "2    152.0\n",
       "0    151.0\n",
       "9    150.0\n",
       "1    146.0\n",
       "dtype: float64"
      ]
     },
     "execution_count": 26,
     "metadata": {},
     "output_type": "execute_result"
    }
   ],
   "source": [
    "tot"
   ]
  },
  {
   "cell_type": "code",
   "execution_count": 27,
   "metadata": {},
   "outputs": [],
   "source": [
    "# WRITING DATA TO TECT FORMAT"
   ]
  },
  {
   "cell_type": "code",
   "execution_count": 28,
   "metadata": {},
   "outputs": [
    {
     "name": "stdout",
     "output_type": "stream",
     "text": [
      "something,a,b,c,d,message\r\n",
      "one,1,2,3,4,NA\r\n",
      "two,5,6,,8,world\r\n",
      "three,9,10,11,12,foo"
     ]
    }
   ],
   "source": [
    "!cat examples/ex5.csv"
   ]
  },
  {
   "cell_type": "code",
   "execution_count": 29,
   "metadata": {},
   "outputs": [],
   "source": [
    "data = pd.read_csv('examples/ex5.csv')"
   ]
  },
  {
   "cell_type": "code",
   "execution_count": 30,
   "metadata": {},
   "outputs": [
    {
     "data": {
      "text/html": [
       "<div>\n",
       "<style scoped>\n",
       "    .dataframe tbody tr th:only-of-type {\n",
       "        vertical-align: middle;\n",
       "    }\n",
       "\n",
       "    .dataframe tbody tr th {\n",
       "        vertical-align: top;\n",
       "    }\n",
       "\n",
       "    .dataframe thead th {\n",
       "        text-align: right;\n",
       "    }\n",
       "</style>\n",
       "<table border=\"1\" class=\"dataframe\">\n",
       "  <thead>\n",
       "    <tr style=\"text-align: right;\">\n",
       "      <th></th>\n",
       "      <th>something</th>\n",
       "      <th>a</th>\n",
       "      <th>b</th>\n",
       "      <th>c</th>\n",
       "      <th>d</th>\n",
       "      <th>message</th>\n",
       "    </tr>\n",
       "  </thead>\n",
       "  <tbody>\n",
       "    <tr>\n",
       "      <th>0</th>\n",
       "      <td>one</td>\n",
       "      <td>1</td>\n",
       "      <td>2</td>\n",
       "      <td>3.0</td>\n",
       "      <td>4</td>\n",
       "      <td>NaN</td>\n",
       "    </tr>\n",
       "    <tr>\n",
       "      <th>1</th>\n",
       "      <td>two</td>\n",
       "      <td>5</td>\n",
       "      <td>6</td>\n",
       "      <td>NaN</td>\n",
       "      <td>8</td>\n",
       "      <td>world</td>\n",
       "    </tr>\n",
       "    <tr>\n",
       "      <th>2</th>\n",
       "      <td>three</td>\n",
       "      <td>9</td>\n",
       "      <td>10</td>\n",
       "      <td>11.0</td>\n",
       "      <td>12</td>\n",
       "      <td>foo</td>\n",
       "    </tr>\n",
       "  </tbody>\n",
       "</table>\n",
       "</div>"
      ],
      "text/plain": [
       "  something  a   b     c   d message\n",
       "0       one  1   2   3.0   4     NaN\n",
       "1       two  5   6   NaN   8   world\n",
       "2     three  9  10  11.0  12     foo"
      ]
     },
     "execution_count": 30,
     "metadata": {},
     "output_type": "execute_result"
    }
   ],
   "source": [
    "data"
   ]
  },
  {
   "cell_type": "code",
   "execution_count": 31,
   "metadata": {},
   "outputs": [],
   "source": [
    "data.to_csv('examples/out.csv')"
   ]
  },
  {
   "cell_type": "code",
   "execution_count": 32,
   "metadata": {},
   "outputs": [
    {
     "name": "stdout",
     "output_type": "stream",
     "text": [
      ",something,a,b,c,d,message\r\n",
      "0,one,1,2,3.0,4,\r\n",
      "1,two,5,6,,8,world\r\n",
      "2,three,9,10,11.0,12,foo\r\n"
     ]
    }
   ],
   "source": [
    "!cat examples/out.csv"
   ]
  },
  {
   "cell_type": "code",
   "execution_count": 33,
   "metadata": {},
   "outputs": [],
   "source": [
    "# writing to sys.stdout so it prints the text result to the console"
   ]
  },
  {
   "cell_type": "code",
   "execution_count": 34,
   "metadata": {},
   "outputs": [],
   "source": [
    "import sys"
   ]
  },
  {
   "cell_type": "code",
   "execution_count": 35,
   "metadata": {},
   "outputs": [
    {
     "name": "stdout",
     "output_type": "stream",
     "text": [
      "|something|a|b|c|d|message\n",
      "0|one|1|2|3.0|4|\n",
      "1|two|5|6||8|world\n",
      "2|three|9|10|11.0|12|foo\n"
     ]
    }
   ],
   "source": [
    "data.to_csv(sys.stdout, sep='|')"
   ]
  },
  {
   "cell_type": "markdown",
   "metadata": {},
   "source": [
    "Missing values appear as empty strings in the output. You might want to denote them by some other sentinel value:"
   ]
  },
  {
   "cell_type": "code",
   "execution_count": 36,
   "metadata": {},
   "outputs": [
    {
     "name": "stdout",
     "output_type": "stream",
     "text": [
      ",something,a,b,c,d,message\n",
      "0,one,1,2,3.0,4,NULL\n",
      "1,two,5,6,NULL,8,world\n",
      "2,three,9,10,11.0,12,foo\n"
     ]
    }
   ],
   "source": [
    "data.to_csv(sys.stdout, na_rep='NULL')"
   ]
  },
  {
   "cell_type": "code",
   "execution_count": 37,
   "metadata": {},
   "outputs": [
    {
     "name": "stdout",
     "output_type": "stream",
     "text": [
      "one,1,2,3.0,4,\n",
      "two,5,6,,8,world\n",
      "three,9,10,11.0,12,foo\n"
     ]
    }
   ],
   "source": [
    "data.to_csv(sys.stdout, index=False, header=False)"
   ]
  },
  {
   "cell_type": "markdown",
   "metadata": {},
   "source": [
    "write only a subset of the columns, and in an order of your choosing:"
   ]
  },
  {
   "cell_type": "code",
   "execution_count": 38,
   "metadata": {},
   "outputs": [
    {
     "name": "stdout",
     "output_type": "stream",
     "text": [
      "a,b,c\n",
      "1,2,3.0\n",
      "5,6,\n",
      "9,10,11.0\n"
     ]
    }
   ],
   "source": [
    "data.to_csv(sys.stdout, index=False, columns=['a','b','c'])"
   ]
  },
  {
   "cell_type": "markdown",
   "metadata": {},
   "source": [
    "Series also has to_csv method:"
   ]
  },
  {
   "cell_type": "code",
   "execution_count": 39,
   "metadata": {},
   "outputs": [],
   "source": [
    "dates = pd.date_range('1/1/2000', periods=7)"
   ]
  },
  {
   "cell_type": "code",
   "execution_count": 40,
   "metadata": {},
   "outputs": [
    {
     "data": {
      "text/plain": [
       "DatetimeIndex(['2000-01-01', '2000-01-02', '2000-01-03', '2000-01-04',\n",
       "               '2000-01-05', '2000-01-06', '2000-01-07'],\n",
       "              dtype='datetime64[ns]', freq='D')"
      ]
     },
     "execution_count": 40,
     "metadata": {},
     "output_type": "execute_result"
    }
   ],
   "source": [
    "dates"
   ]
  },
  {
   "cell_type": "code",
   "execution_count": 2,
   "metadata": {},
   "outputs": [],
   "source": [
    "import numpy as np"
   ]
  },
  {
   "cell_type": "code",
   "execution_count": 42,
   "metadata": {},
   "outputs": [],
   "source": [
    "ts = pd.Series(np.arange(7), index=dates)"
   ]
  },
  {
   "cell_type": "code",
   "execution_count": 43,
   "metadata": {},
   "outputs": [
    {
     "data": {
      "text/plain": [
       "2000-01-01    0\n",
       "2000-01-02    1\n",
       "2000-01-03    2\n",
       "2000-01-04    3\n",
       "2000-01-05    4\n",
       "2000-01-06    5\n",
       "2000-01-07    6\n",
       "Freq: D, dtype: int64"
      ]
     },
     "execution_count": 43,
     "metadata": {},
     "output_type": "execute_result"
    }
   ],
   "source": [
    "ts"
   ]
  },
  {
   "cell_type": "code",
   "execution_count": 44,
   "metadata": {},
   "outputs": [],
   "source": [
    "ts.to_csv('examples/tseries.csv')"
   ]
  },
  {
   "cell_type": "code",
   "execution_count": 45,
   "metadata": {},
   "outputs": [
    {
     "name": "stdout",
     "output_type": "stream",
     "text": [
      ",0\r\n",
      "2000-01-01,0\r\n",
      "2000-01-02,1\r\n",
      "2000-01-03,2\r\n",
      "2000-01-04,3\r\n",
      "2000-01-05,4\r\n",
      "2000-01-06,5\r\n",
      "2000-01-07,6\r\n"
     ]
    }
   ],
   "source": [
    "!cat examples/tseries.csv"
   ]
  },
  {
   "cell_type": "code",
   "execution_count": 46,
   "metadata": {},
   "outputs": [],
   "source": [
    "# WORKING WITH DELIMITED FORMATS"
   ]
  },
  {
   "cell_type": "code",
   "execution_count": 47,
   "metadata": {},
   "outputs": [
    {
     "name": "stdout",
     "output_type": "stream",
     "text": [
      "\"a\",\"b\",\"c\"\r\n",
      "\"1\",\"2\",\"3\"\r\n",
      "\"1\",\"2\",\"3\"\r\n"
     ]
    }
   ],
   "source": [
    "!cat examples/ex7.csv"
   ]
  },
  {
   "cell_type": "code",
   "execution_count": 48,
   "metadata": {},
   "outputs": [],
   "source": [
    "import csv"
   ]
  },
  {
   "cell_type": "code",
   "execution_count": 49,
   "metadata": {},
   "outputs": [],
   "source": [
    "f = open('examples/ex7.csv')"
   ]
  },
  {
   "cell_type": "code",
   "execution_count": 50,
   "metadata": {},
   "outputs": [],
   "source": [
    "reader = csv.reader(f)"
   ]
  },
  {
   "cell_type": "code",
   "execution_count": 51,
   "metadata": {},
   "outputs": [
    {
     "data": {
      "text/plain": [
       "<_csv.reader at 0x7f1da0a254d0>"
      ]
     },
     "execution_count": 51,
     "metadata": {},
     "output_type": "execute_result"
    }
   ],
   "source": [
    "reader"
   ]
  },
  {
   "cell_type": "code",
   "execution_count": 52,
   "metadata": {},
   "outputs": [
    {
     "data": {
      "text/plain": [
       "_csv.reader"
      ]
     },
     "execution_count": 52,
     "metadata": {},
     "output_type": "execute_result"
    }
   ],
   "source": [
    "type(reader)"
   ]
  },
  {
   "cell_type": "code",
   "execution_count": 53,
   "metadata": {},
   "outputs": [
    {
     "name": "stdout",
     "output_type": "stream",
     "text": [
      "['a', 'b', 'c']\n",
      "['1', '2', '3']\n",
      "['1', '2', '3']\n"
     ]
    }
   ],
   "source": [
    "for line in reader:\n",
    "    print(line)"
   ]
  },
  {
   "cell_type": "code",
   "execution_count": 54,
   "metadata": {},
   "outputs": [],
   "source": [
    "with open('examples/ex7.csv') as f:\n",
    "    lines = list(csv.reader(f))"
   ]
  },
  {
   "cell_type": "code",
   "execution_count": 55,
   "metadata": {},
   "outputs": [
    {
     "data": {
      "text/plain": [
       "[['a', 'b', 'c'], ['1', '2', '3'], ['1', '2', '3']]"
      ]
     },
     "execution_count": 55,
     "metadata": {},
     "output_type": "execute_result"
    }
   ],
   "source": [
    "lines"
   ]
  },
  {
   "cell_type": "code",
   "execution_count": 56,
   "metadata": {},
   "outputs": [],
   "source": [
    "header, values = lines[0], lines[1:]"
   ]
  },
  {
   "cell_type": "code",
   "execution_count": 57,
   "metadata": {},
   "outputs": [],
   "source": [
    "# create dict from list\n",
    "data_dict = {h: v for h, v in zip(header, zip(*values))}"
   ]
  },
  {
   "cell_type": "code",
   "execution_count": 58,
   "metadata": {},
   "outputs": [
    {
     "data": {
      "text/plain": [
       "{'a': ('1', '1'), 'b': ('2', '2'), 'c': ('3', '3')}"
      ]
     },
     "execution_count": 58,
     "metadata": {},
     "output_type": "execute_result"
    }
   ],
   "source": [
    "data_dict"
   ]
  },
  {
   "cell_type": "code",
   "execution_count": 63,
   "metadata": {},
   "outputs": [],
   "source": [
    "class my_dialect(csv.Dialect):\n",
    "    lineterminator = '\\n'\n",
    "    delimiter = ';'\n",
    "    quotechar = '\"'\n",
    "    quoting = csv.QUOTE_MINIMAL"
   ]
  },
  {
   "cell_type": "code",
   "execution_count": 64,
   "metadata": {},
   "outputs": [],
   "source": [
    "f = open('examples/ex7.csv')"
   ]
  },
  {
   "cell_type": "code",
   "execution_count": 67,
   "metadata": {},
   "outputs": [],
   "source": [
    "reader = csv.reader(f, dialect=my_dialect)"
   ]
  },
  {
   "cell_type": "code",
   "execution_count": 68,
   "metadata": {},
   "outputs": [
    {
     "data": {
      "text/plain": [
       "<_csv.reader at 0x7f1d9ff3bf50>"
      ]
     },
     "execution_count": 68,
     "metadata": {},
     "output_type": "execute_result"
    }
   ],
   "source": [
    "reader"
   ]
  },
  {
   "cell_type": "code",
   "execution_count": 66,
   "metadata": {},
   "outputs": [],
   "source": [
    "reader = csv.reader(f, delimiter='|')"
   ]
  },
  {
   "cell_type": "code",
   "execution_count": 69,
   "metadata": {},
   "outputs": [
    {
     "data": {
      "text/plain": [
       "<_csv.reader at 0x7f1d9ff3bf50>"
      ]
     },
     "execution_count": 69,
     "metadata": {},
     "output_type": "execute_result"
    }
   ],
   "source": [
    "reader"
   ]
  },
  {
   "cell_type": "code",
   "execution_count": 70,
   "metadata": {},
   "outputs": [
    {
     "data": {
      "text/plain": [
       "<_csv.reader at 0x7f1d9ff3bf50>"
      ]
     },
     "execution_count": 70,
     "metadata": {},
     "output_type": "execute_result"
    }
   ],
   "source": [
    "reader"
   ]
  },
  {
   "cell_type": "code",
   "execution_count": 71,
   "metadata": {},
   "outputs": [],
   "source": [
    "# write delimited files manually"
   ]
  },
  {
   "cell_type": "code",
   "execution_count": 72,
   "metadata": {},
   "outputs": [],
   "source": [
    "with open('mydata.csv', 'w') as f:\n",
    "    writer = csv.writer(f, dialect=my_dialect)\n",
    "    writer.writerow(('one','two','three'))\n",
    "    writer.writerow(('1','2','3'))\n",
    "    writer.writerow(('4','5','6'))\n",
    "    writer.writerow(('7','8','9'))"
   ]
  },
  {
   "cell_type": "code",
   "execution_count": 73,
   "metadata": {},
   "outputs": [
    {
     "name": "stdout",
     "output_type": "stream",
     "text": [
      "\"a\",\"b\",\"c\"\r\n",
      "\"1\",\"2\",\"3\"\r\n",
      "\"1\",\"2\",\"3\"\r\n"
     ]
    }
   ],
   "source": [
    "!cat examples/ex7.csv"
   ]
  },
  {
   "cell_type": "code",
   "execution_count": 74,
   "metadata": {},
   "outputs": [],
   "source": [
    "#JSON DATA"
   ]
  },
  {
   "cell_type": "code",
   "execution_count": 75,
   "metadata": {},
   "outputs": [],
   "source": [
    "import json"
   ]
  },
  {
   "cell_type": "code",
   "execution_count": 76,
   "metadata": {},
   "outputs": [],
   "source": [
    "obj = \"\"\"\n",
    "{\n",
    "    \"name\": \"Wes\",\n",
    "    \"places_lived\": [\"United States\", \"Spain\", \"Germany\"],\n",
    "    \"pet\": null,\n",
    "    \"siblings\": [\n",
    "        {\n",
    "            \"name\": \"Scott\", \"age\": 30, \"pets\": [\"Zeus\",\"Zuko\"]\n",
    "        },\n",
    "        {\n",
    "            \"name\": \"Ketie\", \"age\": 38, \"pets\": [\"Sixes\", \"Stache\", \"Cisco\"]\n",
    "        }\n",
    "    ]\n",
    "}\n",
    "\"\"\""
   ]
  },
  {
   "cell_type": "code",
   "execution_count": 77,
   "metadata": {},
   "outputs": [
    {
     "data": {
      "text/plain": [
       "'\\n{\\n    \"name\": \"Wes\",\\n    \"places_lived\": [\"United States\", \"Spain\", \"Germany\"],\\n    \"pet\": null,\\n    \"siblings\": [\\n        {\\n            \"name\": \"Scott\", \"age\": 30, \"pets\": [\"Zeus\",\"Zuko\"]\\n        },\\n        {\\n            \"name\": \"Ketie\", \"age\": 38, \"pets\": [\"Sixes\", \"Stache\", \"Cisco\"]\\n        }\\n    ]\\n}\\n'"
      ]
     },
     "execution_count": 77,
     "metadata": {},
     "output_type": "execute_result"
    }
   ],
   "source": [
    "obj"
   ]
  },
  {
   "cell_type": "code",
   "execution_count": 78,
   "metadata": {},
   "outputs": [],
   "source": [
    "# convert a json string to python form\n",
    "result = json.loads(obj)"
   ]
  },
  {
   "cell_type": "code",
   "execution_count": 79,
   "metadata": {},
   "outputs": [
    {
     "data": {
      "text/plain": [
       "{'name': 'Wes',\n",
       " 'places_lived': ['United States', 'Spain', 'Germany'],\n",
       " 'pet': None,\n",
       " 'siblings': [{'name': 'Scott', 'age': 30, 'pets': ['Zeus', 'Zuko']},\n",
       "  {'name': 'Ketie', 'age': 38, 'pets': ['Sixes', 'Stache', 'Cisco']}]}"
      ]
     },
     "execution_count": 79,
     "metadata": {},
     "output_type": "execute_result"
    }
   ],
   "source": [
    "result"
   ]
  },
  {
   "cell_type": "code",
   "execution_count": 80,
   "metadata": {},
   "outputs": [],
   "source": [
    "# convert a python object to json"
   ]
  },
  {
   "cell_type": "code",
   "execution_count": 81,
   "metadata": {},
   "outputs": [],
   "source": [
    "asjson = json.dumps(result)"
   ]
  },
  {
   "cell_type": "code",
   "execution_count": 82,
   "metadata": {},
   "outputs": [
    {
     "data": {
      "text/plain": [
       "'{\"name\": \"Wes\", \"places_lived\": [\"United States\", \"Spain\", \"Germany\"], \"pet\": null, \"siblings\": [{\"name\": \"Scott\", \"age\": 30, \"pets\": [\"Zeus\", \"Zuko\"]}, {\"name\": \"Ketie\", \"age\": 38, \"pets\": [\"Sixes\", \"Stache\", \"Cisco\"]}]}'"
      ]
     },
     "execution_count": 82,
     "metadata": {},
     "output_type": "execute_result"
    }
   ],
   "source": [
    "asjson"
   ]
  },
  {
   "cell_type": "code",
   "execution_count": 83,
   "metadata": {},
   "outputs": [],
   "source": [
    "# convert a JSON object or list of object to a DataFrame"
   ]
  },
  {
   "cell_type": "code",
   "execution_count": 84,
   "metadata": {},
   "outputs": [
    {
     "data": {
      "text/plain": [
       "[{'name': 'Scott', 'age': 30, 'pets': ['Zeus', 'Zuko']},\n",
       " {'name': 'Ketie', 'age': 38, 'pets': ['Sixes', 'Stache', 'Cisco']}]"
      ]
     },
     "execution_count": 84,
     "metadata": {},
     "output_type": "execute_result"
    }
   ],
   "source": [
    "result['siblings']"
   ]
  },
  {
   "cell_type": "code",
   "execution_count": 85,
   "metadata": {},
   "outputs": [],
   "source": [
    "siblings = pd.DataFrame(result['siblings'], columns=['name','age'])"
   ]
  },
  {
   "cell_type": "code",
   "execution_count": 86,
   "metadata": {},
   "outputs": [
    {
     "data": {
      "text/html": [
       "<div>\n",
       "<style scoped>\n",
       "    .dataframe tbody tr th:only-of-type {\n",
       "        vertical-align: middle;\n",
       "    }\n",
       "\n",
       "    .dataframe tbody tr th {\n",
       "        vertical-align: top;\n",
       "    }\n",
       "\n",
       "    .dataframe thead th {\n",
       "        text-align: right;\n",
       "    }\n",
       "</style>\n",
       "<table border=\"1\" class=\"dataframe\">\n",
       "  <thead>\n",
       "    <tr style=\"text-align: right;\">\n",
       "      <th></th>\n",
       "      <th>name</th>\n",
       "      <th>age</th>\n",
       "    </tr>\n",
       "  </thead>\n",
       "  <tbody>\n",
       "    <tr>\n",
       "      <th>0</th>\n",
       "      <td>Scott</td>\n",
       "      <td>30</td>\n",
       "    </tr>\n",
       "    <tr>\n",
       "      <th>1</th>\n",
       "      <td>Ketie</td>\n",
       "      <td>38</td>\n",
       "    </tr>\n",
       "  </tbody>\n",
       "</table>\n",
       "</div>"
      ],
      "text/plain": [
       "    name  age\n",
       "0  Scott   30\n",
       "1  Ketie   38"
      ]
     },
     "execution_count": 86,
     "metadata": {},
     "output_type": "execute_result"
    }
   ],
   "source": [
    "siblings"
   ]
  },
  {
   "cell_type": "code",
   "execution_count": 87,
   "metadata": {},
   "outputs": [],
   "source": [
    "# Convert JSON datasets in specific arrangements into a Series or DataFrame"
   ]
  },
  {
   "cell_type": "code",
   "execution_count": 88,
   "metadata": {},
   "outputs": [
    {
     "name": "stdout",
     "output_type": "stream",
     "text": [
      "cat: examples/examples.json: No such file or directory\r\n"
     ]
    }
   ],
   "source": [
    "!cat examples/examples.json"
   ]
  },
  {
   "cell_type": "code",
   "execution_count": 89,
   "metadata": {},
   "outputs": [
    {
     "name": "stdout",
     "output_type": "stream",
     "text": [
      "[{\"a\": 1, \"b\": 2, \"c\": 3},\r\n",
      " {\"a\": 4, \"b\": 5, \"c\": 6},\r\n",
      " {\"a\": 7, \"b\": 8, \"c\": 9}]\r\n"
     ]
    }
   ],
   "source": [
    "!cat examples/example.json"
   ]
  },
  {
   "cell_type": "code",
   "execution_count": 90,
   "metadata": {},
   "outputs": [],
   "source": [
    "data = pd.read_json('examples/example.json')"
   ]
  },
  {
   "cell_type": "code",
   "execution_count": 91,
   "metadata": {},
   "outputs": [
    {
     "data": {
      "text/html": [
       "<div>\n",
       "<style scoped>\n",
       "    .dataframe tbody tr th:only-of-type {\n",
       "        vertical-align: middle;\n",
       "    }\n",
       "\n",
       "    .dataframe tbody tr th {\n",
       "        vertical-align: top;\n",
       "    }\n",
       "\n",
       "    .dataframe thead th {\n",
       "        text-align: right;\n",
       "    }\n",
       "</style>\n",
       "<table border=\"1\" class=\"dataframe\">\n",
       "  <thead>\n",
       "    <tr style=\"text-align: right;\">\n",
       "      <th></th>\n",
       "      <th>a</th>\n",
       "      <th>b</th>\n",
       "      <th>c</th>\n",
       "    </tr>\n",
       "  </thead>\n",
       "  <tbody>\n",
       "    <tr>\n",
       "      <th>0</th>\n",
       "      <td>1</td>\n",
       "      <td>2</td>\n",
       "      <td>3</td>\n",
       "    </tr>\n",
       "    <tr>\n",
       "      <th>1</th>\n",
       "      <td>4</td>\n",
       "      <td>5</td>\n",
       "      <td>6</td>\n",
       "    </tr>\n",
       "    <tr>\n",
       "      <th>2</th>\n",
       "      <td>7</td>\n",
       "      <td>8</td>\n",
       "      <td>9</td>\n",
       "    </tr>\n",
       "  </tbody>\n",
       "</table>\n",
       "</div>"
      ],
      "text/plain": [
       "   a  b  c\n",
       "0  1  2  3\n",
       "1  4  5  6\n",
       "2  7  8  9"
      ]
     },
     "execution_count": 91,
     "metadata": {},
     "output_type": "execute_result"
    }
   ],
   "source": [
    "data"
   ]
  },
  {
   "cell_type": "code",
   "execution_count": 92,
   "metadata": {},
   "outputs": [],
   "source": [
    "# convert data form pandas to JSON"
   ]
  },
  {
   "cell_type": "code",
   "execution_count": 93,
   "metadata": {},
   "outputs": [
    {
     "name": "stdout",
     "output_type": "stream",
     "text": [
      "{\"a\":{\"0\":1,\"1\":4,\"2\":7},\"b\":{\"0\":2,\"1\":5,\"2\":8},\"c\":{\"0\":3,\"1\":6,\"2\":9}}\n"
     ]
    }
   ],
   "source": [
    "print(data.to_json())"
   ]
  },
  {
   "cell_type": "code",
   "execution_count": 94,
   "metadata": {},
   "outputs": [
    {
     "name": "stdout",
     "output_type": "stream",
     "text": [
      "[{\"a\":1,\"b\":2,\"c\":3},{\"a\":4,\"b\":5,\"c\":6},{\"a\":7,\"b\":8,\"c\":9}]\n"
     ]
    }
   ],
   "source": [
    "print(data.to_json(orient='records'))"
   ]
  },
  {
   "cell_type": "code",
   "execution_count": 95,
   "metadata": {},
   "outputs": [],
   "source": [
    "# XML AND HTML: WEB SCRAPING"
   ]
  },
  {
   "cell_type": "code",
   "execution_count": 99,
   "metadata": {},
   "outputs": [],
   "source": [
    "tables = pd.read_html('examples/fdic_failed_bank_list.html')"
   ]
  },
  {
   "cell_type": "code",
   "execution_count": 100,
   "metadata": {},
   "outputs": [
    {
     "data": {
      "text/plain": [
       "[                             Bank Name             City  ST   CERT  \\\n",
       " 0                          Allied Bank         Mulberry  AR     91   \n",
       " 1         The Woodbury Banking Company         Woodbury  GA  11297   \n",
       " 2               First CornerStone Bank  King of Prussia  PA  35312   \n",
       " 3                   Trust Company Bank          Memphis  TN   9956   \n",
       " 4           North Milwaukee State Bank        Milwaukee  WI  20364   \n",
       " ..                                 ...              ...  ..    ...   \n",
       " 542                 Superior Bank, FSB         Hinsdale  IL  32646   \n",
       " 543                Malta National Bank            Malta  OH   6629   \n",
       " 544    First Alliance Bank & Trust Co.       Manchester  NH  34264   \n",
       " 545  National State Bank of Metropolis       Metropolis  IL   3815   \n",
       " 546                   Bank of Honolulu         Honolulu  HI  21029   \n",
       " \n",
       "                    Acquiring Institution        Closing Date  \\\n",
       " 0                           Today's Bank  September 23, 2016   \n",
       " 1                            United Bank     August 19, 2016   \n",
       " 2    First-Citizens Bank & Trust Company         May 6, 2016   \n",
       " 3             The Bank of Fayette County      April 29, 2016   \n",
       " 4    First-Citizens Bank & Trust Company      March 11, 2016   \n",
       " ..                                   ...                 ...   \n",
       " 542                Superior Federal, FSB       July 27, 2001   \n",
       " 543                    North Valley Bank         May 3, 2001   \n",
       " 544  Southern New Hampshire Bank & Trust    February 2, 2001   \n",
       " 545              Banterra Bank of Marion   December 14, 2000   \n",
       " 546                   Bank of the Orient    October 13, 2000   \n",
       " \n",
       "           Updated Date  \n",
       " 0    November 17, 2016  \n",
       " 1    November 17, 2016  \n",
       " 2    September 6, 2016  \n",
       " 3    September 6, 2016  \n",
       " 4        June 16, 2016  \n",
       " ..                 ...  \n",
       " 542    August 19, 2014  \n",
       " 543  November 18, 2002  \n",
       " 544  February 18, 2003  \n",
       " 545     March 17, 2005  \n",
       " 546     March 17, 2005  \n",
       " \n",
       " [547 rows x 7 columns]]"
      ]
     },
     "execution_count": 100,
     "metadata": {},
     "output_type": "execute_result"
    }
   ],
   "source": [
    "tables"
   ]
  },
  {
   "cell_type": "code",
   "execution_count": 102,
   "metadata": {},
   "outputs": [
    {
     "data": {
      "text/plain": [
       "1"
      ]
     },
     "execution_count": 102,
     "metadata": {},
     "output_type": "execute_result"
    }
   ],
   "source": [
    "len(tables)"
   ]
  },
  {
   "cell_type": "code",
   "execution_count": 103,
   "metadata": {},
   "outputs": [],
   "source": [
    "failures = tables[0]"
   ]
  },
  {
   "cell_type": "code",
   "execution_count": 104,
   "metadata": {},
   "outputs": [
    {
     "data": {
      "text/html": [
       "<div>\n",
       "<style scoped>\n",
       "    .dataframe tbody tr th:only-of-type {\n",
       "        vertical-align: middle;\n",
       "    }\n",
       "\n",
       "    .dataframe tbody tr th {\n",
       "        vertical-align: top;\n",
       "    }\n",
       "\n",
       "    .dataframe thead th {\n",
       "        text-align: right;\n",
       "    }\n",
       "</style>\n",
       "<table border=\"1\" class=\"dataframe\">\n",
       "  <thead>\n",
       "    <tr style=\"text-align: right;\">\n",
       "      <th></th>\n",
       "      <th>Bank Name</th>\n",
       "      <th>City</th>\n",
       "      <th>ST</th>\n",
       "      <th>CERT</th>\n",
       "      <th>Acquiring Institution</th>\n",
       "      <th>Closing Date</th>\n",
       "      <th>Updated Date</th>\n",
       "    </tr>\n",
       "  </thead>\n",
       "  <tbody>\n",
       "    <tr>\n",
       "      <th>0</th>\n",
       "      <td>Allied Bank</td>\n",
       "      <td>Mulberry</td>\n",
       "      <td>AR</td>\n",
       "      <td>91</td>\n",
       "      <td>Today's Bank</td>\n",
       "      <td>September 23, 2016</td>\n",
       "      <td>November 17, 2016</td>\n",
       "    </tr>\n",
       "    <tr>\n",
       "      <th>1</th>\n",
       "      <td>The Woodbury Banking Company</td>\n",
       "      <td>Woodbury</td>\n",
       "      <td>GA</td>\n",
       "      <td>11297</td>\n",
       "      <td>United Bank</td>\n",
       "      <td>August 19, 2016</td>\n",
       "      <td>November 17, 2016</td>\n",
       "    </tr>\n",
       "    <tr>\n",
       "      <th>2</th>\n",
       "      <td>First CornerStone Bank</td>\n",
       "      <td>King of Prussia</td>\n",
       "      <td>PA</td>\n",
       "      <td>35312</td>\n",
       "      <td>First-Citizens Bank &amp; Trust Company</td>\n",
       "      <td>May 6, 2016</td>\n",
       "      <td>September 6, 2016</td>\n",
       "    </tr>\n",
       "    <tr>\n",
       "      <th>3</th>\n",
       "      <td>Trust Company Bank</td>\n",
       "      <td>Memphis</td>\n",
       "      <td>TN</td>\n",
       "      <td>9956</td>\n",
       "      <td>The Bank of Fayette County</td>\n",
       "      <td>April 29, 2016</td>\n",
       "      <td>September 6, 2016</td>\n",
       "    </tr>\n",
       "    <tr>\n",
       "      <th>4</th>\n",
       "      <td>North Milwaukee State Bank</td>\n",
       "      <td>Milwaukee</td>\n",
       "      <td>WI</td>\n",
       "      <td>20364</td>\n",
       "      <td>First-Citizens Bank &amp; Trust Company</td>\n",
       "      <td>March 11, 2016</td>\n",
       "      <td>June 16, 2016</td>\n",
       "    </tr>\n",
       "    <tr>\n",
       "      <th>...</th>\n",
       "      <td>...</td>\n",
       "      <td>...</td>\n",
       "      <td>...</td>\n",
       "      <td>...</td>\n",
       "      <td>...</td>\n",
       "      <td>...</td>\n",
       "      <td>...</td>\n",
       "    </tr>\n",
       "    <tr>\n",
       "      <th>542</th>\n",
       "      <td>Superior Bank, FSB</td>\n",
       "      <td>Hinsdale</td>\n",
       "      <td>IL</td>\n",
       "      <td>32646</td>\n",
       "      <td>Superior Federal, FSB</td>\n",
       "      <td>July 27, 2001</td>\n",
       "      <td>August 19, 2014</td>\n",
       "    </tr>\n",
       "    <tr>\n",
       "      <th>543</th>\n",
       "      <td>Malta National Bank</td>\n",
       "      <td>Malta</td>\n",
       "      <td>OH</td>\n",
       "      <td>6629</td>\n",
       "      <td>North Valley Bank</td>\n",
       "      <td>May 3, 2001</td>\n",
       "      <td>November 18, 2002</td>\n",
       "    </tr>\n",
       "    <tr>\n",
       "      <th>544</th>\n",
       "      <td>First Alliance Bank &amp; Trust Co.</td>\n",
       "      <td>Manchester</td>\n",
       "      <td>NH</td>\n",
       "      <td>34264</td>\n",
       "      <td>Southern New Hampshire Bank &amp; Trust</td>\n",
       "      <td>February 2, 2001</td>\n",
       "      <td>February 18, 2003</td>\n",
       "    </tr>\n",
       "    <tr>\n",
       "      <th>545</th>\n",
       "      <td>National State Bank of Metropolis</td>\n",
       "      <td>Metropolis</td>\n",
       "      <td>IL</td>\n",
       "      <td>3815</td>\n",
       "      <td>Banterra Bank of Marion</td>\n",
       "      <td>December 14, 2000</td>\n",
       "      <td>March 17, 2005</td>\n",
       "    </tr>\n",
       "    <tr>\n",
       "      <th>546</th>\n",
       "      <td>Bank of Honolulu</td>\n",
       "      <td>Honolulu</td>\n",
       "      <td>HI</td>\n",
       "      <td>21029</td>\n",
       "      <td>Bank of the Orient</td>\n",
       "      <td>October 13, 2000</td>\n",
       "      <td>March 17, 2005</td>\n",
       "    </tr>\n",
       "  </tbody>\n",
       "</table>\n",
       "<p>547 rows × 7 columns</p>\n",
       "</div>"
      ],
      "text/plain": [
       "                             Bank Name             City  ST   CERT  \\\n",
       "0                          Allied Bank         Mulberry  AR     91   \n",
       "1         The Woodbury Banking Company         Woodbury  GA  11297   \n",
       "2               First CornerStone Bank  King of Prussia  PA  35312   \n",
       "3                   Trust Company Bank          Memphis  TN   9956   \n",
       "4           North Milwaukee State Bank        Milwaukee  WI  20364   \n",
       "..                                 ...              ...  ..    ...   \n",
       "542                 Superior Bank, FSB         Hinsdale  IL  32646   \n",
       "543                Malta National Bank            Malta  OH   6629   \n",
       "544    First Alliance Bank & Trust Co.       Manchester  NH  34264   \n",
       "545  National State Bank of Metropolis       Metropolis  IL   3815   \n",
       "546                   Bank of Honolulu         Honolulu  HI  21029   \n",
       "\n",
       "                   Acquiring Institution        Closing Date  \\\n",
       "0                           Today's Bank  September 23, 2016   \n",
       "1                            United Bank     August 19, 2016   \n",
       "2    First-Citizens Bank & Trust Company         May 6, 2016   \n",
       "3             The Bank of Fayette County      April 29, 2016   \n",
       "4    First-Citizens Bank & Trust Company      March 11, 2016   \n",
       "..                                   ...                 ...   \n",
       "542                Superior Federal, FSB       July 27, 2001   \n",
       "543                    North Valley Bank         May 3, 2001   \n",
       "544  Southern New Hampshire Bank & Trust    February 2, 2001   \n",
       "545              Banterra Bank of Marion   December 14, 2000   \n",
       "546                   Bank of the Orient    October 13, 2000   \n",
       "\n",
       "          Updated Date  \n",
       "0    November 17, 2016  \n",
       "1    November 17, 2016  \n",
       "2    September 6, 2016  \n",
       "3    September 6, 2016  \n",
       "4        June 16, 2016  \n",
       "..                 ...  \n",
       "542    August 19, 2014  \n",
       "543  November 18, 2002  \n",
       "544  February 18, 2003  \n",
       "545     March 17, 2005  \n",
       "546     March 17, 2005  \n",
       "\n",
       "[547 rows x 7 columns]"
      ]
     },
     "execution_count": 104,
     "metadata": {},
     "output_type": "execute_result"
    }
   ],
   "source": [
    "failures"
   ]
  },
  {
   "cell_type": "code",
   "execution_count": 105,
   "metadata": {},
   "outputs": [
    {
     "data": {
      "text/html": [
       "<div>\n",
       "<style scoped>\n",
       "    .dataframe tbody tr th:only-of-type {\n",
       "        vertical-align: middle;\n",
       "    }\n",
       "\n",
       "    .dataframe tbody tr th {\n",
       "        vertical-align: top;\n",
       "    }\n",
       "\n",
       "    .dataframe thead th {\n",
       "        text-align: right;\n",
       "    }\n",
       "</style>\n",
       "<table border=\"1\" class=\"dataframe\">\n",
       "  <thead>\n",
       "    <tr style=\"text-align: right;\">\n",
       "      <th></th>\n",
       "      <th>Bank Name</th>\n",
       "      <th>City</th>\n",
       "      <th>ST</th>\n",
       "      <th>CERT</th>\n",
       "      <th>Acquiring Institution</th>\n",
       "      <th>Closing Date</th>\n",
       "      <th>Updated Date</th>\n",
       "    </tr>\n",
       "  </thead>\n",
       "  <tbody>\n",
       "    <tr>\n",
       "      <th>0</th>\n",
       "      <td>Allied Bank</td>\n",
       "      <td>Mulberry</td>\n",
       "      <td>AR</td>\n",
       "      <td>91</td>\n",
       "      <td>Today's Bank</td>\n",
       "      <td>September 23, 2016</td>\n",
       "      <td>November 17, 2016</td>\n",
       "    </tr>\n",
       "    <tr>\n",
       "      <th>1</th>\n",
       "      <td>The Woodbury Banking Company</td>\n",
       "      <td>Woodbury</td>\n",
       "      <td>GA</td>\n",
       "      <td>11297</td>\n",
       "      <td>United Bank</td>\n",
       "      <td>August 19, 2016</td>\n",
       "      <td>November 17, 2016</td>\n",
       "    </tr>\n",
       "    <tr>\n",
       "      <th>2</th>\n",
       "      <td>First CornerStone Bank</td>\n",
       "      <td>King of Prussia</td>\n",
       "      <td>PA</td>\n",
       "      <td>35312</td>\n",
       "      <td>First-Citizens Bank &amp; Trust Company</td>\n",
       "      <td>May 6, 2016</td>\n",
       "      <td>September 6, 2016</td>\n",
       "    </tr>\n",
       "    <tr>\n",
       "      <th>3</th>\n",
       "      <td>Trust Company Bank</td>\n",
       "      <td>Memphis</td>\n",
       "      <td>TN</td>\n",
       "      <td>9956</td>\n",
       "      <td>The Bank of Fayette County</td>\n",
       "      <td>April 29, 2016</td>\n",
       "      <td>September 6, 2016</td>\n",
       "    </tr>\n",
       "    <tr>\n",
       "      <th>4</th>\n",
       "      <td>North Milwaukee State Bank</td>\n",
       "      <td>Milwaukee</td>\n",
       "      <td>WI</td>\n",
       "      <td>20364</td>\n",
       "      <td>First-Citizens Bank &amp; Trust Company</td>\n",
       "      <td>March 11, 2016</td>\n",
       "      <td>June 16, 2016</td>\n",
       "    </tr>\n",
       "  </tbody>\n",
       "</table>\n",
       "</div>"
      ],
      "text/plain": [
       "                      Bank Name             City  ST   CERT  \\\n",
       "0                   Allied Bank         Mulberry  AR     91   \n",
       "1  The Woodbury Banking Company         Woodbury  GA  11297   \n",
       "2        First CornerStone Bank  King of Prussia  PA  35312   \n",
       "3            Trust Company Bank          Memphis  TN   9956   \n",
       "4    North Milwaukee State Bank        Milwaukee  WI  20364   \n",
       "\n",
       "                 Acquiring Institution        Closing Date       Updated Date  \n",
       "0                         Today's Bank  September 23, 2016  November 17, 2016  \n",
       "1                          United Bank     August 19, 2016  November 17, 2016  \n",
       "2  First-Citizens Bank & Trust Company         May 6, 2016  September 6, 2016  \n",
       "3           The Bank of Fayette County      April 29, 2016  September 6, 2016  \n",
       "4  First-Citizens Bank & Trust Company      March 11, 2016      June 16, 2016  "
      ]
     },
     "execution_count": 105,
     "metadata": {},
     "output_type": "execute_result"
    }
   ],
   "source": [
    "failures.head()"
   ]
  },
  {
   "cell_type": "code",
   "execution_count": 106,
   "metadata": {},
   "outputs": [],
   "source": [
    "# cleaning and analysis, computing the number of bank failures by year"
   ]
  },
  {
   "cell_type": "code",
   "execution_count": 107,
   "metadata": {},
   "outputs": [],
   "source": [
    "close_timestamps = pd.to_datetime(failures['Closing Date'])"
   ]
  },
  {
   "cell_type": "code",
   "execution_count": 108,
   "metadata": {},
   "outputs": [
    {
     "data": {
      "text/plain": [
       "0     2016-09-23\n",
       "1     2016-08-19\n",
       "2     2016-05-06\n",
       "3     2016-04-29\n",
       "4     2016-03-11\n",
       "         ...    \n",
       "542   2001-07-27\n",
       "543   2001-05-03\n",
       "544   2001-02-02\n",
       "545   2000-12-14\n",
       "546   2000-10-13\n",
       "Name: Closing Date, Length: 547, dtype: datetime64[ns]"
      ]
     },
     "execution_count": 108,
     "metadata": {},
     "output_type": "execute_result"
    }
   ],
   "source": [
    "close_timestamps"
   ]
  },
  {
   "cell_type": "code",
   "execution_count": 109,
   "metadata": {},
   "outputs": [
    {
     "data": {
      "text/plain": [
       "2010    157\n",
       "2009    140\n",
       "2011     92\n",
       "2012     51\n",
       "2008     25\n",
       "2013     24\n",
       "2014     18\n",
       "2002     11\n",
       "2015      8\n",
       "2016      5\n",
       "2004      4\n",
       "2001      4\n",
       "2007      3\n",
       "2003      3\n",
       "2000      2\n",
       "Name: Closing Date, dtype: int64"
      ]
     },
     "execution_count": 109,
     "metadata": {},
     "output_type": "execute_result"
    }
   ],
   "source": [
    "close_timestamps.dt.year.value_counts()"
   ]
  },
  {
   "cell_type": "code",
   "execution_count": 110,
   "metadata": {},
   "outputs": [],
   "source": [
    "# Partisng XML With lxml.objectify"
   ]
  },
  {
   "cell_type": "code",
   "execution_count": 111,
   "metadata": {},
   "outputs": [],
   "source": [
    "# show an example of how to use lxml to parse data from a more general XML Format"
   ]
  },
  {
   "cell_type": "code",
   "execution_count": 113,
   "metadata": {},
   "outputs": [],
   "source": [
    "from lxml import objectify"
   ]
  },
  {
   "cell_type": "code",
   "execution_count": 114,
   "metadata": {},
   "outputs": [],
   "source": [
    "path = 'examples/mta_perf/Performance_MNR.xml'"
   ]
  },
  {
   "cell_type": "code",
   "execution_count": 115,
   "metadata": {},
   "outputs": [
    {
     "data": {
      "text/plain": [
       "'examples/mta_perf/Performance_MNR.xml'"
      ]
     },
     "execution_count": 115,
     "metadata": {},
     "output_type": "execute_result"
    }
   ],
   "source": [
    "path"
   ]
  },
  {
   "cell_type": "code",
   "execution_count": 116,
   "metadata": {},
   "outputs": [],
   "source": [
    "parsed = objectify.parse(open(path))"
   ]
  },
  {
   "cell_type": "code",
   "execution_count": 117,
   "metadata": {},
   "outputs": [
    {
     "data": {
      "text/plain": [
       "<lxml.etree._ElementTree at 0x7f1d9eecac30>"
      ]
     },
     "execution_count": 117,
     "metadata": {},
     "output_type": "execute_result"
    }
   ],
   "source": [
    "parsed"
   ]
  },
  {
   "cell_type": "code",
   "execution_count": 118,
   "metadata": {},
   "outputs": [],
   "source": [
    "root = parsed.getroot()"
   ]
  },
  {
   "cell_type": "code",
   "execution_count": 119,
   "metadata": {},
   "outputs": [
    {
     "data": {
      "text/plain": [
       "<Element PERFORMANCE at 0x7f1d9eeca5a0>"
      ]
     },
     "execution_count": 119,
     "metadata": {},
     "output_type": "execute_result"
    }
   ],
   "source": [
    "root"
   ]
  },
  {
   "cell_type": "code",
   "execution_count": 120,
   "metadata": {},
   "outputs": [],
   "source": [
    "data = []"
   ]
  },
  {
   "cell_type": "code",
   "execution_count": 121,
   "metadata": {},
   "outputs": [],
   "source": [
    "skip_fields = ['PARENT_SEQ', 'INDICATOR_SEQ','DESIRED_CHANGE','DECIMAL_PLACE']"
   ]
  },
  {
   "cell_type": "code",
   "execution_count": 123,
   "metadata": {},
   "outputs": [],
   "source": [
    "for elt in root.INDICATOR:\n",
    "    el_data = {}\n",
    "    for child in elt.getchildren():\n",
    "        if child.tag in skip_fields:\n",
    "            continue\n",
    "        el_data[child.tag] = child.pyval\n",
    "    data.append(el_data)"
   ]
  },
  {
   "cell_type": "code",
   "execution_count": 124,
   "metadata": {},
   "outputs": [],
   "source": [
    "perf = pd.DataFrame(data)"
   ]
  },
  {
   "cell_type": "code",
   "execution_count": 125,
   "metadata": {},
   "outputs": [
    {
     "data": {
      "text/html": [
       "<div>\n",
       "<style scoped>\n",
       "    .dataframe tbody tr th:only-of-type {\n",
       "        vertical-align: middle;\n",
       "    }\n",
       "\n",
       "    .dataframe tbody tr th {\n",
       "        vertical-align: top;\n",
       "    }\n",
       "\n",
       "    .dataframe thead th {\n",
       "        text-align: right;\n",
       "    }\n",
       "</style>\n",
       "<table border=\"1\" class=\"dataframe\">\n",
       "  <thead>\n",
       "    <tr style=\"text-align: right;\">\n",
       "      <th></th>\n",
       "      <th>AGENCY_NAME</th>\n",
       "      <th>INDICATOR_NAME</th>\n",
       "      <th>DESCRIPTION</th>\n",
       "      <th>PERIOD_YEAR</th>\n",
       "      <th>PERIOD_MONTH</th>\n",
       "      <th>CATEGORY</th>\n",
       "      <th>FREQUENCY</th>\n",
       "      <th>INDICATOR_UNIT</th>\n",
       "      <th>DECIMAL_PLACES</th>\n",
       "      <th>YTD_TARGET</th>\n",
       "      <th>YTD_ACTUAL</th>\n",
       "      <th>MONTHLY_TARGET</th>\n",
       "      <th>MONTHLY_ACTUAL</th>\n",
       "    </tr>\n",
       "  </thead>\n",
       "  <tbody>\n",
       "    <tr>\n",
       "      <th>0</th>\n",
       "      <td>Metro-North Railroad</td>\n",
       "      <td>On-Time Performance (West of Hudson)</td>\n",
       "      <td>Percent of commuter trains that arrive at thei...</td>\n",
       "      <td>2008</td>\n",
       "      <td>1</td>\n",
       "      <td>Service Indicators</td>\n",
       "      <td>M</td>\n",
       "      <td>%</td>\n",
       "      <td>1</td>\n",
       "      <td>95</td>\n",
       "      <td>96.9</td>\n",
       "      <td>95</td>\n",
       "      <td>96.9</td>\n",
       "    </tr>\n",
       "    <tr>\n",
       "      <th>1</th>\n",
       "      <td>Metro-North Railroad</td>\n",
       "      <td>On-Time Performance (West of Hudson)</td>\n",
       "      <td>Percent of commuter trains that arrive at thei...</td>\n",
       "      <td>2008</td>\n",
       "      <td>2</td>\n",
       "      <td>Service Indicators</td>\n",
       "      <td>M</td>\n",
       "      <td>%</td>\n",
       "      <td>1</td>\n",
       "      <td>95</td>\n",
       "      <td>96</td>\n",
       "      <td>95</td>\n",
       "      <td>95</td>\n",
       "    </tr>\n",
       "    <tr>\n",
       "      <th>2</th>\n",
       "      <td>Metro-North Railroad</td>\n",
       "      <td>On-Time Performance (West of Hudson)</td>\n",
       "      <td>Percent of commuter trains that arrive at thei...</td>\n",
       "      <td>2008</td>\n",
       "      <td>3</td>\n",
       "      <td>Service Indicators</td>\n",
       "      <td>M</td>\n",
       "      <td>%</td>\n",
       "      <td>1</td>\n",
       "      <td>95</td>\n",
       "      <td>96.3</td>\n",
       "      <td>95</td>\n",
       "      <td>96.9</td>\n",
       "    </tr>\n",
       "    <tr>\n",
       "      <th>3</th>\n",
       "      <td>Metro-North Railroad</td>\n",
       "      <td>On-Time Performance (West of Hudson)</td>\n",
       "      <td>Percent of commuter trains that arrive at thei...</td>\n",
       "      <td>2008</td>\n",
       "      <td>4</td>\n",
       "      <td>Service Indicators</td>\n",
       "      <td>M</td>\n",
       "      <td>%</td>\n",
       "      <td>1</td>\n",
       "      <td>95</td>\n",
       "      <td>96.8</td>\n",
       "      <td>95</td>\n",
       "      <td>98.3</td>\n",
       "    </tr>\n",
       "    <tr>\n",
       "      <th>4</th>\n",
       "      <td>Metro-North Railroad</td>\n",
       "      <td>On-Time Performance (West of Hudson)</td>\n",
       "      <td>Percent of commuter trains that arrive at thei...</td>\n",
       "      <td>2008</td>\n",
       "      <td>5</td>\n",
       "      <td>Service Indicators</td>\n",
       "      <td>M</td>\n",
       "      <td>%</td>\n",
       "      <td>1</td>\n",
       "      <td>95</td>\n",
       "      <td>96.6</td>\n",
       "      <td>95</td>\n",
       "      <td>95.8</td>\n",
       "    </tr>\n",
       "    <tr>\n",
       "      <th>...</th>\n",
       "      <td>...</td>\n",
       "      <td>...</td>\n",
       "      <td>...</td>\n",
       "      <td>...</td>\n",
       "      <td>...</td>\n",
       "      <td>...</td>\n",
       "      <td>...</td>\n",
       "      <td>...</td>\n",
       "      <td>...</td>\n",
       "      <td>...</td>\n",
       "      <td>...</td>\n",
       "      <td>...</td>\n",
       "      <td>...</td>\n",
       "    </tr>\n",
       "    <tr>\n",
       "      <th>643</th>\n",
       "      <td>Metro-North Railroad</td>\n",
       "      <td>Escalator Availability</td>\n",
       "      <td>Percent of the time that escalators are operat...</td>\n",
       "      <td>2011</td>\n",
       "      <td>8</td>\n",
       "      <td>Service Indicators</td>\n",
       "      <td>M</td>\n",
       "      <td>%</td>\n",
       "      <td>1</td>\n",
       "      <td>97</td>\n",
       "      <td></td>\n",
       "      <td>97</td>\n",
       "      <td></td>\n",
       "    </tr>\n",
       "    <tr>\n",
       "      <th>644</th>\n",
       "      <td>Metro-North Railroad</td>\n",
       "      <td>Escalator Availability</td>\n",
       "      <td>Percent of the time that escalators are operat...</td>\n",
       "      <td>2011</td>\n",
       "      <td>9</td>\n",
       "      <td>Service Indicators</td>\n",
       "      <td>M</td>\n",
       "      <td>%</td>\n",
       "      <td>1</td>\n",
       "      <td>97</td>\n",
       "      <td></td>\n",
       "      <td>97</td>\n",
       "      <td></td>\n",
       "    </tr>\n",
       "    <tr>\n",
       "      <th>645</th>\n",
       "      <td>Metro-North Railroad</td>\n",
       "      <td>Escalator Availability</td>\n",
       "      <td>Percent of the time that escalators are operat...</td>\n",
       "      <td>2011</td>\n",
       "      <td>10</td>\n",
       "      <td>Service Indicators</td>\n",
       "      <td>M</td>\n",
       "      <td>%</td>\n",
       "      <td>1</td>\n",
       "      <td>97</td>\n",
       "      <td></td>\n",
       "      <td>97</td>\n",
       "      <td></td>\n",
       "    </tr>\n",
       "    <tr>\n",
       "      <th>646</th>\n",
       "      <td>Metro-North Railroad</td>\n",
       "      <td>Escalator Availability</td>\n",
       "      <td>Percent of the time that escalators are operat...</td>\n",
       "      <td>2011</td>\n",
       "      <td>11</td>\n",
       "      <td>Service Indicators</td>\n",
       "      <td>M</td>\n",
       "      <td>%</td>\n",
       "      <td>1</td>\n",
       "      <td>97</td>\n",
       "      <td></td>\n",
       "      <td>97</td>\n",
       "      <td></td>\n",
       "    </tr>\n",
       "    <tr>\n",
       "      <th>647</th>\n",
       "      <td>Metro-North Railroad</td>\n",
       "      <td>Escalator Availability</td>\n",
       "      <td>Percent of the time that escalators are operat...</td>\n",
       "      <td>2011</td>\n",
       "      <td>12</td>\n",
       "      <td>Service Indicators</td>\n",
       "      <td>M</td>\n",
       "      <td>%</td>\n",
       "      <td>1</td>\n",
       "      <td>97</td>\n",
       "      <td></td>\n",
       "      <td>97</td>\n",
       "      <td></td>\n",
       "    </tr>\n",
       "  </tbody>\n",
       "</table>\n",
       "<p>648 rows × 13 columns</p>\n",
       "</div>"
      ],
      "text/plain": [
       "              AGENCY_NAME                        INDICATOR_NAME  \\\n",
       "0    Metro-North Railroad  On-Time Performance (West of Hudson)   \n",
       "1    Metro-North Railroad  On-Time Performance (West of Hudson)   \n",
       "2    Metro-North Railroad  On-Time Performance (West of Hudson)   \n",
       "3    Metro-North Railroad  On-Time Performance (West of Hudson)   \n",
       "4    Metro-North Railroad  On-Time Performance (West of Hudson)   \n",
       "..                    ...                                   ...   \n",
       "643  Metro-North Railroad                Escalator Availability   \n",
       "644  Metro-North Railroad                Escalator Availability   \n",
       "645  Metro-North Railroad                Escalator Availability   \n",
       "646  Metro-North Railroad                Escalator Availability   \n",
       "647  Metro-North Railroad                Escalator Availability   \n",
       "\n",
       "                                           DESCRIPTION  PERIOD_YEAR  \\\n",
       "0    Percent of commuter trains that arrive at thei...         2008   \n",
       "1    Percent of commuter trains that arrive at thei...         2008   \n",
       "2    Percent of commuter trains that arrive at thei...         2008   \n",
       "3    Percent of commuter trains that arrive at thei...         2008   \n",
       "4    Percent of commuter trains that arrive at thei...         2008   \n",
       "..                                                 ...          ...   \n",
       "643  Percent of the time that escalators are operat...         2011   \n",
       "644  Percent of the time that escalators are operat...         2011   \n",
       "645  Percent of the time that escalators are operat...         2011   \n",
       "646  Percent of the time that escalators are operat...         2011   \n",
       "647  Percent of the time that escalators are operat...         2011   \n",
       "\n",
       "     PERIOD_MONTH            CATEGORY FREQUENCY INDICATOR_UNIT  \\\n",
       "0               1  Service Indicators         M              %   \n",
       "1               2  Service Indicators         M              %   \n",
       "2               3  Service Indicators         M              %   \n",
       "3               4  Service Indicators         M              %   \n",
       "4               5  Service Indicators         M              %   \n",
       "..            ...                 ...       ...            ...   \n",
       "643             8  Service Indicators         M              %   \n",
       "644             9  Service Indicators         M              %   \n",
       "645            10  Service Indicators         M              %   \n",
       "646            11  Service Indicators         M              %   \n",
       "647            12  Service Indicators         M              %   \n",
       "\n",
       "     DECIMAL_PLACES YTD_TARGET YTD_ACTUAL MONTHLY_TARGET MONTHLY_ACTUAL  \n",
       "0                 1         95       96.9             95           96.9  \n",
       "1                 1         95         96             95             95  \n",
       "2                 1         95       96.3             95           96.9  \n",
       "3                 1         95       96.8             95           98.3  \n",
       "4                 1         95       96.6             95           95.8  \n",
       "..              ...        ...        ...            ...            ...  \n",
       "643               1         97                        97                 \n",
       "644               1         97                        97                 \n",
       "645               1         97                        97                 \n",
       "646               1         97                        97                 \n",
       "647               1         97                        97                 \n",
       "\n",
       "[648 rows x 13 columns]"
      ]
     },
     "execution_count": 125,
     "metadata": {},
     "output_type": "execute_result"
    }
   ],
   "source": [
    "perf"
   ]
  },
  {
   "cell_type": "code",
   "execution_count": 126,
   "metadata": {},
   "outputs": [
    {
     "data": {
      "text/html": [
       "<div>\n",
       "<style scoped>\n",
       "    .dataframe tbody tr th:only-of-type {\n",
       "        vertical-align: middle;\n",
       "    }\n",
       "\n",
       "    .dataframe tbody tr th {\n",
       "        vertical-align: top;\n",
       "    }\n",
       "\n",
       "    .dataframe thead th {\n",
       "        text-align: right;\n",
       "    }\n",
       "</style>\n",
       "<table border=\"1\" class=\"dataframe\">\n",
       "  <thead>\n",
       "    <tr style=\"text-align: right;\">\n",
       "      <th></th>\n",
       "      <th>AGENCY_NAME</th>\n",
       "      <th>INDICATOR_NAME</th>\n",
       "      <th>DESCRIPTION</th>\n",
       "      <th>PERIOD_YEAR</th>\n",
       "      <th>PERIOD_MONTH</th>\n",
       "      <th>CATEGORY</th>\n",
       "      <th>FREQUENCY</th>\n",
       "      <th>INDICATOR_UNIT</th>\n",
       "      <th>DECIMAL_PLACES</th>\n",
       "      <th>YTD_TARGET</th>\n",
       "      <th>YTD_ACTUAL</th>\n",
       "      <th>MONTHLY_TARGET</th>\n",
       "      <th>MONTHLY_ACTUAL</th>\n",
       "    </tr>\n",
       "  </thead>\n",
       "  <tbody>\n",
       "    <tr>\n",
       "      <th>0</th>\n",
       "      <td>Metro-North Railroad</td>\n",
       "      <td>On-Time Performance (West of Hudson)</td>\n",
       "      <td>Percent of commuter trains that arrive at thei...</td>\n",
       "      <td>2008</td>\n",
       "      <td>1</td>\n",
       "      <td>Service Indicators</td>\n",
       "      <td>M</td>\n",
       "      <td>%</td>\n",
       "      <td>1</td>\n",
       "      <td>95</td>\n",
       "      <td>96.9</td>\n",
       "      <td>95</td>\n",
       "      <td>96.9</td>\n",
       "    </tr>\n",
       "    <tr>\n",
       "      <th>1</th>\n",
       "      <td>Metro-North Railroad</td>\n",
       "      <td>On-Time Performance (West of Hudson)</td>\n",
       "      <td>Percent of commuter trains that arrive at thei...</td>\n",
       "      <td>2008</td>\n",
       "      <td>2</td>\n",
       "      <td>Service Indicators</td>\n",
       "      <td>M</td>\n",
       "      <td>%</td>\n",
       "      <td>1</td>\n",
       "      <td>95</td>\n",
       "      <td>96</td>\n",
       "      <td>95</td>\n",
       "      <td>95</td>\n",
       "    </tr>\n",
       "    <tr>\n",
       "      <th>2</th>\n",
       "      <td>Metro-North Railroad</td>\n",
       "      <td>On-Time Performance (West of Hudson)</td>\n",
       "      <td>Percent of commuter trains that arrive at thei...</td>\n",
       "      <td>2008</td>\n",
       "      <td>3</td>\n",
       "      <td>Service Indicators</td>\n",
       "      <td>M</td>\n",
       "      <td>%</td>\n",
       "      <td>1</td>\n",
       "      <td>95</td>\n",
       "      <td>96.3</td>\n",
       "      <td>95</td>\n",
       "      <td>96.9</td>\n",
       "    </tr>\n",
       "    <tr>\n",
       "      <th>3</th>\n",
       "      <td>Metro-North Railroad</td>\n",
       "      <td>On-Time Performance (West of Hudson)</td>\n",
       "      <td>Percent of commuter trains that arrive at thei...</td>\n",
       "      <td>2008</td>\n",
       "      <td>4</td>\n",
       "      <td>Service Indicators</td>\n",
       "      <td>M</td>\n",
       "      <td>%</td>\n",
       "      <td>1</td>\n",
       "      <td>95</td>\n",
       "      <td>96.8</td>\n",
       "      <td>95</td>\n",
       "      <td>98.3</td>\n",
       "    </tr>\n",
       "    <tr>\n",
       "      <th>4</th>\n",
       "      <td>Metro-North Railroad</td>\n",
       "      <td>On-Time Performance (West of Hudson)</td>\n",
       "      <td>Percent of commuter trains that arrive at thei...</td>\n",
       "      <td>2008</td>\n",
       "      <td>5</td>\n",
       "      <td>Service Indicators</td>\n",
       "      <td>M</td>\n",
       "      <td>%</td>\n",
       "      <td>1</td>\n",
       "      <td>95</td>\n",
       "      <td>96.6</td>\n",
       "      <td>95</td>\n",
       "      <td>95.8</td>\n",
       "    </tr>\n",
       "  </tbody>\n",
       "</table>\n",
       "</div>"
      ],
      "text/plain": [
       "            AGENCY_NAME                        INDICATOR_NAME  \\\n",
       "0  Metro-North Railroad  On-Time Performance (West of Hudson)   \n",
       "1  Metro-North Railroad  On-Time Performance (West of Hudson)   \n",
       "2  Metro-North Railroad  On-Time Performance (West of Hudson)   \n",
       "3  Metro-North Railroad  On-Time Performance (West of Hudson)   \n",
       "4  Metro-North Railroad  On-Time Performance (West of Hudson)   \n",
       "\n",
       "                                         DESCRIPTION  PERIOD_YEAR  \\\n",
       "0  Percent of commuter trains that arrive at thei...         2008   \n",
       "1  Percent of commuter trains that arrive at thei...         2008   \n",
       "2  Percent of commuter trains that arrive at thei...         2008   \n",
       "3  Percent of commuter trains that arrive at thei...         2008   \n",
       "4  Percent of commuter trains that arrive at thei...         2008   \n",
       "\n",
       "   PERIOD_MONTH            CATEGORY FREQUENCY INDICATOR_UNIT  DECIMAL_PLACES  \\\n",
       "0             1  Service Indicators         M              %               1   \n",
       "1             2  Service Indicators         M              %               1   \n",
       "2             3  Service Indicators         M              %               1   \n",
       "3             4  Service Indicators         M              %               1   \n",
       "4             5  Service Indicators         M              %               1   \n",
       "\n",
       "  YTD_TARGET YTD_ACTUAL MONTHLY_TARGET MONTHLY_ACTUAL  \n",
       "0         95       96.9             95           96.9  \n",
       "1         95         96             95             95  \n",
       "2         95       96.3             95           96.9  \n",
       "3         95       96.8             95           98.3  \n",
       "4         95       96.6             95           95.8  "
      ]
     },
     "execution_count": 126,
     "metadata": {},
     "output_type": "execute_result"
    }
   ],
   "source": [
    "perf.head()"
   ]
  },
  {
   "cell_type": "code",
   "execution_count": 127,
   "metadata": {},
   "outputs": [],
   "source": [
    "from io import StringIO"
   ]
  },
  {
   "cell_type": "code",
   "execution_count": 128,
   "metadata": {},
   "outputs": [],
   "source": [
    "tag = '<a href=\"http://www.google.com\">Google</a>'"
   ]
  },
  {
   "cell_type": "code",
   "execution_count": 129,
   "metadata": {},
   "outputs": [],
   "source": [
    "root = objectify.parse(StringIO(tag)).getroot()"
   ]
  },
  {
   "cell_type": "code",
   "execution_count": 130,
   "metadata": {},
   "outputs": [
    {
     "data": {
      "text/plain": [
       "<Element a at 0x7f1d9f3bd190>"
      ]
     },
     "execution_count": 130,
     "metadata": {},
     "output_type": "execute_result"
    }
   ],
   "source": [
    "root"
   ]
  },
  {
   "cell_type": "code",
   "execution_count": 131,
   "metadata": {},
   "outputs": [
    {
     "data": {
      "text/plain": [
       "'http://www.google.com'"
      ]
     },
     "execution_count": 131,
     "metadata": {},
     "output_type": "execute_result"
    }
   ],
   "source": [
    "root.get('href')"
   ]
  },
  {
   "cell_type": "code",
   "execution_count": 132,
   "metadata": {},
   "outputs": [
    {
     "data": {
      "text/plain": [
       "'Google'"
      ]
     },
     "execution_count": 132,
     "metadata": {},
     "output_type": "execute_result"
    }
   ],
   "source": [
    "root.text"
   ]
  },
  {
   "cell_type": "markdown",
   "metadata": {},
   "source": [
    "## 6.2 Binary Data Format"
   ]
  },
  {
   "cell_type": "code",
   "execution_count": 3,
   "metadata": {},
   "outputs": [],
   "source": [
    "# easiest ways to store data in binary format using Python's built-in pickle serialization"
   ]
  },
  {
   "cell_type": "markdown",
   "metadata": {},
   "source": [
    "writes the data to disk in pickle format"
   ]
  },
  {
   "cell_type": "code",
   "execution_count": 4,
   "metadata": {},
   "outputs": [],
   "source": [
    "frame = pd.read_csv('examples/ex1.csv')"
   ]
  },
  {
   "cell_type": "code",
   "execution_count": 5,
   "metadata": {},
   "outputs": [
    {
     "data": {
      "text/html": [
       "<div>\n",
       "<style scoped>\n",
       "    .dataframe tbody tr th:only-of-type {\n",
       "        vertical-align: middle;\n",
       "    }\n",
       "\n",
       "    .dataframe tbody tr th {\n",
       "        vertical-align: top;\n",
       "    }\n",
       "\n",
       "    .dataframe thead th {\n",
       "        text-align: right;\n",
       "    }\n",
       "</style>\n",
       "<table border=\"1\" class=\"dataframe\">\n",
       "  <thead>\n",
       "    <tr style=\"text-align: right;\">\n",
       "      <th></th>\n",
       "      <th>a</th>\n",
       "      <th>b</th>\n",
       "      <th>c</th>\n",
       "      <th>d</th>\n",
       "      <th>message</th>\n",
       "    </tr>\n",
       "  </thead>\n",
       "  <tbody>\n",
       "    <tr>\n",
       "      <th>0</th>\n",
       "      <td>1</td>\n",
       "      <td>2</td>\n",
       "      <td>3</td>\n",
       "      <td>4</td>\n",
       "      <td>hello</td>\n",
       "    </tr>\n",
       "    <tr>\n",
       "      <th>1</th>\n",
       "      <td>5</td>\n",
       "      <td>6</td>\n",
       "      <td>7</td>\n",
       "      <td>8</td>\n",
       "      <td>world</td>\n",
       "    </tr>\n",
       "    <tr>\n",
       "      <th>2</th>\n",
       "      <td>9</td>\n",
       "      <td>10</td>\n",
       "      <td>11</td>\n",
       "      <td>12</td>\n",
       "      <td>foo</td>\n",
       "    </tr>\n",
       "  </tbody>\n",
       "</table>\n",
       "</div>"
      ],
      "text/plain": [
       "   a   b   c   d message\n",
       "0  1   2   3   4   hello\n",
       "1  5   6   7   8   world\n",
       "2  9  10  11  12     foo"
      ]
     },
     "execution_count": 5,
     "metadata": {},
     "output_type": "execute_result"
    }
   ],
   "source": [
    "frame"
   ]
  },
  {
   "cell_type": "code",
   "execution_count": 6,
   "metadata": {},
   "outputs": [],
   "source": [
    "frame.to_pickle('examples/frame_pickle')"
   ]
  },
  {
   "cell_type": "code",
   "execution_count": 9,
   "metadata": {},
   "outputs": [
    {
     "data": {
      "text/html": [
       "<div>\n",
       "<style scoped>\n",
       "    .dataframe tbody tr th:only-of-type {\n",
       "        vertical-align: middle;\n",
       "    }\n",
       "\n",
       "    .dataframe tbody tr th {\n",
       "        vertical-align: top;\n",
       "    }\n",
       "\n",
       "    .dataframe thead th {\n",
       "        text-align: right;\n",
       "    }\n",
       "</style>\n",
       "<table border=\"1\" class=\"dataframe\">\n",
       "  <thead>\n",
       "    <tr style=\"text-align: right;\">\n",
       "      <th></th>\n",
       "      <th>a</th>\n",
       "      <th>b</th>\n",
       "      <th>c</th>\n",
       "      <th>d</th>\n",
       "      <th>message</th>\n",
       "    </tr>\n",
       "  </thead>\n",
       "  <tbody>\n",
       "    <tr>\n",
       "      <th>0</th>\n",
       "      <td>1</td>\n",
       "      <td>2</td>\n",
       "      <td>3</td>\n",
       "      <td>4</td>\n",
       "      <td>hello</td>\n",
       "    </tr>\n",
       "    <tr>\n",
       "      <th>1</th>\n",
       "      <td>5</td>\n",
       "      <td>6</td>\n",
       "      <td>7</td>\n",
       "      <td>8</td>\n",
       "      <td>world</td>\n",
       "    </tr>\n",
       "    <tr>\n",
       "      <th>2</th>\n",
       "      <td>9</td>\n",
       "      <td>10</td>\n",
       "      <td>11</td>\n",
       "      <td>12</td>\n",
       "      <td>foo</td>\n",
       "    </tr>\n",
       "  </tbody>\n",
       "</table>\n",
       "</div>"
      ],
      "text/plain": [
       "   a   b   c   d message\n",
       "0  1   2   3   4   hello\n",
       "1  5   6   7   8   world\n",
       "2  9  10  11  12     foo"
      ]
     },
     "execution_count": 9,
     "metadata": {},
     "output_type": "execute_result"
    }
   ],
   "source": [
    "pd.read_pickle('examples/frame_pickle')"
   ]
  },
  {
   "cell_type": "code",
   "execution_count": 11,
   "metadata": {},
   "outputs": [],
   "source": [
    "# Using HDF5 Format"
   ]
  },
  {
   "cell_type": "code",
   "execution_count": 13,
   "metadata": {},
   "outputs": [],
   "source": [
    "frame = pd.DataFrame({'a': np.random.randn(100)})"
   ]
  },
  {
   "cell_type": "code",
   "execution_count": 14,
   "metadata": {},
   "outputs": [
    {
     "data": {
      "text/html": [
       "<div>\n",
       "<style scoped>\n",
       "    .dataframe tbody tr th:only-of-type {\n",
       "        vertical-align: middle;\n",
       "    }\n",
       "\n",
       "    .dataframe tbody tr th {\n",
       "        vertical-align: top;\n",
       "    }\n",
       "\n",
       "    .dataframe thead th {\n",
       "        text-align: right;\n",
       "    }\n",
       "</style>\n",
       "<table border=\"1\" class=\"dataframe\">\n",
       "  <thead>\n",
       "    <tr style=\"text-align: right;\">\n",
       "      <th></th>\n",
       "      <th>a</th>\n",
       "    </tr>\n",
       "  </thead>\n",
       "  <tbody>\n",
       "    <tr>\n",
       "      <th>0</th>\n",
       "      <td>-1.170389</td>\n",
       "    </tr>\n",
       "    <tr>\n",
       "      <th>1</th>\n",
       "      <td>-0.940294</td>\n",
       "    </tr>\n",
       "    <tr>\n",
       "      <th>2</th>\n",
       "      <td>0.858764</td>\n",
       "    </tr>\n",
       "    <tr>\n",
       "      <th>3</th>\n",
       "      <td>-0.058561</td>\n",
       "    </tr>\n",
       "    <tr>\n",
       "      <th>4</th>\n",
       "      <td>-0.011372</td>\n",
       "    </tr>\n",
       "    <tr>\n",
       "      <th>...</th>\n",
       "      <td>...</td>\n",
       "    </tr>\n",
       "    <tr>\n",
       "      <th>95</th>\n",
       "      <td>0.158907</td>\n",
       "    </tr>\n",
       "    <tr>\n",
       "      <th>96</th>\n",
       "      <td>1.222866</td>\n",
       "    </tr>\n",
       "    <tr>\n",
       "      <th>97</th>\n",
       "      <td>-0.498532</td>\n",
       "    </tr>\n",
       "    <tr>\n",
       "      <th>98</th>\n",
       "      <td>-0.709072</td>\n",
       "    </tr>\n",
       "    <tr>\n",
       "      <th>99</th>\n",
       "      <td>-0.741973</td>\n",
       "    </tr>\n",
       "  </tbody>\n",
       "</table>\n",
       "<p>100 rows × 1 columns</p>\n",
       "</div>"
      ],
      "text/plain": [
       "           a\n",
       "0  -1.170389\n",
       "1  -0.940294\n",
       "2   0.858764\n",
       "3  -0.058561\n",
       "4  -0.011372\n",
       "..       ...\n",
       "95  0.158907\n",
       "96  1.222866\n",
       "97 -0.498532\n",
       "98 -0.709072\n",
       "99 -0.741973\n",
       "\n",
       "[100 rows x 1 columns]"
      ]
     },
     "execution_count": 14,
     "metadata": {},
     "output_type": "execute_result"
    }
   ],
   "source": [
    "frame"
   ]
  },
  {
   "cell_type": "code",
   "execution_count": 15,
   "metadata": {},
   "outputs": [],
   "source": [
    "store = pd.HDFStore('mydata.h5')"
   ]
  },
  {
   "cell_type": "code",
   "execution_count": 16,
   "metadata": {},
   "outputs": [
    {
     "data": {
      "text/plain": [
       "0    -1.170389\n",
       "1    -0.940294\n",
       "2     0.858764\n",
       "3    -0.058561\n",
       "4    -0.011372\n",
       "        ...   \n",
       "95    0.158907\n",
       "96    1.222866\n",
       "97   -0.498532\n",
       "98   -0.709072\n",
       "99   -0.741973\n",
       "Name: a, Length: 100, dtype: float64"
      ]
     },
     "execution_count": 16,
     "metadata": {},
     "output_type": "execute_result"
    }
   ],
   "source": [
    "frame['a']"
   ]
  },
  {
   "cell_type": "code",
   "execution_count": 17,
   "metadata": {},
   "outputs": [
    {
     "data": {
      "text/plain": [
       "pandas.core.frame.DataFrame"
      ]
     },
     "execution_count": 17,
     "metadata": {},
     "output_type": "execute_result"
    }
   ],
   "source": [
    "type(frame)"
   ]
  },
  {
   "cell_type": "code",
   "execution_count": 18,
   "metadata": {},
   "outputs": [
    {
     "data": {
      "text/plain": [
       "pandas.core.series.Series"
      ]
     },
     "execution_count": 18,
     "metadata": {},
     "output_type": "execute_result"
    }
   ],
   "source": [
    "type(frame['a'])"
   ]
  },
  {
   "cell_type": "code",
   "execution_count": 19,
   "metadata": {},
   "outputs": [],
   "source": [
    "store['obj1'] = frame"
   ]
  },
  {
   "cell_type": "code",
   "execution_count": 20,
   "metadata": {},
   "outputs": [],
   "source": [
    "store['obj1_col'] = frame['a']"
   ]
  },
  {
   "cell_type": "code",
   "execution_count": 21,
   "metadata": {},
   "outputs": [
    {
     "data": {
      "text/plain": [
       "<class 'pandas.io.pytables.HDFStore'>\n",
       "File path: mydata.h5"
      ]
     },
     "execution_count": 21,
     "metadata": {},
     "output_type": "execute_result"
    }
   ],
   "source": [
    "store"
   ]
  },
  {
   "cell_type": "code",
   "execution_count": 22,
   "metadata": {},
   "outputs": [
    {
     "data": {
      "text/html": [
       "<div>\n",
       "<style scoped>\n",
       "    .dataframe tbody tr th:only-of-type {\n",
       "        vertical-align: middle;\n",
       "    }\n",
       "\n",
       "    .dataframe tbody tr th {\n",
       "        vertical-align: top;\n",
       "    }\n",
       "\n",
       "    .dataframe thead th {\n",
       "        text-align: right;\n",
       "    }\n",
       "</style>\n",
       "<table border=\"1\" class=\"dataframe\">\n",
       "  <thead>\n",
       "    <tr style=\"text-align: right;\">\n",
       "      <th></th>\n",
       "      <th>a</th>\n",
       "    </tr>\n",
       "  </thead>\n",
       "  <tbody>\n",
       "    <tr>\n",
       "      <th>0</th>\n",
       "      <td>-1.170389</td>\n",
       "    </tr>\n",
       "    <tr>\n",
       "      <th>1</th>\n",
       "      <td>-0.940294</td>\n",
       "    </tr>\n",
       "    <tr>\n",
       "      <th>2</th>\n",
       "      <td>0.858764</td>\n",
       "    </tr>\n",
       "    <tr>\n",
       "      <th>3</th>\n",
       "      <td>-0.058561</td>\n",
       "    </tr>\n",
       "    <tr>\n",
       "      <th>4</th>\n",
       "      <td>-0.011372</td>\n",
       "    </tr>\n",
       "    <tr>\n",
       "      <th>...</th>\n",
       "      <td>...</td>\n",
       "    </tr>\n",
       "    <tr>\n",
       "      <th>95</th>\n",
       "      <td>0.158907</td>\n",
       "    </tr>\n",
       "    <tr>\n",
       "      <th>96</th>\n",
       "      <td>1.222866</td>\n",
       "    </tr>\n",
       "    <tr>\n",
       "      <th>97</th>\n",
       "      <td>-0.498532</td>\n",
       "    </tr>\n",
       "    <tr>\n",
       "      <th>98</th>\n",
       "      <td>-0.709072</td>\n",
       "    </tr>\n",
       "    <tr>\n",
       "      <th>99</th>\n",
       "      <td>-0.741973</td>\n",
       "    </tr>\n",
       "  </tbody>\n",
       "</table>\n",
       "<p>100 rows × 1 columns</p>\n",
       "</div>"
      ],
      "text/plain": [
       "           a\n",
       "0  -1.170389\n",
       "1  -0.940294\n",
       "2   0.858764\n",
       "3  -0.058561\n",
       "4  -0.011372\n",
       "..       ...\n",
       "95  0.158907\n",
       "96  1.222866\n",
       "97 -0.498532\n",
       "98 -0.709072\n",
       "99 -0.741973\n",
       "\n",
       "[100 rows x 1 columns]"
      ]
     },
     "execution_count": 22,
     "metadata": {},
     "output_type": "execute_result"
    }
   ],
   "source": [
    "store['obj1']"
   ]
  },
  {
   "cell_type": "code",
   "execution_count": 23,
   "metadata": {},
   "outputs": [
    {
     "data": {
      "text/plain": [
       "0    -1.170389\n",
       "1    -0.940294\n",
       "2     0.858764\n",
       "3    -0.058561\n",
       "4    -0.011372\n",
       "        ...   \n",
       "95    0.158907\n",
       "96    1.222866\n",
       "97   -0.498532\n",
       "98   -0.709072\n",
       "99   -0.741973\n",
       "Name: a, Length: 100, dtype: float64"
      ]
     },
     "execution_count": 23,
     "metadata": {},
     "output_type": "execute_result"
    }
   ],
   "source": [
    "store['obj1_col']"
   ]
  },
  {
   "cell_type": "code",
   "execution_count": 24,
   "metadata": {},
   "outputs": [],
   "source": [
    "# HDF5Store support two storage schemas: 'fixed' and 'table'"
   ]
  },
  {
   "cell_type": "code",
   "execution_count": 25,
   "metadata": {},
   "outputs": [],
   "source": [
    "store.put('obj2', frame, format='table')"
   ]
  },
  {
   "cell_type": "code",
   "execution_count": 26,
   "metadata": {},
   "outputs": [
    {
     "data": {
      "text/html": [
       "<div>\n",
       "<style scoped>\n",
       "    .dataframe tbody tr th:only-of-type {\n",
       "        vertical-align: middle;\n",
       "    }\n",
       "\n",
       "    .dataframe tbody tr th {\n",
       "        vertical-align: top;\n",
       "    }\n",
       "\n",
       "    .dataframe thead th {\n",
       "        text-align: right;\n",
       "    }\n",
       "</style>\n",
       "<table border=\"1\" class=\"dataframe\">\n",
       "  <thead>\n",
       "    <tr style=\"text-align: right;\">\n",
       "      <th></th>\n",
       "      <th>a</th>\n",
       "    </tr>\n",
       "  </thead>\n",
       "  <tbody>\n",
       "    <tr>\n",
       "      <th>0</th>\n",
       "      <td>-1.170389</td>\n",
       "    </tr>\n",
       "    <tr>\n",
       "      <th>1</th>\n",
       "      <td>-0.940294</td>\n",
       "    </tr>\n",
       "    <tr>\n",
       "      <th>2</th>\n",
       "      <td>0.858764</td>\n",
       "    </tr>\n",
       "    <tr>\n",
       "      <th>3</th>\n",
       "      <td>-0.058561</td>\n",
       "    </tr>\n",
       "    <tr>\n",
       "      <th>4</th>\n",
       "      <td>-0.011372</td>\n",
       "    </tr>\n",
       "    <tr>\n",
       "      <th>...</th>\n",
       "      <td>...</td>\n",
       "    </tr>\n",
       "    <tr>\n",
       "      <th>95</th>\n",
       "      <td>0.158907</td>\n",
       "    </tr>\n",
       "    <tr>\n",
       "      <th>96</th>\n",
       "      <td>1.222866</td>\n",
       "    </tr>\n",
       "    <tr>\n",
       "      <th>97</th>\n",
       "      <td>-0.498532</td>\n",
       "    </tr>\n",
       "    <tr>\n",
       "      <th>98</th>\n",
       "      <td>-0.709072</td>\n",
       "    </tr>\n",
       "    <tr>\n",
       "      <th>99</th>\n",
       "      <td>-0.741973</td>\n",
       "    </tr>\n",
       "  </tbody>\n",
       "</table>\n",
       "<p>100 rows × 1 columns</p>\n",
       "</div>"
      ],
      "text/plain": [
       "           a\n",
       "0  -1.170389\n",
       "1  -0.940294\n",
       "2   0.858764\n",
       "3  -0.058561\n",
       "4  -0.011372\n",
       "..       ...\n",
       "95  0.158907\n",
       "96  1.222866\n",
       "97 -0.498532\n",
       "98 -0.709072\n",
       "99 -0.741973\n",
       "\n",
       "[100 rows x 1 columns]"
      ]
     },
     "execution_count": 26,
     "metadata": {},
     "output_type": "execute_result"
    }
   ],
   "source": [
    "store['obj2']"
   ]
  },
  {
   "cell_type": "code",
   "execution_count": 27,
   "metadata": {},
   "outputs": [
    {
     "data": {
      "text/plain": [
       "pandas.core.frame.DataFrame"
      ]
     },
     "execution_count": 27,
     "metadata": {},
     "output_type": "execute_result"
    }
   ],
   "source": [
    "type(store['obj2'])"
   ]
  },
  {
   "cell_type": "code",
   "execution_count": 28,
   "metadata": {},
   "outputs": [
    {
     "data": {
      "text/html": [
       "<div>\n",
       "<style scoped>\n",
       "    .dataframe tbody tr th:only-of-type {\n",
       "        vertical-align: middle;\n",
       "    }\n",
       "\n",
       "    .dataframe tbody tr th {\n",
       "        vertical-align: top;\n",
       "    }\n",
       "\n",
       "    .dataframe thead th {\n",
       "        text-align: right;\n",
       "    }\n",
       "</style>\n",
       "<table border=\"1\" class=\"dataframe\">\n",
       "  <thead>\n",
       "    <tr style=\"text-align: right;\">\n",
       "      <th></th>\n",
       "      <th>a</th>\n",
       "    </tr>\n",
       "  </thead>\n",
       "  <tbody>\n",
       "    <tr>\n",
       "      <th>10</th>\n",
       "      <td>0.986263</td>\n",
       "    </tr>\n",
       "    <tr>\n",
       "      <th>11</th>\n",
       "      <td>1.189086</td>\n",
       "    </tr>\n",
       "    <tr>\n",
       "      <th>12</th>\n",
       "      <td>0.462015</td>\n",
       "    </tr>\n",
       "    <tr>\n",
       "      <th>13</th>\n",
       "      <td>-0.800876</td>\n",
       "    </tr>\n",
       "    <tr>\n",
       "      <th>14</th>\n",
       "      <td>-1.652308</td>\n",
       "    </tr>\n",
       "    <tr>\n",
       "      <th>15</th>\n",
       "      <td>0.678156</td>\n",
       "    </tr>\n",
       "  </tbody>\n",
       "</table>\n",
       "</div>"
      ],
      "text/plain": [
       "           a\n",
       "10  0.986263\n",
       "11  1.189086\n",
       "12  0.462015\n",
       "13 -0.800876\n",
       "14 -1.652308\n",
       "15  0.678156"
      ]
     },
     "execution_count": 28,
     "metadata": {},
     "output_type": "execute_result"
    }
   ],
   "source": [
    "store.select('obj2', where=['index >= 10 and index <= 15'])"
   ]
  },
  {
   "cell_type": "code",
   "execution_count": 29,
   "metadata": {},
   "outputs": [],
   "source": [
    "frame.to_hdf('mydata.h5', 'obj3', format='table')"
   ]
  },
  {
   "cell_type": "code",
   "execution_count": 31,
   "metadata": {},
   "outputs": [],
   "source": [
    "# READING MICROSOFT EXCEL FILE"
   ]
  },
  {
   "cell_type": "code",
   "execution_count": 32,
   "metadata": {},
   "outputs": [],
   "source": [
    "xlsx = pd.ExcelFile('examples/ex1.xlsx')"
   ]
  },
  {
   "cell_type": "code",
   "execution_count": 33,
   "metadata": {},
   "outputs": [
    {
     "data": {
      "text/html": [
       "<div>\n",
       "<style scoped>\n",
       "    .dataframe tbody tr th:only-of-type {\n",
       "        vertical-align: middle;\n",
       "    }\n",
       "\n",
       "    .dataframe tbody tr th {\n",
       "        vertical-align: top;\n",
       "    }\n",
       "\n",
       "    .dataframe thead th {\n",
       "        text-align: right;\n",
       "    }\n",
       "</style>\n",
       "<table border=\"1\" class=\"dataframe\">\n",
       "  <thead>\n",
       "    <tr style=\"text-align: right;\">\n",
       "      <th></th>\n",
       "      <th>Unnamed: 0</th>\n",
       "      <th>a</th>\n",
       "      <th>b</th>\n",
       "      <th>c</th>\n",
       "      <th>d</th>\n",
       "      <th>message</th>\n",
       "    </tr>\n",
       "  </thead>\n",
       "  <tbody>\n",
       "    <tr>\n",
       "      <th>0</th>\n",
       "      <td>0</td>\n",
       "      <td>1</td>\n",
       "      <td>2</td>\n",
       "      <td>3</td>\n",
       "      <td>4</td>\n",
       "      <td>hello</td>\n",
       "    </tr>\n",
       "    <tr>\n",
       "      <th>1</th>\n",
       "      <td>1</td>\n",
       "      <td>5</td>\n",
       "      <td>6</td>\n",
       "      <td>7</td>\n",
       "      <td>8</td>\n",
       "      <td>world</td>\n",
       "    </tr>\n",
       "    <tr>\n",
       "      <th>2</th>\n",
       "      <td>2</td>\n",
       "      <td>9</td>\n",
       "      <td>10</td>\n",
       "      <td>11</td>\n",
       "      <td>12</td>\n",
       "      <td>foo</td>\n",
       "    </tr>\n",
       "  </tbody>\n",
       "</table>\n",
       "</div>"
      ],
      "text/plain": [
       "   Unnamed: 0  a   b   c   d message\n",
       "0           0  1   2   3   4   hello\n",
       "1           1  5   6   7   8   world\n",
       "2           2  9  10  11  12     foo"
      ]
     },
     "execution_count": 33,
     "metadata": {},
     "output_type": "execute_result"
    }
   ],
   "source": [
    "pd.read_excel(xlsx, 'Sheet1')"
   ]
  },
  {
   "cell_type": "code",
   "execution_count": 34,
   "metadata": {},
   "outputs": [],
   "source": [
    "frame = pd.read_excel('examples/ex1.xlsx', 'Sheet1')"
   ]
  },
  {
   "cell_type": "code",
   "execution_count": 35,
   "metadata": {},
   "outputs": [
    {
     "data": {
      "text/html": [
       "<div>\n",
       "<style scoped>\n",
       "    .dataframe tbody tr th:only-of-type {\n",
       "        vertical-align: middle;\n",
       "    }\n",
       "\n",
       "    .dataframe tbody tr th {\n",
       "        vertical-align: top;\n",
       "    }\n",
       "\n",
       "    .dataframe thead th {\n",
       "        text-align: right;\n",
       "    }\n",
       "</style>\n",
       "<table border=\"1\" class=\"dataframe\">\n",
       "  <thead>\n",
       "    <tr style=\"text-align: right;\">\n",
       "      <th></th>\n",
       "      <th>Unnamed: 0</th>\n",
       "      <th>a</th>\n",
       "      <th>b</th>\n",
       "      <th>c</th>\n",
       "      <th>d</th>\n",
       "      <th>message</th>\n",
       "    </tr>\n",
       "  </thead>\n",
       "  <tbody>\n",
       "    <tr>\n",
       "      <th>0</th>\n",
       "      <td>0</td>\n",
       "      <td>1</td>\n",
       "      <td>2</td>\n",
       "      <td>3</td>\n",
       "      <td>4</td>\n",
       "      <td>hello</td>\n",
       "    </tr>\n",
       "    <tr>\n",
       "      <th>1</th>\n",
       "      <td>1</td>\n",
       "      <td>5</td>\n",
       "      <td>6</td>\n",
       "      <td>7</td>\n",
       "      <td>8</td>\n",
       "      <td>world</td>\n",
       "    </tr>\n",
       "    <tr>\n",
       "      <th>2</th>\n",
       "      <td>2</td>\n",
       "      <td>9</td>\n",
       "      <td>10</td>\n",
       "      <td>11</td>\n",
       "      <td>12</td>\n",
       "      <td>foo</td>\n",
       "    </tr>\n",
       "  </tbody>\n",
       "</table>\n",
       "</div>"
      ],
      "text/plain": [
       "   Unnamed: 0  a   b   c   d message\n",
       "0           0  1   2   3   4   hello\n",
       "1           1  5   6   7   8   world\n",
       "2           2  9  10  11  12     foo"
      ]
     },
     "execution_count": 35,
     "metadata": {},
     "output_type": "execute_result"
    }
   ],
   "source": [
    "frame"
   ]
  },
  {
   "cell_type": "code",
   "execution_count": 36,
   "metadata": {},
   "outputs": [],
   "source": [
    "# write pandas data to excel format"
   ]
  },
  {
   "cell_type": "code",
   "execution_count": 37,
   "metadata": {},
   "outputs": [],
   "source": [
    "writer = pd.ExcelWriter('examples/ex2.xlsx')"
   ]
  },
  {
   "cell_type": "code",
   "execution_count": 38,
   "metadata": {},
   "outputs": [],
   "source": [
    "frame.to_excel(writer, 'Sheet1')"
   ]
  },
  {
   "cell_type": "code",
   "execution_count": 40,
   "metadata": {},
   "outputs": [],
   "source": [
    "writer.save()"
   ]
  },
  {
   "cell_type": "code",
   "execution_count": 41,
   "metadata": {},
   "outputs": [],
   "source": [
    "frame.to_excel('examples/ex2.xlsx')"
   ]
  },
  {
   "cell_type": "code",
   "execution_count": 42,
   "metadata": {},
   "outputs": [
    {
     "data": {
      "text/html": [
       "<div>\n",
       "<style scoped>\n",
       "    .dataframe tbody tr th:only-of-type {\n",
       "        vertical-align: middle;\n",
       "    }\n",
       "\n",
       "    .dataframe tbody tr th {\n",
       "        vertical-align: top;\n",
       "    }\n",
       "\n",
       "    .dataframe thead th {\n",
       "        text-align: right;\n",
       "    }\n",
       "</style>\n",
       "<table border=\"1\" class=\"dataframe\">\n",
       "  <thead>\n",
       "    <tr style=\"text-align: right;\">\n",
       "      <th></th>\n",
       "      <th>Unnamed: 0</th>\n",
       "      <th>a</th>\n",
       "      <th>b</th>\n",
       "      <th>c</th>\n",
       "      <th>d</th>\n",
       "      <th>message</th>\n",
       "    </tr>\n",
       "  </thead>\n",
       "  <tbody>\n",
       "    <tr>\n",
       "      <th>0</th>\n",
       "      <td>0</td>\n",
       "      <td>1</td>\n",
       "      <td>2</td>\n",
       "      <td>3</td>\n",
       "      <td>4</td>\n",
       "      <td>hello</td>\n",
       "    </tr>\n",
       "    <tr>\n",
       "      <th>1</th>\n",
       "      <td>1</td>\n",
       "      <td>5</td>\n",
       "      <td>6</td>\n",
       "      <td>7</td>\n",
       "      <td>8</td>\n",
       "      <td>world</td>\n",
       "    </tr>\n",
       "    <tr>\n",
       "      <th>2</th>\n",
       "      <td>2</td>\n",
       "      <td>9</td>\n",
       "      <td>10</td>\n",
       "      <td>11</td>\n",
       "      <td>12</td>\n",
       "      <td>foo</td>\n",
       "    </tr>\n",
       "  </tbody>\n",
       "</table>\n",
       "</div>"
      ],
      "text/plain": [
       "   Unnamed: 0  a   b   c   d message\n",
       "0           0  1   2   3   4   hello\n",
       "1           1  5   6   7   8   world\n",
       "2           2  9  10  11  12     foo"
      ]
     },
     "execution_count": 42,
     "metadata": {},
     "output_type": "execute_result"
    }
   ],
   "source": [
    "frame"
   ]
  },
  {
   "cell_type": "code",
   "execution_count": 43,
   "metadata": {},
   "outputs": [
    {
     "data": {
      "text/html": [
       "<div>\n",
       "<style scoped>\n",
       "    .dataframe tbody tr th:only-of-type {\n",
       "        vertical-align: middle;\n",
       "    }\n",
       "\n",
       "    .dataframe tbody tr th {\n",
       "        vertical-align: top;\n",
       "    }\n",
       "\n",
       "    .dataframe thead th {\n",
       "        text-align: right;\n",
       "    }\n",
       "</style>\n",
       "<table border=\"1\" class=\"dataframe\">\n",
       "  <thead>\n",
       "    <tr style=\"text-align: right;\">\n",
       "      <th></th>\n",
       "      <th>Unnamed: 0</th>\n",
       "      <th>Unnamed: 0.1</th>\n",
       "      <th>a</th>\n",
       "      <th>b</th>\n",
       "      <th>c</th>\n",
       "      <th>d</th>\n",
       "      <th>message</th>\n",
       "    </tr>\n",
       "  </thead>\n",
       "  <tbody>\n",
       "    <tr>\n",
       "      <th>0</th>\n",
       "      <td>0</td>\n",
       "      <td>0</td>\n",
       "      <td>1</td>\n",
       "      <td>2</td>\n",
       "      <td>3</td>\n",
       "      <td>4</td>\n",
       "      <td>hello</td>\n",
       "    </tr>\n",
       "    <tr>\n",
       "      <th>1</th>\n",
       "      <td>1</td>\n",
       "      <td>1</td>\n",
       "      <td>5</td>\n",
       "      <td>6</td>\n",
       "      <td>7</td>\n",
       "      <td>8</td>\n",
       "      <td>world</td>\n",
       "    </tr>\n",
       "    <tr>\n",
       "      <th>2</th>\n",
       "      <td>2</td>\n",
       "      <td>2</td>\n",
       "      <td>9</td>\n",
       "      <td>10</td>\n",
       "      <td>11</td>\n",
       "      <td>12</td>\n",
       "      <td>foo</td>\n",
       "    </tr>\n",
       "  </tbody>\n",
       "</table>\n",
       "</div>"
      ],
      "text/plain": [
       "   Unnamed: 0  Unnamed: 0.1  a   b   c   d message\n",
       "0           0             0  1   2   3   4   hello\n",
       "1           1             1  5   6   7   8   world\n",
       "2           2             2  9  10  11  12     foo"
      ]
     },
     "execution_count": 43,
     "metadata": {},
     "output_type": "execute_result"
    }
   ],
   "source": [
    "pd.read_excel('examples/ex2.xlsx', 'Sheet1')"
   ]
  },
  {
   "cell_type": "markdown",
   "metadata": {},
   "source": [
    "## 6.3 Interating with Web APIs"
   ]
  },
  {
   "cell_type": "code",
   "execution_count": 45,
   "metadata": {},
   "outputs": [],
   "source": [
    "import requests"
   ]
  },
  {
   "cell_type": "code",
   "execution_count": 46,
   "metadata": {},
   "outputs": [],
   "source": [
    "url = 'https://api.github.com/repos/pandas-dev/pandas/issues'"
   ]
  },
  {
   "cell_type": "code",
   "execution_count": 47,
   "metadata": {},
   "outputs": [],
   "source": [
    "resp = requests.get(url)"
   ]
  },
  {
   "cell_type": "code",
   "execution_count": 48,
   "metadata": {},
   "outputs": [
    {
     "data": {
      "text/plain": [
       "<Response [200]>"
      ]
     },
     "execution_count": 48,
     "metadata": {},
     "output_type": "execute_result"
    }
   ],
   "source": [
    "resp"
   ]
  },
  {
   "cell_type": "markdown",
   "metadata": {},
   "source": [
    "The Response object's json method will return a dictionary containing JSON parsed into native Python obects:"
   ]
  },
  {
   "cell_type": "code",
   "execution_count": 49,
   "metadata": {},
   "outputs": [],
   "source": [
    "data = resp.json()"
   ]
  },
  {
   "cell_type": "code",
   "execution_count": 50,
   "metadata": {},
   "outputs": [
    {
     "data": {
      "text/plain": [
       "[{'url': 'https://api.github.com/repos/pandas-dev/pandas/issues/36144',\n",
       "  'repository_url': 'https://api.github.com/repos/pandas-dev/pandas',\n",
       "  'labels_url': 'https://api.github.com/repos/pandas-dev/pandas/issues/36144/labels{/name}',\n",
       "  'comments_url': 'https://api.github.com/repos/pandas-dev/pandas/issues/36144/comments',\n",
       "  'events_url': 'https://api.github.com/repos/pandas-dev/pandas/issues/36144/events',\n",
       "  'html_url': 'https://github.com/pandas-dev/pandas/pull/36144',\n",
       "  'id': 694103540,\n",
       "  'node_id': 'MDExOlB1bGxSZXF1ZXN0NDgwNTMyNjUw',\n",
       "  'number': 36144,\n",
       "  'title': 'STY+CI: check for private function access across modules',\n",
       "  'user': {'login': 'jbrockmendel',\n",
       "   'id': 8078968,\n",
       "   'node_id': 'MDQ6VXNlcjgwNzg5Njg=',\n",
       "   'avatar_url': 'https://avatars1.githubusercontent.com/u/8078968?v=4',\n",
       "   'gravatar_id': '',\n",
       "   'url': 'https://api.github.com/users/jbrockmendel',\n",
       "   'html_url': 'https://github.com/jbrockmendel',\n",
       "   'followers_url': 'https://api.github.com/users/jbrockmendel/followers',\n",
       "   'following_url': 'https://api.github.com/users/jbrockmendel/following{/other_user}',\n",
       "   'gists_url': 'https://api.github.com/users/jbrockmendel/gists{/gist_id}',\n",
       "   'starred_url': 'https://api.github.com/users/jbrockmendel/starred{/owner}{/repo}',\n",
       "   'subscriptions_url': 'https://api.github.com/users/jbrockmendel/subscriptions',\n",
       "   'organizations_url': 'https://api.github.com/users/jbrockmendel/orgs',\n",
       "   'repos_url': 'https://api.github.com/users/jbrockmendel/repos',\n",
       "   'events_url': 'https://api.github.com/users/jbrockmendel/events{/privacy}',\n",
       "   'received_events_url': 'https://api.github.com/users/jbrockmendel/received_events',\n",
       "   'type': 'User',\n",
       "   'site_admin': False},\n",
       "  'labels': [],\n",
       "  'state': 'open',\n",
       "  'locked': False,\n",
       "  'assignee': None,\n",
       "  'assignees': [],\n",
       "  'milestone': None,\n",
       "  'comments': 0,\n",
       "  'created_at': '2020-09-05T15:03:38Z',\n",
       "  'updated_at': '2020-09-05T15:03:38Z',\n",
       "  'closed_at': None,\n",
       "  'author_association': 'MEMBER',\n",
       "  'active_lock_reason': None,\n",
       "  'pull_request': {'url': 'https://api.github.com/repos/pandas-dev/pandas/pulls/36144',\n",
       "   'html_url': 'https://github.com/pandas-dev/pandas/pull/36144',\n",
       "   'diff_url': 'https://github.com/pandas-dev/pandas/pull/36144.diff',\n",
       "   'patch_url': 'https://github.com/pandas-dev/pandas/pull/36144.patch'},\n",
       "  'body': 'The added checks here are broken off from #36055.',\n",
       "  'performed_via_github_app': None},\n",
       " {'url': 'https://api.github.com/repos/pandas-dev/pandas/issues/36143',\n",
       "  'repository_url': 'https://api.github.com/repos/pandas-dev/pandas',\n",
       "  'labels_url': 'https://api.github.com/repos/pandas-dev/pandas/issues/36143/labels{/name}',\n",
       "  'comments_url': 'https://api.github.com/repos/pandas-dev/pandas/issues/36143/comments',\n",
       "  'events_url': 'https://api.github.com/repos/pandas-dev/pandas/issues/36143/events',\n",
       "  'html_url': 'https://github.com/pandas-dev/pandas/pull/36143',\n",
       "  'id': 694102873,\n",
       "  'node_id': 'MDExOlB1bGxSZXF1ZXN0NDgwNTMyMTQ0',\n",
       "  'number': 36143,\n",
       "  'title': 'CLN: unused case in compare_or_regex_search',\n",
       "  'user': {'login': 'jbrockmendel',\n",
       "   'id': 8078968,\n",
       "   'node_id': 'MDQ6VXNlcjgwNzg5Njg=',\n",
       "   'avatar_url': 'https://avatars1.githubusercontent.com/u/8078968?v=4',\n",
       "   'gravatar_id': '',\n",
       "   'url': 'https://api.github.com/users/jbrockmendel',\n",
       "   'html_url': 'https://github.com/jbrockmendel',\n",
       "   'followers_url': 'https://api.github.com/users/jbrockmendel/followers',\n",
       "   'following_url': 'https://api.github.com/users/jbrockmendel/following{/other_user}',\n",
       "   'gists_url': 'https://api.github.com/users/jbrockmendel/gists{/gist_id}',\n",
       "   'starred_url': 'https://api.github.com/users/jbrockmendel/starred{/owner}{/repo}',\n",
       "   'subscriptions_url': 'https://api.github.com/users/jbrockmendel/subscriptions',\n",
       "   'organizations_url': 'https://api.github.com/users/jbrockmendel/orgs',\n",
       "   'repos_url': 'https://api.github.com/users/jbrockmendel/repos',\n",
       "   'events_url': 'https://api.github.com/users/jbrockmendel/events{/privacy}',\n",
       "   'received_events_url': 'https://api.github.com/users/jbrockmendel/received_events',\n",
       "   'type': 'User',\n",
       "   'site_admin': False},\n",
       "  'labels': [],\n",
       "  'state': 'open',\n",
       "  'locked': False,\n",
       "  'assignee': None,\n",
       "  'assignees': [],\n",
       "  'milestone': None,\n",
       "  'comments': 0,\n",
       "  'created_at': '2020-09-05T15:00:00Z',\n",
       "  'updated_at': '2020-09-05T15:00:00Z',\n",
       "  'closed_at': None,\n",
       "  'author_association': 'MEMBER',\n",
       "  'active_lock_reason': None,\n",
       "  'pull_request': {'url': 'https://api.github.com/repos/pandas-dev/pandas/pulls/36143',\n",
       "   'html_url': 'https://github.com/pandas-dev/pandas/pull/36143',\n",
       "   'diff_url': 'https://github.com/pandas-dev/pandas/pull/36143.diff',\n",
       "   'patch_url': 'https://github.com/pandas-dev/pandas/pull/36143.patch'},\n",
       "  'body': '\\r\\n',\n",
       "  'performed_via_github_app': None},\n",
       " {'url': 'https://api.github.com/repos/pandas-dev/pandas/issues/36142',\n",
       "  'repository_url': 'https://api.github.com/repos/pandas-dev/pandas',\n",
       "  'labels_url': 'https://api.github.com/repos/pandas-dev/pandas/issues/36142/labels{/name}',\n",
       "  'comments_url': 'https://api.github.com/repos/pandas-dev/pandas/issues/36142/comments',\n",
       "  'events_url': 'https://api.github.com/repos/pandas-dev/pandas/issues/36142/events',\n",
       "  'html_url': 'https://github.com/pandas-dev/pandas/pull/36142',\n",
       "  'id': 694102822,\n",
       "  'node_id': 'MDExOlB1bGxSZXF1ZXN0NDgwNTMyMTA4',\n",
       "  'number': 36142,\n",
       "  'title': 'Arrow string array dtype',\n",
       "  'user': {'login': 'TomAugspurger',\n",
       "   'id': 1312546,\n",
       "   'node_id': 'MDQ6VXNlcjEzMTI1NDY=',\n",
       "   'avatar_url': 'https://avatars3.githubusercontent.com/u/1312546?v=4',\n",
       "   'gravatar_id': '',\n",
       "   'url': 'https://api.github.com/users/TomAugspurger',\n",
       "   'html_url': 'https://github.com/TomAugspurger',\n",
       "   'followers_url': 'https://api.github.com/users/TomAugspurger/followers',\n",
       "   'following_url': 'https://api.github.com/users/TomAugspurger/following{/other_user}',\n",
       "   'gists_url': 'https://api.github.com/users/TomAugspurger/gists{/gist_id}',\n",
       "   'starred_url': 'https://api.github.com/users/TomAugspurger/starred{/owner}{/repo}',\n",
       "   'subscriptions_url': 'https://api.github.com/users/TomAugspurger/subscriptions',\n",
       "   'organizations_url': 'https://api.github.com/users/TomAugspurger/orgs',\n",
       "   'repos_url': 'https://api.github.com/users/TomAugspurger/repos',\n",
       "   'events_url': 'https://api.github.com/users/TomAugspurger/events{/privacy}',\n",
       "   'received_events_url': 'https://api.github.com/users/TomAugspurger/received_events',\n",
       "   'type': 'User',\n",
       "   'site_admin': False},\n",
       "  'labels': [],\n",
       "  'state': 'open',\n",
       "  'locked': False,\n",
       "  'assignee': None,\n",
       "  'assignees': [],\n",
       "  'milestone': None,\n",
       "  'comments': 1,\n",
       "  'created_at': '2020-09-05T14:59:38Z',\n",
       "  'updated_at': '2020-09-05T14:59:52Z',\n",
       "  'closed_at': None,\n",
       "  'author_association': 'CONTRIBUTOR',\n",
       "  'active_lock_reason': None,\n",
       "  'pull_request': {'url': 'https://api.github.com/repos/pandas-dev/pandas/pulls/36142',\n",
       "   'html_url': 'https://github.com/pandas-dev/pandas/pull/36142',\n",
       "   'diff_url': 'https://github.com/pandas-dev/pandas/pull/36142.diff',\n",
       "   'patch_url': 'https://github.com/pandas-dev/pandas/pull/36142.patch'},\n",
       "  'body': 'This is a continuation of https://github.com/pandas-dev/pandas/pull/35259, updated to use a single `StringDtype` parameterized by `storage` (python or pyarrow). We do use different classes for the array though.\\r\\n\\r\\nI wouldn\\'t recommend reviewing this yet. In particular, I need to refactor the string ops implementation. That will likely be done in a separate PR to keep things smaller here.\\r\\n\\r\\n```python\\r\\nIn [1]: import pandas as pd\\r\\n\\r\\nIn [2]: a = pd.Series(pd.array([pd.NA, pd.NA], dtype=pd.StringDtype(\"python\")))\\r\\n\\r\\nIn [3]: b = pd.Series(pd.array([pd.NA, pd.NA], dtype=pd.StringDtype(\"pyarrow\")))\\r\\n\\r\\nIn [4]: a.array\\r\\nOut[4]:\\r\\n<StringArray>\\r\\n[<NA>, <NA>]\\r\\nLength: 2, dtype: StringDtype[python]\\r\\n\\r\\nIn [5]: b.array\\r\\nOut[5]:\\r\\n<ArrowStringArray>\\r\\n[<NA>, <NA>]\\r\\nLength: 2, dtype: StringDtype[pyarrow]\\r\\n```\\r\\n\\r\\nCloses https://github.com/pandas-dev/pandas/issues/35169',\n",
       "  'performed_via_github_app': None},\n",
       " {'url': 'https://api.github.com/repos/pandas-dev/pandas/issues/36141',\n",
       "  'repository_url': 'https://api.github.com/repos/pandas-dev/pandas',\n",
       "  'labels_url': 'https://api.github.com/repos/pandas-dev/pandas/issues/36141/labels{/name}',\n",
       "  'comments_url': 'https://api.github.com/repos/pandas-dev/pandas/issues/36141/comments',\n",
       "  'events_url': 'https://api.github.com/repos/pandas-dev/pandas/issues/36141/events',\n",
       "  'html_url': 'https://github.com/pandas-dev/pandas/pull/36141',\n",
       "  'id': 694102668,\n",
       "  'node_id': 'MDExOlB1bGxSZXF1ZXN0NDgwNTMxOTgz',\n",
       "  'number': 36141,\n",
       "  'title': 'BUG: copying series into empty dataframe does not preserve dataframe index name',\n",
       "  'user': {'login': 'Dr-Irv',\n",
       "   'id': 15113894,\n",
       "   'node_id': 'MDQ6VXNlcjE1MTEzODk0',\n",
       "   'avatar_url': 'https://avatars0.githubusercontent.com/u/15113894?v=4',\n",
       "   'gravatar_id': '',\n",
       "   'url': 'https://api.github.com/users/Dr-Irv',\n",
       "   'html_url': 'https://github.com/Dr-Irv',\n",
       "   'followers_url': 'https://api.github.com/users/Dr-Irv/followers',\n",
       "   'following_url': 'https://api.github.com/users/Dr-Irv/following{/other_user}',\n",
       "   'gists_url': 'https://api.github.com/users/Dr-Irv/gists{/gist_id}',\n",
       "   'starred_url': 'https://api.github.com/users/Dr-Irv/starred{/owner}{/repo}',\n",
       "   'subscriptions_url': 'https://api.github.com/users/Dr-Irv/subscriptions',\n",
       "   'organizations_url': 'https://api.github.com/users/Dr-Irv/orgs',\n",
       "   'repos_url': 'https://api.github.com/users/Dr-Irv/repos',\n",
       "   'events_url': 'https://api.github.com/users/Dr-Irv/events{/privacy}',\n",
       "   'received_events_url': 'https://api.github.com/users/Dr-Irv/received_events',\n",
       "   'type': 'User',\n",
       "   'site_admin': False},\n",
       "  'labels': [],\n",
       "  'state': 'open',\n",
       "  'locked': False,\n",
       "  'assignee': None,\n",
       "  'assignees': [],\n",
       "  'milestone': None,\n",
       "  'comments': 0,\n",
       "  'created_at': '2020-09-05T14:58:57Z',\n",
       "  'updated_at': '2020-09-05T14:58:57Z',\n",
       "  'closed_at': None,\n",
       "  'author_association': 'CONTRIBUTOR',\n",
       "  'active_lock_reason': None,\n",
       "  'pull_request': {'url': 'https://api.github.com/repos/pandas-dev/pandas/pulls/36141',\n",
       "   'html_url': 'https://github.com/pandas-dev/pandas/pull/36141',\n",
       "   'diff_url': 'https://github.com/pandas-dev/pandas/pull/36141.diff',\n",
       "   'patch_url': 'https://github.com/pandas-dev/pandas/pull/36141.patch'},\n",
       "  'body': '- [x] closes #31368\\r\\n- [x] tests added / passed\\r\\n   `indexing/test_partial.py:TestPartialSetting:test_index_name_empty`\\r\\n- [x] passes `black pandas`\\r\\n- [x] passes `git diff upstream/master -u -- \"*.py\" | flake8 --diff`\\r\\n- [x] whatsnew entry\\r\\n',\n",
       "  'performed_via_github_app': None},\n",
       " {'url': 'https://api.github.com/repos/pandas-dev/pandas/issues/36138',\n",
       "  'repository_url': 'https://api.github.com/repos/pandas-dev/pandas',\n",
       "  'labels_url': 'https://api.github.com/repos/pandas-dev/pandas/issues/36138/labels{/name}',\n",
       "  'comments_url': 'https://api.github.com/repos/pandas-dev/pandas/issues/36138/comments',\n",
       "  'events_url': 'https://api.github.com/repos/pandas-dev/pandas/issues/36138/events',\n",
       "  'html_url': 'https://github.com/pandas-dev/pandas/pull/36138',\n",
       "  'id': 694087204,\n",
       "  'node_id': 'MDExOlB1bGxSZXF1ZXN0NDgwNTIwMzk4',\n",
       "  'number': 36138,\n",
       "  'title': 'TYP: misc property return types',\n",
       "  'user': {'login': 'simonjayhawkins',\n",
       "   'id': 13159005,\n",
       "   'node_id': 'MDQ6VXNlcjEzMTU5MDA1',\n",
       "   'avatar_url': 'https://avatars0.githubusercontent.com/u/13159005?v=4',\n",
       "   'gravatar_id': '',\n",
       "   'url': 'https://api.github.com/users/simonjayhawkins',\n",
       "   'html_url': 'https://github.com/simonjayhawkins',\n",
       "   'followers_url': 'https://api.github.com/users/simonjayhawkins/followers',\n",
       "   'following_url': 'https://api.github.com/users/simonjayhawkins/following{/other_user}',\n",
       "   'gists_url': 'https://api.github.com/users/simonjayhawkins/gists{/gist_id}',\n",
       "   'starred_url': 'https://api.github.com/users/simonjayhawkins/starred{/owner}{/repo}',\n",
       "   'subscriptions_url': 'https://api.github.com/users/simonjayhawkins/subscriptions',\n",
       "   'organizations_url': 'https://api.github.com/users/simonjayhawkins/orgs',\n",
       "   'repos_url': 'https://api.github.com/users/simonjayhawkins/repos',\n",
       "   'events_url': 'https://api.github.com/users/simonjayhawkins/events{/privacy}',\n",
       "   'received_events_url': 'https://api.github.com/users/simonjayhawkins/received_events',\n",
       "   'type': 'User',\n",
       "   'site_admin': False},\n",
       "  'labels': [{'id': 1280988427,\n",
       "    'node_id': 'MDU6TGFiZWwxMjgwOTg4NDI3',\n",
       "    'url': 'https://api.github.com/repos/pandas-dev/pandas/labels/Typing',\n",
       "    'name': 'Typing',\n",
       "    'color': 'ea91a4',\n",
       "    'default': False,\n",
       "    'description': 'mypy type annotations'}],\n",
       "  'state': 'open',\n",
       "  'locked': False,\n",
       "  'assignee': None,\n",
       "  'assignees': [],\n",
       "  'milestone': None,\n",
       "  'comments': 0,\n",
       "  'created_at': '2020-09-05T13:33:15Z',\n",
       "  'updated_at': '2020-09-05T14:54:03Z',\n",
       "  'closed_at': None,\n",
       "  'author_association': 'MEMBER',\n",
       "  'active_lock_reason': None,\n",
       "  'pull_request': {'url': 'https://api.github.com/repos/pandas-dev/pandas/pulls/36138',\n",
       "   'html_url': 'https://github.com/pandas-dev/pandas/pull/36138',\n",
       "   'diff_url': 'https://github.com/pandas-dev/pandas/pull/36138.diff',\n",
       "   'patch_url': 'https://github.com/pandas-dev/pandas/pull/36138.patch'},\n",
       "  'body': '',\n",
       "  'performed_via_github_app': None},\n",
       " {'url': 'https://api.github.com/repos/pandas-dev/pandas/issues/36136',\n",
       "  'repository_url': 'https://api.github.com/repos/pandas-dev/pandas',\n",
       "  'labels_url': 'https://api.github.com/repos/pandas-dev/pandas/issues/36136/labels{/name}',\n",
       "  'comments_url': 'https://api.github.com/repos/pandas-dev/pandas/issues/36136/comments',\n",
       "  'events_url': 'https://api.github.com/repos/pandas-dev/pandas/issues/36136/events',\n",
       "  'html_url': 'https://github.com/pandas-dev/pandas/pull/36136',\n",
       "  'id': 694062666,\n",
       "  'node_id': 'MDExOlB1bGxSZXF1ZXN0NDgwNTAxODMy',\n",
       "  'number': 36136,\n",
       "  'title': 'API: Make ExtensionDtype.construct_array_type a method',\n",
       "  'user': {'login': 'TomAugspurger',\n",
       "   'id': 1312546,\n",
       "   'node_id': 'MDQ6VXNlcjEzMTI1NDY=',\n",
       "   'avatar_url': 'https://avatars3.githubusercontent.com/u/1312546?v=4',\n",
       "   'gravatar_id': '',\n",
       "   'url': 'https://api.github.com/users/TomAugspurger',\n",
       "   'html_url': 'https://github.com/TomAugspurger',\n",
       "   'followers_url': 'https://api.github.com/users/TomAugspurger/followers',\n",
       "   'following_url': 'https://api.github.com/users/TomAugspurger/following{/other_user}',\n",
       "   'gists_url': 'https://api.github.com/users/TomAugspurger/gists{/gist_id}',\n",
       "   'starred_url': 'https://api.github.com/users/TomAugspurger/starred{/owner}{/repo}',\n",
       "   'subscriptions_url': 'https://api.github.com/users/TomAugspurger/subscriptions',\n",
       "   'organizations_url': 'https://api.github.com/users/TomAugspurger/orgs',\n",
       "   'repos_url': 'https://api.github.com/users/TomAugspurger/repos',\n",
       "   'events_url': 'https://api.github.com/users/TomAugspurger/events{/privacy}',\n",
       "   'received_events_url': 'https://api.github.com/users/TomAugspurger/received_events',\n",
       "   'type': 'User',\n",
       "   'site_admin': False},\n",
       "  'labels': [{'id': 35818298,\n",
       "    'node_id': 'MDU6TGFiZWwzNTgxODI5OA==',\n",
       "    'url': 'https://api.github.com/repos/pandas-dev/pandas/labels/API%20Design',\n",
       "    'name': 'API Design',\n",
       "    'color': 'AD7FA8',\n",
       "    'default': False,\n",
       "    'description': None},\n",
       "   {'id': 849023693,\n",
       "    'node_id': 'MDU6TGFiZWw4NDkwMjM2OTM=',\n",
       "    'url': 'https://api.github.com/repos/pandas-dev/pandas/labels/ExtensionArray',\n",
       "    'name': 'ExtensionArray',\n",
       "    'color': '6138b5',\n",
       "    'default': False,\n",
       "    'description': 'Extending pandas with custom dtypes or arrays.'}],\n",
       "  'state': 'open',\n",
       "  'locked': False,\n",
       "  'assignee': None,\n",
       "  'assignees': [],\n",
       "  'milestone': {'url': 'https://api.github.com/repos/pandas-dev/pandas/milestones/73',\n",
       "   'html_url': 'https://github.com/pandas-dev/pandas/milestone/73',\n",
       "   'labels_url': 'https://api.github.com/repos/pandas-dev/pandas/milestones/73/labels',\n",
       "   'id': 5479819,\n",
       "   'node_id': 'MDk6TWlsZXN0b25lNTQ3OTgxOQ==',\n",
       "   'number': 73,\n",
       "   'title': '1.2',\n",
       "   'description': '',\n",
       "   'creator': {'login': 'jreback',\n",
       "    'id': 953992,\n",
       "    'node_id': 'MDQ6VXNlcjk1Mzk5Mg==',\n",
       "    'avatar_url': 'https://avatars2.githubusercontent.com/u/953992?v=4',\n",
       "    'gravatar_id': '',\n",
       "    'url': 'https://api.github.com/users/jreback',\n",
       "    'html_url': 'https://github.com/jreback',\n",
       "    'followers_url': 'https://api.github.com/users/jreback/followers',\n",
       "    'following_url': 'https://api.github.com/users/jreback/following{/other_user}',\n",
       "    'gists_url': 'https://api.github.com/users/jreback/gists{/gist_id}',\n",
       "    'starred_url': 'https://api.github.com/users/jreback/starred{/owner}{/repo}',\n",
       "    'subscriptions_url': 'https://api.github.com/users/jreback/subscriptions',\n",
       "    'organizations_url': 'https://api.github.com/users/jreback/orgs',\n",
       "    'repos_url': 'https://api.github.com/users/jreback/repos',\n",
       "    'events_url': 'https://api.github.com/users/jreback/events{/privacy}',\n",
       "    'received_events_url': 'https://api.github.com/users/jreback/received_events',\n",
       "    'type': 'User',\n",
       "    'site_admin': False},\n",
       "   'open_issues': 48,\n",
       "   'closed_issues': 287,\n",
       "   'state': 'open',\n",
       "   'created_at': '2020-05-29T23:47:32Z',\n",
       "   'updated_at': '2020-09-05T15:03:55Z',\n",
       "   'due_on': '2020-11-29T08:00:00Z',\n",
       "   'closed_at': None},\n",
       "  'comments': 4,\n",
       "  'created_at': '2020-09-05T11:10:53Z',\n",
       "  'updated_at': '2020-09-05T14:57:32Z',\n",
       "  'closed_at': None,\n",
       "  'author_association': 'CONTRIBUTOR',\n",
       "  'active_lock_reason': None,\n",
       "  'pull_request': {'url': 'https://api.github.com/repos/pandas-dev/pandas/pulls/36136',\n",
       "   'html_url': 'https://github.com/pandas-dev/pandas/pull/36136',\n",
       "   'diff_url': 'https://github.com/pandas-dev/pandas/pull/36136.diff',\n",
       "   'patch_url': 'https://github.com/pandas-dev/pandas/pull/36136.patch'},\n",
       "  'body': 'This allows a single dtype to support multiple array classes.\\r\\nFor arrow-backed strings, we\\'ll likely want a separate array class\\r\\nfor ease of implementation, clarity. But we\\'ll have a parametrized\\r\\ndtype.\\r\\n\\r\\n```python\\r\\nclass StringDtype:\\r\\n    def __init__(self, storage=\"python\"):\\r\\n        self.storage = storage\\r\\n\\r\\n    def construct_array_type(self):  # regular method\\r\\n        if self.storage == \"python\":\\r\\n            return StringArray\\r\\n        else:\\r\\n            return ArrowStringArray\\r\\n```\\r\\n\\r\\nCloses #36126',\n",
       "  'performed_via_github_app': None},\n",
       " {'url': 'https://api.github.com/repos/pandas-dev/pandas/issues/36134',\n",
       "  'repository_url': 'https://api.github.com/repos/pandas-dev/pandas',\n",
       "  'labels_url': 'https://api.github.com/repos/pandas-dev/pandas/issues/36134/labels{/name}',\n",
       "  'comments_url': 'https://api.github.com/repos/pandas-dev/pandas/issues/36134/comments',\n",
       "  'events_url': 'https://api.github.com/repos/pandas-dev/pandas/issues/36134/events',\n",
       "  'html_url': 'https://github.com/pandas-dev/pandas/pull/36134',\n",
       "  'id': 693974714,\n",
       "  'node_id': 'MDExOlB1bGxSZXF1ZXN0NDgwNDMwMDYy',\n",
       "  'number': 36134,\n",
       "  'title': 'BUG: shows correct package name when import_optional_dependency is ca…',\n",
       "  'user': {'login': 'hs2361',\n",
       "   'id': 51477130,\n",
       "   'node_id': 'MDQ6VXNlcjUxNDc3MTMw',\n",
       "   'avatar_url': 'https://avatars0.githubusercontent.com/u/51477130?v=4',\n",
       "   'gravatar_id': '',\n",
       "   'url': 'https://api.github.com/users/hs2361',\n",
       "   'html_url': 'https://github.com/hs2361',\n",
       "   'followers_url': 'https://api.github.com/users/hs2361/followers',\n",
       "   'following_url': 'https://api.github.com/users/hs2361/following{/other_user}',\n",
       "   'gists_url': 'https://api.github.com/users/hs2361/gists{/gist_id}',\n",
       "   'starred_url': 'https://api.github.com/users/hs2361/starred{/owner}{/repo}',\n",
       "   'subscriptions_url': 'https://api.github.com/users/hs2361/subscriptions',\n",
       "   'organizations_url': 'https://api.github.com/users/hs2361/orgs',\n",
       "   'repos_url': 'https://api.github.com/users/hs2361/repos',\n",
       "   'events_url': 'https://api.github.com/users/hs2361/events{/privacy}',\n",
       "   'received_events_url': 'https://api.github.com/users/hs2361/received_events',\n",
       "   'type': 'User',\n",
       "   'site_admin': False},\n",
       "  'labels': [{'id': 129350,\n",
       "    'node_id': 'MDU6TGFiZWwxMjkzNTA=',\n",
       "    'url': 'https://api.github.com/repos/pandas-dev/pandas/labels/Build',\n",
       "    'name': 'Build',\n",
       "    'color': '75507B',\n",
       "    'default': False,\n",
       "    'description': 'Library building on various platforms'},\n",
       "   {'id': 42670965,\n",
       "    'node_id': 'MDU6TGFiZWw0MjY3MDk2NQ==',\n",
       "    'url': 'https://api.github.com/repos/pandas-dev/pandas/labels/Error%20Reporting',\n",
       "    'name': 'Error Reporting',\n",
       "    'color': 'ffa0ff',\n",
       "    'default': False,\n",
       "    'description': 'Incorrect or improved errors from pandas'},\n",
       "   {'id': 49254273,\n",
       "    'node_id': 'MDU6TGFiZWw0OTI1NDI3Mw==',\n",
       "    'url': 'https://api.github.com/repos/pandas-dev/pandas/labels/IO%20Excel',\n",
       "    'name': 'IO Excel',\n",
       "    'color': 'bfe5bf',\n",
       "    'default': False,\n",
       "    'description': 'read_excel, to_excel'}],\n",
       "  'state': 'open',\n",
       "  'locked': False,\n",
       "  'assignee': None,\n",
       "  'assignees': [],\n",
       "  'milestone': {'url': 'https://api.github.com/repos/pandas-dev/pandas/milestones/76',\n",
       "   'html_url': 'https://github.com/pandas-dev/pandas/milestone/76',\n",
       "   'labels_url': 'https://api.github.com/repos/pandas-dev/pandas/milestones/76/labels',\n",
       "   'id': 5781056,\n",
       "   'node_id': 'MDk6TWlsZXN0b25lNTc4MTA1Ng==',\n",
       "   'number': 76,\n",
       "   'title': '1.1.2',\n",
       "   'description': 'on-merge: backport to 1.1.x',\n",
       "   'creator': {'login': 'simonjayhawkins',\n",
       "    'id': 13159005,\n",
       "    'node_id': 'MDQ6VXNlcjEzMTU5MDA1',\n",
       "    'avatar_url': 'https://avatars0.githubusercontent.com/u/13159005?v=4',\n",
       "    'gravatar_id': '',\n",
       "    'url': 'https://api.github.com/users/simonjayhawkins',\n",
       "    'html_url': 'https://github.com/simonjayhawkins',\n",
       "    'followers_url': 'https://api.github.com/users/simonjayhawkins/followers',\n",
       "    'following_url': 'https://api.github.com/users/simonjayhawkins/following{/other_user}',\n",
       "    'gists_url': 'https://api.github.com/users/simonjayhawkins/gists{/gist_id}',\n",
       "    'starred_url': 'https://api.github.com/users/simonjayhawkins/starred{/owner}{/repo}',\n",
       "    'subscriptions_url': 'https://api.github.com/users/simonjayhawkins/subscriptions',\n",
       "    'organizations_url': 'https://api.github.com/users/simonjayhawkins/orgs',\n",
       "    'repos_url': 'https://api.github.com/users/simonjayhawkins/repos',\n",
       "    'events_url': 'https://api.github.com/users/simonjayhawkins/events{/privacy}',\n",
       "    'received_events_url': 'https://api.github.com/users/simonjayhawkins/received_events',\n",
       "    'type': 'User',\n",
       "    'site_admin': False},\n",
       "   'open_issues': 36,\n",
       "   'closed_issues': 56,\n",
       "   'state': 'open',\n",
       "   'created_at': '2020-08-17T19:11:56Z',\n",
       "   'updated_at': '2020-09-05T14:38:50Z',\n",
       "   'due_on': '2020-09-06T07:00:00Z',\n",
       "   'closed_at': None},\n",
       "  'comments': 0,\n",
       "  'created_at': '2020-09-05T04:19:41Z',\n",
       "  'updated_at': '2020-09-05T14:38:44Z',\n",
       "  'closed_at': None,\n",
       "  'author_association': 'NONE',\n",
       "  'active_lock_reason': None,\n",
       "  'pull_request': {'url': 'https://api.github.com/repos/pandas-dev/pandas/pulls/36134',\n",
       "   'html_url': 'https://github.com/pandas-dev/pandas/pull/36134',\n",
       "   'diff_url': 'https://github.com/pandas-dev/pandas/pull/36134.diff',\n",
       "   'patch_url': 'https://github.com/pandas-dev/pandas/pull/36134.patch'},\n",
       "  'body': '…lled. fixes #35948\\r\\n\\r\\n- [ ] closes #35948\\r\\n- [ ] tests added / passed\\r\\n- [x] passes `black pandas`\\r\\n- [ ] passes `git diff upstream/master -u -- \"*.py\" | flake8 --diff`\\r\\n- [ ] whatsnew entry\\r\\n',\n",
       "  'performed_via_github_app': None},\n",
       " {'url': 'https://api.github.com/repos/pandas-dev/pandas/issues/36133',\n",
       "  'repository_url': 'https://api.github.com/repos/pandas-dev/pandas',\n",
       "  'labels_url': 'https://api.github.com/repos/pandas-dev/pandas/issues/36133/labels{/name}',\n",
       "  'comments_url': 'https://api.github.com/repos/pandas-dev/pandas/issues/36133/comments',\n",
       "  'events_url': 'https://api.github.com/repos/pandas-dev/pandas/issues/36133/events',\n",
       "  'html_url': 'https://github.com/pandas-dev/pandas/pull/36133',\n",
       "  'id': 693957852,\n",
       "  'node_id': 'MDExOlB1bGxSZXF1ZXN0NDgwNDE0NzQy',\n",
       "  'number': 36133,\n",
       "  'title': 'WIP/DEPR: DataFrame reductions match Series behavior',\n",
       "  'user': {'login': 'jbrockmendel',\n",
       "   'id': 8078968,\n",
       "   'node_id': 'MDQ6VXNlcjgwNzg5Njg=',\n",
       "   'avatar_url': 'https://avatars1.githubusercontent.com/u/8078968?v=4',\n",
       "   'gravatar_id': '',\n",
       "   'url': 'https://api.github.com/users/jbrockmendel',\n",
       "   'html_url': 'https://github.com/jbrockmendel',\n",
       "   'followers_url': 'https://api.github.com/users/jbrockmendel/followers',\n",
       "   'following_url': 'https://api.github.com/users/jbrockmendel/following{/other_user}',\n",
       "   'gists_url': 'https://api.github.com/users/jbrockmendel/gists{/gist_id}',\n",
       "   'starred_url': 'https://api.github.com/users/jbrockmendel/starred{/owner}{/repo}',\n",
       "   'subscriptions_url': 'https://api.github.com/users/jbrockmendel/subscriptions',\n",
       "   'organizations_url': 'https://api.github.com/users/jbrockmendel/orgs',\n",
       "   'repos_url': 'https://api.github.com/users/jbrockmendel/repos',\n",
       "   'events_url': 'https://api.github.com/users/jbrockmendel/events{/privacy}',\n",
       "   'received_events_url': 'https://api.github.com/users/jbrockmendel/received_events',\n",
       "   'type': 'User',\n",
       "   'site_admin': False},\n",
       "  'labels': [],\n",
       "  'state': 'open',\n",
       "  'locked': False,\n",
       "  'assignee': None,\n",
       "  'assignees': [],\n",
       "  'milestone': None,\n",
       "  'comments': 0,\n",
       "  'created_at': '2020-09-05T03:34:39Z',\n",
       "  'updated_at': '2020-09-05T14:40:29Z',\n",
       "  'closed_at': None,\n",
       "  'author_association': 'MEMBER',\n",
       "  'active_lock_reason': None,\n",
       "  'pull_request': {'url': 'https://api.github.com/repos/pandas-dev/pandas/pulls/36133',\n",
       "   'html_url': 'https://github.com/pandas-dev/pandas/pull/36133',\n",
       "   'diff_url': 'https://github.com/pandas-dev/pandas/pull/36133.diff',\n",
       "   'patch_url': 'https://github.com/pandas-dev/pandas/pull/36133.patch'},\n",
       "  'body': '#34479, #36076\\r\\n\\r\\n- [ ] closes #xxxx\\r\\n- [ ] tests added / passed\\r\\n- [ ] passes `black pandas`\\r\\n- [ ] passes `git diff upstream/master -u -- \"*.py\" | flake8 --diff`\\r\\n- [ ] whatsnew entry\\r\\n\\r\\ncc @jorisvandenbossche this feels klunky, and the axis==1 part im pretty unsure of.  how would you approach this?',\n",
       "  'performed_via_github_app': None},\n",
       " {'url': 'https://api.github.com/repos/pandas-dev/pandas/issues/36132',\n",
       "  'repository_url': 'https://api.github.com/repos/pandas-dev/pandas',\n",
       "  'labels_url': 'https://api.github.com/repos/pandas-dev/pandas/issues/36132/labels{/name}',\n",
       "  'comments_url': 'https://api.github.com/repos/pandas-dev/pandas/issues/36132/comments',\n",
       "  'events_url': 'https://api.github.com/repos/pandas-dev/pandas/issues/36132/events',\n",
       "  'html_url': 'https://github.com/pandas-dev/pandas/pull/36132',\n",
       "  'id': 693816164,\n",
       "  'node_id': 'MDExOlB1bGxSZXF1ZXN0NDgwMjgxMTU2',\n",
       "  'number': 36132,\n",
       "  'title': 'updated fixed indexer to work with rolling df and groupby',\n",
       "  'user': {'login': 'justinessert',\n",
       "   'id': 24326925,\n",
       "   'node_id': 'MDQ6VXNlcjI0MzI2OTI1',\n",
       "   'avatar_url': 'https://avatars3.githubusercontent.com/u/24326925?v=4',\n",
       "   'gravatar_id': '',\n",
       "   'url': 'https://api.github.com/users/justinessert',\n",
       "   'html_url': 'https://github.com/justinessert',\n",
       "   'followers_url': 'https://api.github.com/users/justinessert/followers',\n",
       "   'following_url': 'https://api.github.com/users/justinessert/following{/other_user}',\n",
       "   'gists_url': 'https://api.github.com/users/justinessert/gists{/gist_id}',\n",
       "   'starred_url': 'https://api.github.com/users/justinessert/starred{/owner}{/repo}',\n",
       "   'subscriptions_url': 'https://api.github.com/users/justinessert/subscriptions',\n",
       "   'organizations_url': 'https://api.github.com/users/justinessert/orgs',\n",
       "   'repos_url': 'https://api.github.com/users/justinessert/repos',\n",
       "   'events_url': 'https://api.github.com/users/justinessert/events{/privacy}',\n",
       "   'received_events_url': 'https://api.github.com/users/justinessert/received_events',\n",
       "   'type': 'User',\n",
       "   'site_admin': False},\n",
       "  'labels': [{'id': 1045950827,\n",
       "    'node_id': 'MDU6TGFiZWwxMDQ1OTUwODI3',\n",
       "    'url': 'https://api.github.com/repos/pandas-dev/pandas/labels/Window',\n",
       "    'name': 'Window',\n",
       "    'color': 'd4c5f9',\n",
       "    'default': False,\n",
       "    'description': 'rolling, ewma, expanding'}],\n",
       "  'state': 'open',\n",
       "  'locked': False,\n",
       "  'assignee': None,\n",
       "  'assignees': [],\n",
       "  'milestone': None,\n",
       "  'comments': 1,\n",
       "  'created_at': '2020-09-04T23:37:20Z',\n",
       "  'updated_at': '2020-09-05T00:49:28Z',\n",
       "  'closed_at': None,\n",
       "  'author_association': 'CONTRIBUTOR',\n",
       "  'active_lock_reason': None,\n",
       "  'pull_request': {'url': 'https://api.github.com/repos/pandas-dev/pandas/pulls/36132',\n",
       "   'html_url': 'https://github.com/pandas-dev/pandas/pull/36132',\n",
       "   'diff_url': 'https://github.com/pandas-dev/pandas/pull/36132.diff',\n",
       "   'patch_url': 'https://github.com/pandas-dev/pandas/pull/36132.patch'},\n",
       "  'body': '- [x] closes #36040\\r\\n- [ ] tests added / passed\\r\\n- [ ] passes `black pandas`\\r\\n- [ ] passes `git diff upstream/master -u -- \"*.py\" | flake8 --diff`\\r\\n- [ ] whatsnew entry\\r\\n\\r\\nCreating PR to solve [Issue 36040](https://github.com/pandas-dev/pandas/issues/36040).\\r\\n\\r\\nThe old `FixedWindowIndexer.get_window_bounds` function provided unintuitive bounds that went beyond the length of the original array. Additionally, to do a centered rolling operation, it required NaN values to be appended to the end of original array to enable some roundabout way of achieving the centering.\\r\\n\\r\\nI replaced it with one that seems much simpler and actually creates \"fixed\" size windows (at least prior to clipping the ends), which the previous function did not.\\r\\n\\r\\nThat being said, I know this PR fails some tests, I\\'m would appreciate some advice on how best to proceed!',\n",
       "  'performed_via_github_app': None},\n",
       " {'url': 'https://api.github.com/repos/pandas-dev/pandas/issues/36131',\n",
       "  'repository_url': 'https://api.github.com/repos/pandas-dev/pandas',\n",
       "  'labels_url': 'https://api.github.com/repos/pandas-dev/pandas/issues/36131/labels{/name}',\n",
       "  'comments_url': 'https://api.github.com/repos/pandas-dev/pandas/issues/36131/comments',\n",
       "  'events_url': 'https://api.github.com/repos/pandas-dev/pandas/issues/36131/events',\n",
       "  'html_url': 'https://github.com/pandas-dev/pandas/pull/36131',\n",
       "  'id': 693718240,\n",
       "  'node_id': 'MDExOlB1bGxSZXF1ZXN0NDgwMTg3NDc2',\n",
       "  'number': 36131,\n",
       "  'title': 'BUG: Timestamp == date match stdlib',\n",
       "  'user': {'login': 'jbrockmendel',\n",
       "   'id': 8078968,\n",
       "   'node_id': 'MDQ6VXNlcjgwNzg5Njg=',\n",
       "   'avatar_url': 'https://avatars1.githubusercontent.com/u/8078968?v=4',\n",
       "   'gravatar_id': '',\n",
       "   'url': 'https://api.github.com/users/jbrockmendel',\n",
       "   'html_url': 'https://github.com/jbrockmendel',\n",
       "   'followers_url': 'https://api.github.com/users/jbrockmendel/followers',\n",
       "   'following_url': 'https://api.github.com/users/jbrockmendel/following{/other_user}',\n",
       "   'gists_url': 'https://api.github.com/users/jbrockmendel/gists{/gist_id}',\n",
       "   'starred_url': 'https://api.github.com/users/jbrockmendel/starred{/owner}{/repo}',\n",
       "   'subscriptions_url': 'https://api.github.com/users/jbrockmendel/subscriptions',\n",
       "   'organizations_url': 'https://api.github.com/users/jbrockmendel/orgs',\n",
       "   'repos_url': 'https://api.github.com/users/jbrockmendel/repos',\n",
       "   'events_url': 'https://api.github.com/users/jbrockmendel/events{/privacy}',\n",
       "   'received_events_url': 'https://api.github.com/users/jbrockmendel/received_events',\n",
       "   'type': 'User',\n",
       "   'site_admin': False},\n",
       "  'labels': [],\n",
       "  'state': 'open',\n",
       "  'locked': False,\n",
       "  'assignee': None,\n",
       "  'assignees': [],\n",
       "  'milestone': None,\n",
       "  'comments': 0,\n",
       "  'created_at': '2020-09-04T22:08:55Z',\n",
       "  'updated_at': '2020-09-04T22:08:55Z',\n",
       "  'closed_at': None,\n",
       "  'author_association': 'MEMBER',\n",
       "  'active_lock_reason': None,\n",
       "  'pull_request': {'url': 'https://api.github.com/repos/pandas-dev/pandas/pulls/36131',\n",
       "   'html_url': 'https://github.com/pandas-dev/pandas/pull/36131',\n",
       "   'diff_url': 'https://github.com/pandas-dev/pandas/pull/36131.diff',\n",
       "   'patch_url': 'https://github.com/pandas-dev/pandas/pull/36131.patch'},\n",
       "  'body': '- [ ] closes #xxxx\\r\\n- [x] tests added / passed\\r\\n- [x] passes `black pandas`\\r\\n- [x] passes `git diff upstream/master -u -- \"*.py\" | flake8 --diff`\\r\\n- [ ] whatsnew entry\\r\\n\\r\\nATM we have one reasonable behavior `Timestamp(\"2020-09-04\") == date(2020, 9, 4)` and two un-reasonable behaviors: ``Timestamp(\"2020-09-04\").tz_localize(\"US/Pacific\") == date(2020, 9, 4)`, `Timestamp.now() == Timestamp.now().date()`.  Since the stdlib datetime doesnt consider `datetime(2020, 9, 4) == date(2020, 9, 4)`, this follows the stdlib and considers them never equal.\\r\\n\\r\\nI\\'m still getting one test failure locally.\\r\\n\\r\\ncc @mroeschke ',\n",
       "  'performed_via_github_app': None},\n",
       " {'url': 'https://api.github.com/repos/pandas-dev/pandas/issues/36126',\n",
       "  'repository_url': 'https://api.github.com/repos/pandas-dev/pandas',\n",
       "  'labels_url': 'https://api.github.com/repos/pandas-dev/pandas/issues/36126/labels{/name}',\n",
       "  'comments_url': 'https://api.github.com/repos/pandas-dev/pandas/issues/36126/comments',\n",
       "  'events_url': 'https://api.github.com/repos/pandas-dev/pandas/issues/36126/events',\n",
       "  'html_url': 'https://github.com/pandas-dev/pandas/issues/36126',\n",
       "  'id': 693582256,\n",
       "  'node_id': 'MDU6SXNzdWU2OTM1ODIyNTY=',\n",
       "  'number': 36126,\n",
       "  'title': 'Make ExtensionDtype.construct_array_type a regular method',\n",
       "  'user': {'login': 'TomAugspurger',\n",
       "   'id': 1312546,\n",
       "   'node_id': 'MDQ6VXNlcjEzMTI1NDY=',\n",
       "   'avatar_url': 'https://avatars3.githubusercontent.com/u/1312546?v=4',\n",
       "   'gravatar_id': '',\n",
       "   'url': 'https://api.github.com/users/TomAugspurger',\n",
       "   'html_url': 'https://github.com/TomAugspurger',\n",
       "   'followers_url': 'https://api.github.com/users/TomAugspurger/followers',\n",
       "   'following_url': 'https://api.github.com/users/TomAugspurger/following{/other_user}',\n",
       "   'gists_url': 'https://api.github.com/users/TomAugspurger/gists{/gist_id}',\n",
       "   'starred_url': 'https://api.github.com/users/TomAugspurger/starred{/owner}{/repo}',\n",
       "   'subscriptions_url': 'https://api.github.com/users/TomAugspurger/subscriptions',\n",
       "   'organizations_url': 'https://api.github.com/users/TomAugspurger/orgs',\n",
       "   'repos_url': 'https://api.github.com/users/TomAugspurger/repos',\n",
       "   'events_url': 'https://api.github.com/users/TomAugspurger/events{/privacy}',\n",
       "   'received_events_url': 'https://api.github.com/users/TomAugspurger/received_events',\n",
       "   'type': 'User',\n",
       "   'site_admin': False},\n",
       "  'labels': [{'id': 35818298,\n",
       "    'node_id': 'MDU6TGFiZWwzNTgxODI5OA==',\n",
       "    'url': 'https://api.github.com/repos/pandas-dev/pandas/labels/API%20Design',\n",
       "    'name': 'API Design',\n",
       "    'color': 'AD7FA8',\n",
       "    'default': False,\n",
       "    'description': None},\n",
       "   {'id': 849023693,\n",
       "    'node_id': 'MDU6TGFiZWw4NDkwMjM2OTM=',\n",
       "    'url': 'https://api.github.com/repos/pandas-dev/pandas/labels/ExtensionArray',\n",
       "    'name': 'ExtensionArray',\n",
       "    'color': '6138b5',\n",
       "    'default': False,\n",
       "    'description': 'Extending pandas with custom dtypes or arrays.'},\n",
       "   {'id': 57522093,\n",
       "    'node_id': 'MDU6TGFiZWw1NzUyMjA5Mw==',\n",
       "    'url': 'https://api.github.com/repos/pandas-dev/pandas/labels/Strings',\n",
       "    'name': 'Strings',\n",
       "    'color': '5319e7',\n",
       "    'default': False,\n",
       "    'description': 'String extension data type and string data'}],\n",
       "  'state': 'open',\n",
       "  'locked': False,\n",
       "  'assignee': None,\n",
       "  'assignees': [],\n",
       "  'milestone': {'url': 'https://api.github.com/repos/pandas-dev/pandas/milestones/73',\n",
       "   'html_url': 'https://github.com/pandas-dev/pandas/milestone/73',\n",
       "   'labels_url': 'https://api.github.com/repos/pandas-dev/pandas/milestones/73/labels',\n",
       "   'id': 5479819,\n",
       "   'node_id': 'MDk6TWlsZXN0b25lNTQ3OTgxOQ==',\n",
       "   'number': 73,\n",
       "   'title': '1.2',\n",
       "   'description': '',\n",
       "   'creator': {'login': 'jreback',\n",
       "    'id': 953992,\n",
       "    'node_id': 'MDQ6VXNlcjk1Mzk5Mg==',\n",
       "    'avatar_url': 'https://avatars2.githubusercontent.com/u/953992?v=4',\n",
       "    'gravatar_id': '',\n",
       "    'url': 'https://api.github.com/users/jreback',\n",
       "    'html_url': 'https://github.com/jreback',\n",
       "    'followers_url': 'https://api.github.com/users/jreback/followers',\n",
       "    'following_url': 'https://api.github.com/users/jreback/following{/other_user}',\n",
       "    'gists_url': 'https://api.github.com/users/jreback/gists{/gist_id}',\n",
       "    'starred_url': 'https://api.github.com/users/jreback/starred{/owner}{/repo}',\n",
       "    'subscriptions_url': 'https://api.github.com/users/jreback/subscriptions',\n",
       "    'organizations_url': 'https://api.github.com/users/jreback/orgs',\n",
       "    'repos_url': 'https://api.github.com/users/jreback/repos',\n",
       "    'events_url': 'https://api.github.com/users/jreback/events{/privacy}',\n",
       "    'received_events_url': 'https://api.github.com/users/jreback/received_events',\n",
       "    'type': 'User',\n",
       "    'site_admin': False},\n",
       "   'open_issues': 48,\n",
       "   'closed_issues': 287,\n",
       "   'state': 'open',\n",
       "   'created_at': '2020-05-29T23:47:32Z',\n",
       "   'updated_at': '2020-09-05T15:03:55Z',\n",
       "   'due_on': '2020-11-29T08:00:00Z',\n",
       "   'closed_at': None},\n",
       "  'comments': 1,\n",
       "  'created_at': '2020-09-04T20:22:25Z',\n",
       "  'updated_at': '2020-09-05T14:56:19Z',\n",
       "  'closed_at': None,\n",
       "  'author_association': 'CONTRIBUTOR',\n",
       "  'active_lock_reason': None,\n",
       "  'body': \"Currently ExtensionDtype.consruct_array_type is a classmethod. This makes it hard to use a single dtype with multiple array classes where the array type depends on some parameter of the dtype.\\r\\n\\r\\nI'd like to change construct_array_type to be a regular method rather than a classmethod. AFAICT, this is fine for pandas since everywhere we use construct_array_type we have an instance rather than a type. It should be fine for 3rd party arrays to continue to use classmethods since you can call a classmethod on an instance. The API breaking change would be for 3rd-party code relying on `ExtensionDtype.construct_array_type()` working (i.e. calling it on the class).\\r\\n\\r\\nMy motivation is for allowing a parametrized `StringDtype` that can be used for either the current StringArray and an Arrow-backed StringArray.\",\n",
       "  'performed_via_github_app': None},\n",
       " {'url': 'https://api.github.com/repos/pandas-dev/pandas/issues/36124',\n",
       "  'repository_url': 'https://api.github.com/repos/pandas-dev/pandas',\n",
       "  'labels_url': 'https://api.github.com/repos/pandas-dev/pandas/issues/36124/labels{/name}',\n",
       "  'comments_url': 'https://api.github.com/repos/pandas-dev/pandas/issues/36124/comments',\n",
       "  'events_url': 'https://api.github.com/repos/pandas-dev/pandas/issues/36124/events',\n",
       "  'html_url': 'https://github.com/pandas-dev/pandas/issues/36124',\n",
       "  'id': 693516220,\n",
       "  'node_id': 'MDU6SXNzdWU2OTM1MTYyMjA=',\n",
       "  'number': 36124,\n",
       "  'title': 'ENH: Display IntEnums by name rather then value',\n",
       "  'user': {'login': 'dzimmanck',\n",
       "   'id': 16160230,\n",
       "   'node_id': 'MDQ6VXNlcjE2MTYwMjMw',\n",
       "   'avatar_url': 'https://avatars3.githubusercontent.com/u/16160230?v=4',\n",
       "   'gravatar_id': '',\n",
       "   'url': 'https://api.github.com/users/dzimmanck',\n",
       "   'html_url': 'https://github.com/dzimmanck',\n",
       "   'followers_url': 'https://api.github.com/users/dzimmanck/followers',\n",
       "   'following_url': 'https://api.github.com/users/dzimmanck/following{/other_user}',\n",
       "   'gists_url': 'https://api.github.com/users/dzimmanck/gists{/gist_id}',\n",
       "   'starred_url': 'https://api.github.com/users/dzimmanck/starred{/owner}{/repo}',\n",
       "   'subscriptions_url': 'https://api.github.com/users/dzimmanck/subscriptions',\n",
       "   'organizations_url': 'https://api.github.com/users/dzimmanck/orgs',\n",
       "   'repos_url': 'https://api.github.com/users/dzimmanck/repos',\n",
       "   'events_url': 'https://api.github.com/users/dzimmanck/events{/privacy}',\n",
       "   'received_events_url': 'https://api.github.com/users/dzimmanck/received_events',\n",
       "   'type': 'User',\n",
       "   'site_admin': False},\n",
       "  'labels': [{'id': 76812,\n",
       "    'node_id': 'MDU6TGFiZWw3NjgxMg==',\n",
       "    'url': 'https://api.github.com/repos/pandas-dev/pandas/labels/Enhancement',\n",
       "    'name': 'Enhancement',\n",
       "    'color': '4E9A06',\n",
       "    'default': False,\n",
       "    'description': None},\n",
       "   {'id': 13101118,\n",
       "    'node_id': 'MDU6TGFiZWwxMzEwMTExOA==',\n",
       "    'url': 'https://api.github.com/repos/pandas-dev/pandas/labels/Output-Formatting',\n",
       "    'name': 'Output-Formatting',\n",
       "    'color': 'ededed',\n",
       "    'default': False,\n",
       "    'description': '__repr__ of pandas objects, to_string'}],\n",
       "  'state': 'open',\n",
       "  'locked': False,\n",
       "  'assignee': None,\n",
       "  'assignees': [],\n",
       "  'milestone': None,\n",
       "  'comments': 5,\n",
       "  'created_at': '2020-09-04T19:16:21Z',\n",
       "  'updated_at': '2020-09-05T10:54:18Z',\n",
       "  'closed_at': None,\n",
       "  'author_association': 'NONE',\n",
       "  'active_lock_reason': None,\n",
       "  'body': \"#### Is your feature request related to a problem?\\r\\n\\r\\nWhen displaying dataframes that contain IntEnums in the index, columns, or data, it would be nice if they displayed similar to Enum types by using the Enum names that correspond to the value rather then the integer values, which somewhat defeats the prupose of using IntEnums over just ints with alias names.\\r\\n\\r\\n#### Describe the solution you'd like\\r\\nI would like pandas to display IntEnums in the same way as Enums.  \\r\\n\\r\\n#### API breaking implications\\r\\n\\r\\nNon that I am aware of, as this request is only for a display change.\\r\\n\\r\\n#### Describe alternatives you've considered\\r\\n\\r\\nI have considered two solution which both have drawbacks.  First was to monkey patch Int Array Formatter.  This ended up not working as Pandas appears to case IntEnums to regulat ints as soon as they are put into the frame.  The second was to change the IntEnums to be categorical, which makes logical sense, but to get them to display properly I need to map the data to the names of the enums which changes the underlying data to strings.\\r\\n\\r\\n#### Additional context\\r\\nHere is a simple example.\\r\\n\\r\\n```python\\r\\n\\r\\nfrom enum import Enum, IntEnum\\r\\nimport pandas as pd\\r\\n\\r\\nclass Colors(Enum):\\r\\n    red = 1\\r\\n    blue = 2\\r\\n\\r\\nclass IntColors(IntEnum):\\r\\n    red = 1\\r\\n    blue = 2\\r\\n\\r\\n\\r\\ndf = pd.DataFrame({Colors.red:[1,2,3], Colors.blue:[5,6,6]})\\r\\nint_df = pd.DataFrame({IntColors.red:[1,2,3], IntColors.blue:[5,6,6]})\\r\\n\\r\\nprint('This is how I want the dataframe to display')\\r\\nprint(df)\\r\\nprint()\\r\\nprint('This is how it is displayed')\\r\\nprint(int_df)\\r\\n\\r\\n```\\r\\n\\r\\nWhich outputs:\\r\\n```\\r\\nThis is how I want the dataframe to display\\r\\n   Colors.red  Colors.blue\\r\\n0           1            5\\r\\n1           2            6\\r\\n2           3            6\\r\\n\\r\\nThis is how it is displayed\\r\\n   1  2\\r\\n0  1  5\\r\\n1  2  6\\r\\n2  3  6\\r\\n```\",\n",
       "  'performed_via_github_app': None},\n",
       " {'url': 'https://api.github.com/repos/pandas-dev/pandas/issues/36123',\n",
       "  'repository_url': 'https://api.github.com/repos/pandas-dev/pandas',\n",
       "  'labels_url': 'https://api.github.com/repos/pandas-dev/pandas/issues/36123/labels{/name}',\n",
       "  'comments_url': 'https://api.github.com/repos/pandas-dev/pandas/issues/36123/comments',\n",
       "  'events_url': 'https://api.github.com/repos/pandas-dev/pandas/issues/36123/events',\n",
       "  'html_url': 'https://github.com/pandas-dev/pandas/issues/36123',\n",
       "  'id': 693463817,\n",
       "  'node_id': 'MDU6SXNzdWU2OTM0NjM4MTc=',\n",
       "  'number': 36123,\n",
       "  'title': 'BUG: GroupBy.mean() is extremely slow with sparse arrays',\n",
       "  'user': {'login': 'gokceneraslan',\n",
       "   'id': 1140359,\n",
       "   'node_id': 'MDQ6VXNlcjExNDAzNTk=',\n",
       "   'avatar_url': 'https://avatars2.githubusercontent.com/u/1140359?v=4',\n",
       "   'gravatar_id': '',\n",
       "   'url': 'https://api.github.com/users/gokceneraslan',\n",
       "   'html_url': 'https://github.com/gokceneraslan',\n",
       "   'followers_url': 'https://api.github.com/users/gokceneraslan/followers',\n",
       "   'following_url': 'https://api.github.com/users/gokceneraslan/following{/other_user}',\n",
       "   'gists_url': 'https://api.github.com/users/gokceneraslan/gists{/gist_id}',\n",
       "   'starred_url': 'https://api.github.com/users/gokceneraslan/starred{/owner}{/repo}',\n",
       "   'subscriptions_url': 'https://api.github.com/users/gokceneraslan/subscriptions',\n",
       "   'organizations_url': 'https://api.github.com/users/gokceneraslan/orgs',\n",
       "   'repos_url': 'https://api.github.com/users/gokceneraslan/repos',\n",
       "   'events_url': 'https://api.github.com/users/gokceneraslan/events{/privacy}',\n",
       "   'received_events_url': 'https://api.github.com/users/gokceneraslan/received_events',\n",
       "   'type': 'User',\n",
       "   'site_admin': False},\n",
       "  'labels': [{'id': 76811,\n",
       "    'node_id': 'MDU6TGFiZWw3NjgxMQ==',\n",
       "    'url': 'https://api.github.com/repos/pandas-dev/pandas/labels/Bug',\n",
       "    'name': 'Bug',\n",
       "    'color': 'e10c02',\n",
       "    'default': False,\n",
       "    'description': None},\n",
       "   {'id': 233160,\n",
       "    'node_id': 'MDU6TGFiZWwyMzMxNjA=',\n",
       "    'url': 'https://api.github.com/repos/pandas-dev/pandas/labels/Groupby',\n",
       "    'name': 'Groupby',\n",
       "    'color': '729FCF',\n",
       "    'default': False,\n",
       "    'description': None},\n",
       "   {'id': 8935311,\n",
       "    'node_id': 'MDU6TGFiZWw4OTM1MzEx',\n",
       "    'url': 'https://api.github.com/repos/pandas-dev/pandas/labels/Performance',\n",
       "    'name': 'Performance',\n",
       "    'color': 'a10c02',\n",
       "    'default': False,\n",
       "    'description': 'Memory or execution speed performance'}],\n",
       "  'state': 'open',\n",
       "  'locked': False,\n",
       "  'assignee': None,\n",
       "  'assignees': [],\n",
       "  'milestone': None,\n",
       "  'comments': 6,\n",
       "  'created_at': '2020-09-04T18:18:44Z',\n",
       "  'updated_at': '2020-09-04T23:29:31Z',\n",
       "  'closed_at': None,\n",
       "  'author_association': 'NONE',\n",
       "  'active_lock_reason': None,\n",
       "  'body': \"- [x ] I have checked that this issue has not already been reported.\\r\\n\\r\\n- [ x] I have confirmed this bug exists on the latest version of pandas.\\r\\n\\r\\n- [ ] (optional) I have confirmed this bug exists on the master branch of pandas.\\r\\n\\r\\n---\\r\\n\\r\\n#### Code Sample, a copy-pastable example\\r\\n\\r\\n```python\\r\\nimport pandas as pd\\r\\nimport numpy as np\\r\\n\\r\\nnp.random.seed(0)\\r\\ndf = pd.DataFrame(np.random.rand(1000, 1000) > 0.8, dtype=int)\\r\\ndf['g'] = ['A' if x else 'B' for x in np.random.rand(1000) > 0.5]\\r\\n\\r\\n%timeit -n 3 -r 5 df.groupby('g').mean()\\r\\n\\r\\nsdf = df.set_index('g').astype('Sparse[int]').reset_index()\\r\\n%timeit -n 3 -r 5 sdf.groupby('g').mean()\\r\\n```\\r\\n\\r\\nOutput:\\r\\n\\r\\nDense:\\r\\n`11 ms ± 430 µs per loop (mean ± std. dev. of 5 runs, 3 loops each)`\\r\\n\\r\\nSparse:\\r\\n`3.91 s ± 33.5 ms per loop (mean ± std. dev. of 5 runs, 3 loops each)`\\r\\n\\r\\nor subset of a real-word dataset:\\r\\n\\r\\n```python\\r\\nimport pandas as pd\\r\\n\\r\\ndf = pd.read_csv('https://github.com/pandas-dev/pandas/files/5176354/pbmc-sparse-df.csv.gz', \\r\\n                 index_col=0).astype(int).reset_index()\\r\\n%timeit -n 3 -r 5 df.groupby('Cell type').mean()\\r\\n\\r\\nsdf = df.set_index('Cell type').astype(pd.SparseDtype(int, fill_value=0)).reset_index()\\r\\n%timeit -n 3 -r 5 sdf.groupby('Cell type').mean()\\r\\n```\\r\\n\\r\\nOutput:\\r\\n\\r\\nDense:\\r\\n`9.2 ms ± 403 µs per loop (mean ± std. dev. of 5 runs, 3 loops each)`\\r\\n\\r\\nSparse:\\r\\n`3.73 s ± 126 ms per loop (mean ± std. dev. of 5 runs, 3 loops each)`\\r\\n\\r\\n\\r\\n#### Problem description\\r\\n\\r\\n`GroupBy.mean()` with the SparseArray seems extremely slow compared to dense matrices (here around 355 times).\\r\\n\\r\\n#### Output of ``pd.show_versions()``\\r\\n\\r\\n<details>\\r\\n\\r\\nINSTALLED VERSIONS\\r\\n------------------\\r\\ncommit           : f2ca0a2665b2d169c97de87b8e778dbed86aea07\\r\\npython           : 3.8.5.final.0\\r\\npython-bits      : 64\\r\\nOS               : Darwin\\r\\nOS-release       : 19.6.0\\r\\nVersion          : Darwin Kernel Version 19.6.0: Thu Jun 18 20:49:00 PDT 2020; root:xnu-6153.141.1~1/RELEASE_X86_64\\r\\nmachine          : x86_64\\r\\nprocessor        : i386\\r\\nbyteorder        : little\\r\\nLC_ALL           : None\\r\\nLANG             : en_US.UTF-8\\r\\nLOCALE           : en_US.UTF-8\\r\\n\\r\\npandas           : 1.1.1\\r\\nnumpy            : 1.19.1\\r\\npytz             : 2020.1\\r\\ndateutil         : 2.8.1\\r\\npip              : 20.2.1\\r\\nsetuptools       : 49.2.1.post20200802\\r\\nCython           : None\\r\\npytest           : None\\r\\nhypothesis       : None\\r\\nsphinx           : None\\r\\nblosc            : None\\r\\nfeather          : None\\r\\nxlsxwriter       : None\\r\\nlxml.etree       : None\\r\\nhtml5lib         : None\\r\\npymysql          : None\\r\\npsycopg2         : None\\r\\njinja2           : 2.11.2\\r\\nIPython          : 7.17.0\\r\\npandas_datareader: None\\r\\nbs4              : None\\r\\nbottleneck       : None\\r\\nfsspec           : 0.8.0\\r\\nfastparquet      : None\\r\\ngcsfs            : None\\r\\nmatplotlib       : 3.3.0\\r\\nnumexpr          : 2.7.1\\r\\nodfpy            : None\\r\\nopenpyxl         : None\\r\\npandas_gbq       : None\\r\\npyarrow          : 1.0.0\\r\\npytables         : None\\r\\npyxlsb           : None\\r\\ns3fs             : None\\r\\nscipy            : 1.5.2\\r\\nsqlalchemy       : None\\r\\ntables           : 3.6.1\\r\\ntabulate         : None\\r\\nxarray           : None\\r\\nxlrd             : None\\r\\nxlwt             : None\\r\\nnumba            : 0.50.1\\r\\n\\r\\n</details>\\r\\n\\r\\nI attached the file here for reproducibility.\\r\\n\\r\\n[pbmc-sparse-df.csv.gz](https://github.com/pandas-dev/pandas/files/5176354/pbmc-sparse-df.csv.gz)\\r\\n\",\n",
       "  'performed_via_github_app': None},\n",
       " {'url': 'https://api.github.com/repos/pandas-dev/pandas/issues/36122',\n",
       "  'repository_url': 'https://api.github.com/repos/pandas-dev/pandas',\n",
       "  'labels_url': 'https://api.github.com/repos/pandas-dev/pandas/issues/36122/labels{/name}',\n",
       "  'comments_url': 'https://api.github.com/repos/pandas-dev/pandas/issues/36122/comments',\n",
       "  'events_url': 'https://api.github.com/repos/pandas-dev/pandas/issues/36122/events',\n",
       "  'html_url': 'https://github.com/pandas-dev/pandas/issues/36122',\n",
       "  'id': 693379165,\n",
       "  'node_id': 'MDU6SXNzdWU2OTMzNzkxNjU=',\n",
       "  'number': 36122,\n",
       "  'title': \"Regression in pandas/io/excel/_odfreader.py  (UnboundLocalError: local variable 'spaces' referenced before assignment)\",\n",
       "  'user': {'login': 'cpbl',\n",
       "   'id': 3696165,\n",
       "   'node_id': 'MDQ6VXNlcjM2OTYxNjU=',\n",
       "   'avatar_url': 'https://avatars0.githubusercontent.com/u/3696165?v=4',\n",
       "   'gravatar_id': '',\n",
       "   'url': 'https://api.github.com/users/cpbl',\n",
       "   'html_url': 'https://github.com/cpbl',\n",
       "   'followers_url': 'https://api.github.com/users/cpbl/followers',\n",
       "   'following_url': 'https://api.github.com/users/cpbl/following{/other_user}',\n",
       "   'gists_url': 'https://api.github.com/users/cpbl/gists{/gist_id}',\n",
       "   'starred_url': 'https://api.github.com/users/cpbl/starred{/owner}{/repo}',\n",
       "   'subscriptions_url': 'https://api.github.com/users/cpbl/subscriptions',\n",
       "   'organizations_url': 'https://api.github.com/users/cpbl/orgs',\n",
       "   'repos_url': 'https://api.github.com/users/cpbl/repos',\n",
       "   'events_url': 'https://api.github.com/users/cpbl/events{/privacy}',\n",
       "   'received_events_url': 'https://api.github.com/users/cpbl/received_events',\n",
       "   'type': 'User',\n",
       "   'site_admin': False},\n",
       "  'labels': [],\n",
       "  'state': 'open',\n",
       "  'locked': False,\n",
       "  'assignee': None,\n",
       "  'assignees': [],\n",
       "  'milestone': None,\n",
       "  'comments': 1,\n",
       "  'created_at': '2020-09-04T16:45:44Z',\n",
       "  'updated_at': '2020-09-04T16:53:35Z',\n",
       "  'closed_at': None,\n",
       "  'author_association': 'NONE',\n",
       "  'active_lock_reason': None,\n",
       "  'body': 'An OpenDocument spreadsheet with a single cell containing a superscript causes a `UnboundLocalError: local variable \\'spaces\\' referenced before assignment` crash in Pandas.\\r\\n\\r\\nI\\'m attaching the .ods file.\\r\\n This used to work fine (one month ago on my machine). I tried upgrading to Pandas 1.1.1 and get the same bug. It looks like what\\'s below:\\r\\n\\r\\n```\\r\\nIn [2]: import pandas as pd\\r\\n\\r\\nIn [3]: pd.read_excel(\\'/home/meuser/tmp/pandas-bug.ods\\', sheet_name=\\'Sheet1\\', engine=\\'odf\\')\\r\\n---------------------------------------------------------------------------\\r\\nUnboundLocalError                         Traceback (most recent call last)\\r\\n<ipython-input-3-0fec79f4321d> in <module>\\r\\n----> 1 pd.read_excel(\\'/home/meuser/tmp/pandas-bug.ods\\', sheet_name=\\'Sheet1\\', engine=\\'odf\\')\\r\\n\\r\\n~/.local/lib/python3.8/site-packages/pandas/util/_decorators.py in wrapper(*args, **kwargs)\\r\\n    294                 )\\r\\n    295                 warnings.warn(msg, FutureWarning, stacklevel=stacklevel)\\r\\n--> 296             return func(*args, **kwargs)\\r\\n    297 \\r\\n    298         return wrapper\\r\\n\\r\\n~/.local/lib/python3.8/site-packages/pandas/io/excel/_base.py in read_excel(io, sheet_name, header, names, index_col, usecols, squeeze, dtype, engine, converters, true_values, false_values, skiprows, nrows, na_values, keep_default_na, na_filter, verbose, parse_dates, date_parser, thousands, comment, skipfooter, convert_float, mangle_dupe_cols)\\r\\n    309         )\\r\\n    310 \\r\\n--> 311     return io.parse(\\r\\n    312         sheet_name=sheet_name,\\r\\n    313         header=header,\\r\\n\\r\\n~/.local/lib/python3.8/site-packages/pandas/io/excel/_base.py in parse(self, sheet_name, header, names, index_col, usecols, squeeze, converters, true_values, false_values, skiprows, nrows, na_values, parse_dates, date_parser, thousands, comment, skipfooter, convert_float, mangle_dupe_cols, **kwds)\\r\\n    904             DataFrame from the passed in Excel file.\\r\\n    905         \"\"\"\\r\\n--> 906         return self._reader.parse(\\r\\n    907             sheet_name=sheet_name,\\r\\n    908             header=header,\\r\\n\\r\\n~/.local/lib/python3.8/site-packages/pandas/io/excel/_base.py in parse(self, sheet_name, header, names, index_col, usecols, squeeze, dtype, true_values, false_values, skiprows, nrows, na_values, verbose, parse_dates, date_parser, thousands, comment, skipfooter, convert_float, mangle_dupe_cols, **kwds)\\r\\n    441                 sheet = self.get_sheet_by_index(asheetname)\\r\\n    442 \\r\\n--> 443             data = self.get_sheet_data(sheet, convert_float)\\r\\n    444             usecols = _maybe_convert_usecols(usecols)\\r\\n    445 \\r\\n\\r\\n~/.local/lib/python3.8/site-packages/pandas/io/excel/_odfreader.py in get_sheet_data(self, sheet, convert_float)\\r\\n     89             for j, sheet_cell in enumerate(sheet_cells):\\r\\n     90                 if sheet_cell.qname == table_cell_name:\\r\\n---> 91                     value = self._get_cell_value(sheet_cell, convert_float)\\r\\n     92                 else:\\r\\n     93                     value = self.empty_value\\r\\n\\r\\n~/.local/lib/python3.8/site-packages/pandas/io/excel/_odfreader.py in _get_cell_value(self, cell, convert_float)\\r\\n    173             return float(cell_value)\\r\\n    174         elif cell_type == \"string\":\\r\\n--> 175             return self._get_cell_string_value(cell)\\r\\n    176         elif cell_type == \"currency\":\\r\\n    177             cell_value = cell.attributes.get((OFFICENS, \"value\"))\\r\\n\\r\\n~/.local/lib/python3.8/site-packages/pandas/io/excel/_odfreader.py in _get_cell_string_value(self, cell)\\r\\n    209                     if fragment.qname == text_s:\\r\\n    210                         spaces = int(fragment.attributes.get((TEXTNS, \"c\"), 1))\\r\\n--> 211                     value.append(\" \" * spaces)\\r\\n    212         return \"\".join(value)\\r\\n\\r\\nUnboundLocalError: local variable \\'spaces\\' referenced before assignment\\r\\n> /home/meuser/.local/lib/python3.8/site-packages/pandas/io/excel/_odfreader.py(211)_get_cell_string_value()\\r\\n    208                 elif isinstance(fragment, Element):\\r\\n    209                     if fragment.qname == text_s:\\r\\n    210                         spaces = int(fragment.attributes.get((TEXTNS, \"c\"), 1))\\r\\n--> 211                     value.append(\" \" * spaces)\\r\\n    212         return \"\".join(value)\\r\\n\\r\\n```\\r\\n\\r\\n\\r\\n[pandas-bug.zip](https://github.com/pandas-dev/pandas/files/5176030/pandas-bug.zip)\\r\\n\\r\\n\\r\\n(And is it too much to dream that this module could be named something other than read_excel ?)',\n",
       "  'performed_via_github_app': None},\n",
       " {'url': 'https://api.github.com/repos/pandas-dev/pandas/issues/36115',\n",
       "  'repository_url': 'https://api.github.com/repos/pandas-dev/pandas',\n",
       "  'labels_url': 'https://api.github.com/repos/pandas-dev/pandas/issues/36115/labels{/name}',\n",
       "  'comments_url': 'https://api.github.com/repos/pandas-dev/pandas/issues/36115/comments',\n",
       "  'events_url': 'https://api.github.com/repos/pandas-dev/pandas/issues/36115/events',\n",
       "  'html_url': 'https://github.com/pandas-dev/pandas/pull/36115',\n",
       "  'id': 693200790,\n",
       "  'node_id': 'MDExOlB1bGxSZXF1ZXN0NDc5NzEzMjEz',\n",
       "  'number': 36115,\n",
       "  'title': 'REGR: append tz-aware DataFrame with tz-naive values',\n",
       "  'user': {'login': 'jorisvandenbossche',\n",
       "   'id': 1020496,\n",
       "   'node_id': 'MDQ6VXNlcjEwMjA0OTY=',\n",
       "   'avatar_url': 'https://avatars2.githubusercontent.com/u/1020496?v=4',\n",
       "   'gravatar_id': '',\n",
       "   'url': 'https://api.github.com/users/jorisvandenbossche',\n",
       "   'html_url': 'https://github.com/jorisvandenbossche',\n",
       "   'followers_url': 'https://api.github.com/users/jorisvandenbossche/followers',\n",
       "   'following_url': 'https://api.github.com/users/jorisvandenbossche/following{/other_user}',\n",
       "   'gists_url': 'https://api.github.com/users/jorisvandenbossche/gists{/gist_id}',\n",
       "   'starred_url': 'https://api.github.com/users/jorisvandenbossche/starred{/owner}{/repo}',\n",
       "   'subscriptions_url': 'https://api.github.com/users/jorisvandenbossche/subscriptions',\n",
       "   'organizations_url': 'https://api.github.com/users/jorisvandenbossche/orgs',\n",
       "   'repos_url': 'https://api.github.com/users/jorisvandenbossche/repos',\n",
       "   'events_url': 'https://api.github.com/users/jorisvandenbossche/events{/privacy}',\n",
       "   'received_events_url': 'https://api.github.com/users/jorisvandenbossche/received_events',\n",
       "   'type': 'User',\n",
       "   'site_admin': False},\n",
       "  'labels': [{'id': 32815646,\n",
       "    'node_id': 'MDU6TGFiZWwzMjgxNTY0Ng==',\n",
       "    'url': 'https://api.github.com/repos/pandas-dev/pandas/labels/Regression',\n",
       "    'name': 'Regression',\n",
       "    'color': 'e11d21',\n",
       "    'default': False,\n",
       "    'description': 'Functionality that used to work in a prior pandas version'},\n",
       "   {'id': 13098779,\n",
       "    'node_id': 'MDU6TGFiZWwxMzA5ODc3OQ==',\n",
       "    'url': 'https://api.github.com/repos/pandas-dev/pandas/labels/Reshaping',\n",
       "    'name': 'Reshaping',\n",
       "    'color': '02d7e1',\n",
       "    'default': False,\n",
       "    'description': 'Concat, Merge/Join, Stack/Unstack'}],\n",
       "  'state': 'open',\n",
       "  'locked': False,\n",
       "  'assignee': None,\n",
       "  'assignees': [],\n",
       "  'milestone': {'url': 'https://api.github.com/repos/pandas-dev/pandas/milestones/76',\n",
       "   'html_url': 'https://github.com/pandas-dev/pandas/milestone/76',\n",
       "   'labels_url': 'https://api.github.com/repos/pandas-dev/pandas/milestones/76/labels',\n",
       "   'id': 5781056,\n",
       "   'node_id': 'MDk6TWlsZXN0b25lNTc4MTA1Ng==',\n",
       "   'number': 76,\n",
       "   'title': '1.1.2',\n",
       "   'description': 'on-merge: backport to 1.1.x',\n",
       "   'creator': {'login': 'simonjayhawkins',\n",
       "    'id': 13159005,\n",
       "    'node_id': 'MDQ6VXNlcjEzMTU5MDA1',\n",
       "    'avatar_url': 'https://avatars0.githubusercontent.com/u/13159005?v=4',\n",
       "    'gravatar_id': '',\n",
       "    'url': 'https://api.github.com/users/simonjayhawkins',\n",
       "    'html_url': 'https://github.com/simonjayhawkins',\n",
       "    'followers_url': 'https://api.github.com/users/simonjayhawkins/followers',\n",
       "    'following_url': 'https://api.github.com/users/simonjayhawkins/following{/other_user}',\n",
       "    'gists_url': 'https://api.github.com/users/simonjayhawkins/gists{/gist_id}',\n",
       "    'starred_url': 'https://api.github.com/users/simonjayhawkins/starred{/owner}{/repo}',\n",
       "    'subscriptions_url': 'https://api.github.com/users/simonjayhawkins/subscriptions',\n",
       "    'organizations_url': 'https://api.github.com/users/simonjayhawkins/orgs',\n",
       "    'repos_url': 'https://api.github.com/users/simonjayhawkins/repos',\n",
       "    'events_url': 'https://api.github.com/users/simonjayhawkins/events{/privacy}',\n",
       "    'received_events_url': 'https://api.github.com/users/simonjayhawkins/received_events',\n",
       "    'type': 'User',\n",
       "    'site_admin': False},\n",
       "   'open_issues': 36,\n",
       "   'closed_issues': 56,\n",
       "   'state': 'open',\n",
       "   'created_at': '2020-08-17T19:11:56Z',\n",
       "   'updated_at': '2020-09-05T14:38:50Z',\n",
       "   'due_on': '2020-09-06T07:00:00Z',\n",
       "   'closed_at': None},\n",
       "  'comments': 2,\n",
       "  'created_at': '2020-09-04T14:00:20Z',\n",
       "  'updated_at': '2020-09-05T15:00:20Z',\n",
       "  'closed_at': None,\n",
       "  'author_association': 'MEMBER',\n",
       "  'active_lock_reason': None,\n",
       "  'pull_request': {'url': 'https://api.github.com/repos/pandas-dev/pandas/pulls/36115',\n",
       "   'html_url': 'https://github.com/pandas-dev/pandas/pull/36115',\n",
       "   'diff_url': 'https://github.com/pandas-dev/pandas/pull/36115.diff',\n",
       "   'patch_url': 'https://github.com/pandas-dev/pandas/pull/36115.patch'},\n",
       "  'body': 'Closes #35460\\r\\n',\n",
       "  'performed_via_github_app': None},\n",
       " {'url': 'https://api.github.com/repos/pandas-dev/pandas/issues/36113',\n",
       "  'repository_url': 'https://api.github.com/repos/pandas-dev/pandas',\n",
       "  'labels_url': 'https://api.github.com/repos/pandas-dev/pandas/issues/36113/labels{/name}',\n",
       "  'comments_url': 'https://api.github.com/repos/pandas-dev/pandas/issues/36113/comments',\n",
       "  'events_url': 'https://api.github.com/repos/pandas-dev/pandas/issues/36113/events',\n",
       "  'html_url': 'https://github.com/pandas-dev/pandas/issues/36113',\n",
       "  'id': 693051421,\n",
       "  'node_id': 'MDU6SXNzdWU2OTMwNTE0MjE=',\n",
       "  'number': 36113,\n",
       "  'title': 'BUG: pandas.DataFrame().stack() raise an error, while expected is empty',\n",
       "  'user': {'login': 'evyasonov',\n",
       "   'id': 8870922,\n",
       "   'node_id': 'MDQ6VXNlcjg4NzA5MjI=',\n",
       "   'avatar_url': 'https://avatars3.githubusercontent.com/u/8870922?v=4',\n",
       "   'gravatar_id': '',\n",
       "   'url': 'https://api.github.com/users/evyasonov',\n",
       "   'html_url': 'https://github.com/evyasonov',\n",
       "   'followers_url': 'https://api.github.com/users/evyasonov/followers',\n",
       "   'following_url': 'https://api.github.com/users/evyasonov/following{/other_user}',\n",
       "   'gists_url': 'https://api.github.com/users/evyasonov/gists{/gist_id}',\n",
       "   'starred_url': 'https://api.github.com/users/evyasonov/starred{/owner}{/repo}',\n",
       "   'subscriptions_url': 'https://api.github.com/users/evyasonov/subscriptions',\n",
       "   'organizations_url': 'https://api.github.com/users/evyasonov/orgs',\n",
       "   'repos_url': 'https://api.github.com/users/evyasonov/repos',\n",
       "   'events_url': 'https://api.github.com/users/evyasonov/events{/privacy}',\n",
       "   'received_events_url': 'https://api.github.com/users/evyasonov/received_events',\n",
       "   'type': 'User',\n",
       "   'site_admin': False},\n",
       "  'labels': [{'id': 76811,\n",
       "    'node_id': 'MDU6TGFiZWw3NjgxMQ==',\n",
       "    'url': 'https://api.github.com/repos/pandas-dev/pandas/labels/Bug',\n",
       "    'name': 'Bug',\n",
       "    'color': 'e10c02',\n",
       "    'default': False,\n",
       "    'description': None},\n",
       "   {'id': 13098779,\n",
       "    'node_id': 'MDU6TGFiZWwxMzA5ODc3OQ==',\n",
       "    'url': 'https://api.github.com/repos/pandas-dev/pandas/labels/Reshaping',\n",
       "    'name': 'Reshaping',\n",
       "    'color': '02d7e1',\n",
       "    'default': False,\n",
       "    'description': 'Concat, Merge/Join, Stack/Unstack'}],\n",
       "  'state': 'open',\n",
       "  'locked': False,\n",
       "  'assignee': None,\n",
       "  'assignees': [],\n",
       "  'milestone': {'url': 'https://api.github.com/repos/pandas-dev/pandas/milestones/32',\n",
       "   'html_url': 'https://github.com/pandas-dev/pandas/milestone/32',\n",
       "   'labels_url': 'https://api.github.com/repos/pandas-dev/pandas/milestones/32/labels',\n",
       "   'id': 933188,\n",
       "   'node_id': 'MDk6TWlsZXN0b25lOTMzMTg4',\n",
       "   'number': 32,\n",
       "   'title': 'Contributions Welcome',\n",
       "   'description': 'Changes that would be nice to have in the next release. These issues are not blocking. They will be pushed to the next release if no one has time to fix them.',\n",
       "   'creator': {'login': 'jreback',\n",
       "    'id': 953992,\n",
       "    'node_id': 'MDQ6VXNlcjk1Mzk5Mg==',\n",
       "    'avatar_url': 'https://avatars2.githubusercontent.com/u/953992?v=4',\n",
       "    'gravatar_id': '',\n",
       "    'url': 'https://api.github.com/users/jreback',\n",
       "    'html_url': 'https://github.com/jreback',\n",
       "    'followers_url': 'https://api.github.com/users/jreback/followers',\n",
       "    'following_url': 'https://api.github.com/users/jreback/following{/other_user}',\n",
       "    'gists_url': 'https://api.github.com/users/jreback/gists{/gist_id}',\n",
       "    'starred_url': 'https://api.github.com/users/jreback/starred{/owner}{/repo}',\n",
       "    'subscriptions_url': 'https://api.github.com/users/jreback/subscriptions',\n",
       "    'organizations_url': 'https://api.github.com/users/jreback/orgs',\n",
       "    'repos_url': 'https://api.github.com/users/jreback/repos',\n",
       "    'events_url': 'https://api.github.com/users/jreback/events{/privacy}',\n",
       "    'received_events_url': 'https://api.github.com/users/jreback/received_events',\n",
       "    'type': 'User',\n",
       "    'site_admin': False},\n",
       "   'open_issues': 1205,\n",
       "   'closed_issues': 603,\n",
       "   'state': 'open',\n",
       "   'created_at': '2015-01-13T10:53:19Z',\n",
       "   'updated_at': '2020-09-05T14:41:45Z',\n",
       "   'due_on': None,\n",
       "   'closed_at': None},\n",
       "  'comments': 2,\n",
       "  'created_at': '2020-09-04T11:06:46Z',\n",
       "  'updated_at': '2020-09-04T16:39:38Z',\n",
       "  'closed_at': None,\n",
       "  'author_association': 'NONE',\n",
       "  'active_lock_reason': None,\n",
       "  'body': '- [X] I have checked that this issue has not already been reported.\\r\\n\\r\\n- [X] I have confirmed this bug exists on the latest version of pandas.\\r\\n\\r\\n- [ ] (optional) I have confirmed this bug exists on the master branch of pandas.\\r\\n\\r\\n---\\r\\n\\r\\n#### Code Sample, a copy-pastable example\\r\\n\\r\\n```python\\r\\npandas.DataFrame().stack()\\r\\npandas.DataFrame().stack(dropna = True)\\r\\n```\\r\\n\\r\\n#### Problem description\\r\\n\\r\\nI expect that stack() of empty dataframe will be empty dataframe and not an exception',\n",
       "  'performed_via_github_app': None},\n",
       " {'url': 'https://api.github.com/repos/pandas-dev/pandas/issues/36111',\n",
       "  'repository_url': 'https://api.github.com/repos/pandas-dev/pandas',\n",
       "  'labels_url': 'https://api.github.com/repos/pandas-dev/pandas/issues/36111/labels{/name}',\n",
       "  'comments_url': 'https://api.github.com/repos/pandas-dev/pandas/issues/36111/comments',\n",
       "  'events_url': 'https://api.github.com/repos/pandas-dev/pandas/issues/36111/events',\n",
       "  'html_url': 'https://github.com/pandas-dev/pandas/issues/36111',\n",
       "  'id': 692911411,\n",
       "  'node_id': 'MDU6SXNzdWU2OTI5MTE0MTE=',\n",
       "  'number': 36111,\n",
       "  'title': 'BUG: read_csv with custom date parser and na_filter=True results in ValueError',\n",
       "  'user': {'login': 'smith1401',\n",
       "   'id': 6280388,\n",
       "   'node_id': 'MDQ6VXNlcjYyODAzODg=',\n",
       "   'avatar_url': 'https://avatars0.githubusercontent.com/u/6280388?v=4',\n",
       "   'gravatar_id': '',\n",
       "   'url': 'https://api.github.com/users/smith1401',\n",
       "   'html_url': 'https://github.com/smith1401',\n",
       "   'followers_url': 'https://api.github.com/users/smith1401/followers',\n",
       "   'following_url': 'https://api.github.com/users/smith1401/following{/other_user}',\n",
       "   'gists_url': 'https://api.github.com/users/smith1401/gists{/gist_id}',\n",
       "   'starred_url': 'https://api.github.com/users/smith1401/starred{/owner}{/repo}',\n",
       "   'subscriptions_url': 'https://api.github.com/users/smith1401/subscriptions',\n",
       "   'organizations_url': 'https://api.github.com/users/smith1401/orgs',\n",
       "   'repos_url': 'https://api.github.com/users/smith1401/repos',\n",
       "   'events_url': 'https://api.github.com/users/smith1401/events{/privacy}',\n",
       "   'received_events_url': 'https://api.github.com/users/smith1401/received_events',\n",
       "   'type': 'User',\n",
       "   'site_admin': False},\n",
       "  'labels': [{'id': 76811,\n",
       "    'node_id': 'MDU6TGFiZWw3NjgxMQ==',\n",
       "    'url': 'https://api.github.com/repos/pandas-dev/pandas/labels/Bug',\n",
       "    'name': 'Bug',\n",
       "    'color': 'e10c02',\n",
       "    'default': False,\n",
       "    'description': None},\n",
       "   {'id': 47229171,\n",
       "    'node_id': 'MDU6TGFiZWw0NzIyOTE3MQ==',\n",
       "    'url': 'https://api.github.com/repos/pandas-dev/pandas/labels/IO%20CSV',\n",
       "    'name': 'IO CSV',\n",
       "    'color': '5319e7',\n",
       "    'default': False,\n",
       "    'description': None}],\n",
       "  'state': 'open',\n",
       "  'locked': False,\n",
       "  'assignee': None,\n",
       "  'assignees': [],\n",
       "  'milestone': None,\n",
       "  'comments': 1,\n",
       "  'created_at': '2020-09-04T08:46:14Z',\n",
       "  'updated_at': '2020-09-04T19:47:16Z',\n",
       "  'closed_at': None,\n",
       "  'author_association': 'NONE',\n",
       "  'active_lock_reason': None,\n",
       "  'body': '```python\\r\\nimport numpy as np\\r\\nimport pandas as pd\\r\\nfrom io import StringIO\\r\\n\\r\\ndef __custom_date_parser(time):\\r\\n    time_temp = time.astype(np.float).astype(np.int) # convert float seconds to int type\\r\\n    return pd.to_timedelta(time_temp, unit=\\'s\\')\\r\\n\\r\\ntestdata = StringIO(\"\"\"time    e   n   h\\r\\n41047.00\\t-98573.7297\\t871458.0640\\t389.0089\\r\\n41048.00\\t-98573.7299\\t871458.0640\\t389.0089\\r\\n41049.00\\t-98573.7300\\t871458.0642\\t389.0088\\r\\n41050.00\\t-98573.7299\\t871458.0643\\t389.0088\\r\\n41051.00\\t-98573.7302\\t871458.0640\\t389.0086\\r\\n    \"\"\")\\r\\n\\r\\ndf = pd.read_csv(testdata, delim_whitespace=True, parse_dates=True, date_parser=__custom_date_parser, index_col=\\'time\\')\\r\\n```\\r\\n\\r\\nI noticed this problem when I executed a piece of old code which has worked before (a few months ago). Normally this code would parse a text file with GPS seconds of week as time and convert it to a TimeDeltaIndex. Now when I execute this, it results in a **ValueError: unit abbreviation w/o a number**. (Full stack trace below) I tracked it down to the default option **na_filter=True** in pd.read_csv. When i set it to False everything is working. With a bit of digging I think i found the source of the error in algorithms.py -> _ensure_data -> line 142.\\r\\n\\r\\n```python\\r\\n    # datetimelike\\r\\n    vals_dtype = getattr(values, \"dtype\", None)\\r\\n    if needs_i8_conversion(vals_dtype) or needs_i8_conversion(dtype):\\r\\n        if is_period_dtype(vals_dtype) or is_period_dtype(dtype):\\r\\n            from pandas import PeriodIndex\\r\\n\\r\\n            values = PeriodIndex(values)\\r\\n            dtype = values.dtype\\r\\n        elif is_timedelta64_dtype(vals_dtype) or is_timedelta64_dtype(dtype):\\r\\n            from pandas import TimedeltaIndex\\r\\n\\r\\n            values = TimedeltaIndex(values)  #This is line 142\\r\\n            dtype = values.dtype\\r\\n        else:\\r\\n            # Datetime\\r\\n            if values.ndim > 1 and is_datetime64_ns_dtype(vals_dtype):\\r\\n                # Avoid calling the DatetimeIndex constructor as it is 1D only\\r\\n                # Note: this is reached by DataFrame.rank calls GH#27027\\r\\n                # TODO(EA2D): special case not needed with 2D EAs\\r\\n                asi8 = values.view(\"i8\")\\r\\n                dtype = values.dtype\\r\\n                return asi8, dtype\\r\\n\\r\\n            from pandas import DatetimeIndex\\r\\n\\r\\n            values = DatetimeIndex(values)\\r\\n            dtype = values.dtype\\r\\n```\\r\\n\\r\\nHere the function tries to parse **values** as TimeDeltaIndex, but values is [\\'\\' \\'n/a\\' \\'-nan\\' \\'#N/A\\' \\'1.#QNAN\\' \\'nan\\' \\'#NA\\' \\'NaN\\' \\'-1.#QNAN\\' \\'#N/A N/A\\', \\'-NaN\\' \\'N/A\\' \\'NULL\\' \\'<NA>\\' \\'null\\' \\'1.#IND\\' \\'NA\\' \\'-1.#IND\\'] in this case. It executes this if statement, because **is_timedelta64_dtype(dtype)** is true in this case. I can\\'t believe that this is expected behaviour, as it has worked before.\\r\\n\\r\\n\\r\\n``` python-traceback\\r\\nTraceback (most recent call last):\\r\\n  File \"...\\\\lib\\\\site-packages\\\\pandas\\\\io\\\\parsers.py\", line 458, in _read\\r\\n    data = parser.read(nrows)\\r\\n  File \"...\\\\lib\\\\site-packages\\\\pandas\\\\io\\\\parsers.py\", line 1186, in read\\r\\n    ret = self._engine.read(nrows)\\r\\n  File \"...\\\\lib\\\\site-packages\\\\pandas\\\\io\\\\parsers.py\", line 2221, in read\\r\\n    index, names = self._make_index(data, alldata, names)\\r\\n  File \"...\\\\lib\\\\site-packages\\\\pandas\\\\io\\\\parsers.py\", line 1667, in _make_index\\r\\n    index = self._agg_index(index)\\r\\n  File \"...\\\\lib\\\\site-packages\\\\pandas\\\\io\\\\parsers.py\", line 1760, in _agg_index\\r\\n    arr, _ = self._infer_types(arr, col_na_values | col_na_fvalues)\\r\\n  File \"...\\\\lib\\\\site-packages\\\\pandas\\\\io\\\\parsers.py\", line 1861, in _infer_types\\r\\n    mask = algorithms.isin(values, list(na_values))\\r\\n  File \"...\\\\lib\\\\site-packages\\\\pandas\\\\core\\\\algorithms.py\", line 433, in isin\\r\\n    values, _ = _ensure_data(values, dtype=dtype)\\r\\n  File \"...\\\\lib\\\\site-packages\\\\pandas\\\\core\\\\algorithms.py\", line 142, in _ensure_data\\r\\n    values = TimedeltaIndex(values)\\r\\n  File \"...\\\\lib\\\\site-packages\\\\pandas\\\\core\\\\indexes\\\\timedeltas.py\", line 157, in __new__\\r\\n    data, freq=freq, unit=unit, dtype=dtype, copy=copy\\r\\n  File \"...\\\\lib\\\\site-packages\\\\pandas\\\\core\\\\arrays\\\\timedeltas.py\", line 216, in _from_sequence\\r\\n    data, inferred_freq = sequence_to_td64ns(data, copy=copy, unit=unit)\\r\\n  File \"...\\\\lib\\\\site-packages\\\\pandas\\\\core\\\\arrays\\\\timedeltas.py\", line 930, in sequence_to_td64ns\\r\\n    data = objects_to_td64ns(data, unit=unit, errors=errors)\\r\\n  File \"...\\\\lib\\\\site-packages\\\\pandas\\\\core\\\\arrays\\\\timedeltas.py\", line 1040, in objects_to_td64ns\\r\\n    result = array_to_timedelta64(values, unit=unit, errors=errors)\\r\\n  File \"pandas\\\\_libs\\\\tslibs\\\\timedeltas.pyx\", line 273, in pandas._libs.tslibs.timedeltas.array_to_timedelta64\\r\\n  File \"pandas\\\\_libs\\\\tslibs\\\\timedeltas.pyx\", line 268, in pandas._libs.tslibs.timedeltas.array_to_timedelta64\\r\\n  File \"pandas\\\\_libs\\\\tslibs\\\\timedeltas.pyx\", line 215, in pandas._libs.tslibs.timedeltas.convert_to_timedelta64\\r\\n  File \"pandas\\\\_libs\\\\tslibs\\\\timedeltas.pyx\", line 428, in pandas._libs.tslibs.timedeltas.parse_timedelta_string\\r\\nValueError: unit abbreviation w/o a number\\r\\npython-BaseException\\r\\n```\\r\\n\\r\\n<details>\\r\\n\\r\\nINSTALLED VERSIONS\\r\\n------------------\\r\\ncommit           : f2ca0a2665b2d169c97de87b8e778dbed86aea07\\r\\npython           : 3.7.9.final.0\\r\\npython-bits      : 64\\r\\nOS               : Windows\\r\\nOS-release       : 10\\r\\nVersion          : 10.0.18362\\r\\nmachine          : AMD64\\r\\nprocessor        : Intel64 Family 6 Model 94 Stepping 3, GenuineIntel\\r\\nbyteorder        : little\\r\\nLC_ALL           : None\\r\\nLANG             : None\\r\\nLOCALE           : None.None\\r\\npandas           : 1.1.1\\r\\nnumpy            : 1.18.1\\r\\npytz             : 2020.1\\r\\ndateutil         : 2.8.1\\r\\npip              : 20.2.2\\r\\nsetuptools       : 49.6.0.post20200814\\r\\nCython           : None\\r\\npytest           : None\\r\\nhypothesis       : None\\r\\nsphinx           : None\\r\\nblosc            : None\\r\\nfeather          : None\\r\\nxlsxwriter       : None\\r\\nlxml.etree       : None\\r\\nhtml5lib         : None\\r\\npymysql          : None\\r\\npsycopg2         : None\\r\\njinja2           : None\\r\\nIPython          : None\\r\\npandas_datareader: None\\r\\nbs4              : None\\r\\nbottleneck       : None\\r\\nfsspec           : None\\r\\nfastparquet      : None\\r\\ngcsfs            : None\\r\\nmatplotlib       : 3.1.2\\r\\nnumexpr          : None\\r\\nodfpy            : None\\r\\nopenpyxl         : None\\r\\npandas_gbq       : None\\r\\npyarrow          : None\\r\\npytables         : None\\r\\npyxlsb           : None\\r\\ns3fs             : None\\r\\nscipy            : 1.4.1\\r\\nsqlalchemy       : None\\r\\ntables           : None\\r\\ntabulate         : None\\r\\nxarray           : None\\r\\nxlrd             : None\\r\\nxlwt             : None\\r\\nnumba            : None\\r\\n\\r\\n</details>\\r\\n',\n",
       "  'performed_via_github_app': None},\n",
       " {'url': 'https://api.github.com/repos/pandas-dev/pandas/issues/36106',\n",
       "  'repository_url': 'https://api.github.com/repos/pandas-dev/pandas',\n",
       "  'labels_url': 'https://api.github.com/repos/pandas-dev/pandas/issues/36106/labels{/name}',\n",
       "  'comments_url': 'https://api.github.com/repos/pandas-dev/pandas/issues/36106/comments',\n",
       "  'events_url': 'https://api.github.com/repos/pandas-dev/pandas/issues/36106/events',\n",
       "  'html_url': 'https://github.com/pandas-dev/pandas/pull/36106',\n",
       "  'id': 692636558,\n",
       "  'node_id': 'MDExOlB1bGxSZXF1ZXN0NDc5MjE2NjM2',\n",
       "  'number': 36106,\n",
       "  'title': 'BUG: DataFrame.any with axis=1 and bool_only=True',\n",
       "  'user': {'login': 'jbrockmendel',\n",
       "   'id': 8078968,\n",
       "   'node_id': 'MDQ6VXNlcjgwNzg5Njg=',\n",
       "   'avatar_url': 'https://avatars1.githubusercontent.com/u/8078968?v=4',\n",
       "   'gravatar_id': '',\n",
       "   'url': 'https://api.github.com/users/jbrockmendel',\n",
       "   'html_url': 'https://github.com/jbrockmendel',\n",
       "   'followers_url': 'https://api.github.com/users/jbrockmendel/followers',\n",
       "   'following_url': 'https://api.github.com/users/jbrockmendel/following{/other_user}',\n",
       "   'gists_url': 'https://api.github.com/users/jbrockmendel/gists{/gist_id}',\n",
       "   'starred_url': 'https://api.github.com/users/jbrockmendel/starred{/owner}{/repo}',\n",
       "   'subscriptions_url': 'https://api.github.com/users/jbrockmendel/subscriptions',\n",
       "   'organizations_url': 'https://api.github.com/users/jbrockmendel/orgs',\n",
       "   'repos_url': 'https://api.github.com/users/jbrockmendel/repos',\n",
       "   'events_url': 'https://api.github.com/users/jbrockmendel/events{/privacy}',\n",
       "   'received_events_url': 'https://api.github.com/users/jbrockmendel/received_events',\n",
       "   'type': 'User',\n",
       "   'site_admin': False},\n",
       "  'labels': [],\n",
       "  'state': 'open',\n",
       "  'locked': False,\n",
       "  'assignee': None,\n",
       "  'assignees': [],\n",
       "  'milestone': None,\n",
       "  'comments': 0,\n",
       "  'created_at': '2020-09-04T02:55:33Z',\n",
       "  'updated_at': '2020-09-04T02:55:33Z',\n",
       "  'closed_at': None,\n",
       "  'author_association': 'MEMBER',\n",
       "  'active_lock_reason': None,\n",
       "  'pull_request': {'url': 'https://api.github.com/repos/pandas-dev/pandas/pulls/36106',\n",
       "   'html_url': 'https://github.com/pandas-dev/pandas/pull/36106',\n",
       "   'diff_url': 'https://github.com/pandas-dev/pandas/pull/36106.diff',\n",
       "   'patch_url': 'https://github.com/pandas-dev/pandas/pull/36106.patch'},\n",
       "  'body': '- [x] closes #32432\\r\\n- [x] tests added / passed\\r\\n- [x] passes `black pandas`\\r\\n- [x] passes `git diff upstream/master -u -- \"*.py\" | flake8 --diff`\\r\\n- [x] whatsnew entry\\r\\n',\n",
       "  'performed_via_github_app': None},\n",
       " {'url': 'https://api.github.com/repos/pandas-dev/pandas/issues/36105',\n",
       "  'repository_url': 'https://api.github.com/repos/pandas-dev/pandas',\n",
       "  'labels_url': 'https://api.github.com/repos/pandas-dev/pandas/issues/36105/labels{/name}',\n",
       "  'comments_url': 'https://api.github.com/repos/pandas-dev/pandas/issues/36105/comments',\n",
       "  'events_url': 'https://api.github.com/repos/pandas-dev/pandas/issues/36105/events',\n",
       "  'html_url': 'https://github.com/pandas-dev/pandas/pull/36105',\n",
       "  'id': 692584092,\n",
       "  'node_id': 'MDExOlB1bGxSZXF1ZXN0NDc5MTY5NTgw',\n",
       "  'number': 36105,\n",
       "  'title': 'DEPR: making copies when indexing along columns',\n",
       "  'user': {'login': 'jbrockmendel',\n",
       "   'id': 8078968,\n",
       "   'node_id': 'MDQ6VXNlcjgwNzg5Njg=',\n",
       "   'avatar_url': 'https://avatars1.githubusercontent.com/u/8078968?v=4',\n",
       "   'gravatar_id': '',\n",
       "   'url': 'https://api.github.com/users/jbrockmendel',\n",
       "   'html_url': 'https://github.com/jbrockmendel',\n",
       "   'followers_url': 'https://api.github.com/users/jbrockmendel/followers',\n",
       "   'following_url': 'https://api.github.com/users/jbrockmendel/following{/other_user}',\n",
       "   'gists_url': 'https://api.github.com/users/jbrockmendel/gists{/gist_id}',\n",
       "   'starred_url': 'https://api.github.com/users/jbrockmendel/starred{/owner}{/repo}',\n",
       "   'subscriptions_url': 'https://api.github.com/users/jbrockmendel/subscriptions',\n",
       "   'organizations_url': 'https://api.github.com/users/jbrockmendel/orgs',\n",
       "   'repos_url': 'https://api.github.com/users/jbrockmendel/repos',\n",
       "   'events_url': 'https://api.github.com/users/jbrockmendel/events{/privacy}',\n",
       "   'received_events_url': 'https://api.github.com/users/jbrockmendel/received_events',\n",
       "   'type': 'User',\n",
       "   'site_admin': False},\n",
       "  'labels': [],\n",
       "  'state': 'open',\n",
       "  'locked': False,\n",
       "  'assignee': None,\n",
       "  'assignees': [],\n",
       "  'milestone': None,\n",
       "  'comments': 5,\n",
       "  'created_at': '2020-09-04T01:37:00Z',\n",
       "  'updated_at': '2020-09-05T14:26:27Z',\n",
       "  'closed_at': None,\n",
       "  'author_association': 'MEMBER',\n",
       "  'active_lock_reason': None,\n",
       "  'pull_request': {'url': 'https://api.github.com/repos/pandas-dev/pandas/pulls/36105',\n",
       "   'html_url': 'https://github.com/pandas-dev/pandas/pull/36105',\n",
       "   'diff_url': 'https://github.com/pandas-dev/pandas/pull/36105.diff',\n",
       "   'patch_url': 'https://github.com/pandas-dev/pandas/pull/36105.patch'},\n",
       "  'body': '- [x] closes #33780\\r\\n- [ ] tests added / passed\\r\\n- [x] passes `black pandas`\\r\\n- [x] passes `git diff upstream/master -u -- \"*.py\" | flake8 --diff`\\r\\n- [ ] whatsnew entry\\r\\n\\r\\nxref #33597 for what this might look like once the deprecation is enforced (nice perf bump)\\r\\n\\r\\ncc @jorisvandenbossche my understanding is that we will need this deprecation for the all-1D world too.  Is that correct?  Any thoughts on nice ways to test this and avoid putting tm.assert_produces_warning in a zillion places across the code?\\r\\n',\n",
       "  'performed_via_github_app': None},\n",
       " {'url': 'https://api.github.com/repos/pandas-dev/pandas/issues/36103',\n",
       "  'repository_url': 'https://api.github.com/repos/pandas-dev/pandas',\n",
       "  'labels_url': 'https://api.github.com/repos/pandas-dev/pandas/issues/36103/labels{/name}',\n",
       "  'comments_url': 'https://api.github.com/repos/pandas-dev/pandas/issues/36103/comments',\n",
       "  'events_url': 'https://api.github.com/repos/pandas-dev/pandas/issues/36103/events',\n",
       "  'html_url': 'https://github.com/pandas-dev/pandas/issues/36103',\n",
       "  'id': 692326111,\n",
       "  'node_id': 'MDU6SXNzdWU2OTIzMjYxMTE=',\n",
       "  'number': 36103,\n",
       "  'title': 'QST: Why does Pandas change data type from object to float after reading 32768 rows from CSV file?',\n",
       "  'user': {'login': 'dwervin',\n",
       "   'id': 30344880,\n",
       "   'node_id': 'MDQ6VXNlcjMwMzQ0ODgw',\n",
       "   'avatar_url': 'https://avatars3.githubusercontent.com/u/30344880?v=4',\n",
       "   'gravatar_id': '',\n",
       "   'url': 'https://api.github.com/users/dwervin',\n",
       "   'html_url': 'https://github.com/dwervin',\n",
       "   'followers_url': 'https://api.github.com/users/dwervin/followers',\n",
       "   'following_url': 'https://api.github.com/users/dwervin/following{/other_user}',\n",
       "   'gists_url': 'https://api.github.com/users/dwervin/gists{/gist_id}',\n",
       "   'starred_url': 'https://api.github.com/users/dwervin/starred{/owner}{/repo}',\n",
       "   'subscriptions_url': 'https://api.github.com/users/dwervin/subscriptions',\n",
       "   'organizations_url': 'https://api.github.com/users/dwervin/orgs',\n",
       "   'repos_url': 'https://api.github.com/users/dwervin/repos',\n",
       "   'events_url': 'https://api.github.com/users/dwervin/events{/privacy}',\n",
       "   'received_events_url': 'https://api.github.com/users/dwervin/received_events',\n",
       "   'type': 'User',\n",
       "   'site_admin': False},\n",
       "  'labels': [{'id': 34444536,\n",
       "    'node_id': 'MDU6TGFiZWwzNDQ0NDUzNg==',\n",
       "    'url': 'https://api.github.com/repos/pandas-dev/pandas/labels/Usage%20Question',\n",
       "    'name': 'Usage Question',\n",
       "    'color': '0052cc',\n",
       "    'default': False,\n",
       "    'description': None}],\n",
       "  'state': 'open',\n",
       "  'locked': False,\n",
       "  'assignee': None,\n",
       "  'assignees': [],\n",
       "  'milestone': None,\n",
       "  'comments': 7,\n",
       "  'created_at': '2020-09-03T20:36:50Z',\n",
       "  'updated_at': '2020-09-05T07:54:24Z',\n",
       "  'closed_at': None,\n",
       "  'author_association': 'NONE',\n",
       "  'active_lock_reason': None,\n",
       "  'body': \"- [x] I have searched the [[pandas] tag](https://stackoverflow.com/questions/tagged/pandas) on StackOverflow for similar questions.\\r\\n\\r\\n- [x] I have asked my usage related question on [StackOverflow](https://stackoverflow.com).\\r\\n\\r\\n---\\r\\n\\r\\n#### Question about pandas\\r\\nUsing Pandas 1.0.3.\\r\\n\\r\\nI have a CSV with 43,00 rows. I noticed that one of the columns is object type even though it has floats.  It looks like this happened because a few records contain a string that reads 'Bad Input'.  However, after 32768 rows, the data becomes floats.  I found it strange that this happens after exactly 32K rows.\\r\\n\\r\\nI've used Pandas for a few years now, but I've never seen an inconsistency like this.\\r\\n\\r\\nIs this a bug?  How do I work around this?\\r\\n\\r\\n\\r\\n**Note**: If you'd still like to submit a question, please read [this guide](\\r\\nhttps://matthewrocklin.com/blog/work/2018/02/28/minimal-bug-reports) detailing how to provide the necessary information for us to reproduce your question.\\r\\n\\r\\n```python\\r\\n# Your code here, if applicable\\r\\n\\r\\n```\\r\\n\",\n",
       "  'performed_via_github_app': None},\n",
       " {'url': 'https://api.github.com/repos/pandas-dev/pandas/issues/36102',\n",
       "  'repository_url': 'https://api.github.com/repos/pandas-dev/pandas',\n",
       "  'labels_url': 'https://api.github.com/repos/pandas-dev/pandas/issues/36102/labels{/name}',\n",
       "  'comments_url': 'https://api.github.com/repos/pandas-dev/pandas/issues/36102/comments',\n",
       "  'events_url': 'https://api.github.com/repos/pandas-dev/pandas/issues/36102/events',\n",
       "  'html_url': 'https://github.com/pandas-dev/pandas/pull/36102',\n",
       "  'id': 692284169,\n",
       "  'node_id': 'MDExOlB1bGxSZXF1ZXN0NDc4ODk1NDQ0',\n",
       "  'number': 36102,\n",
       "  'title': 'TYP: misc fixes for numpy types 4',\n",
       "  'user': {'login': 'simonjayhawkins',\n",
       "   'id': 13159005,\n",
       "   'node_id': 'MDQ6VXNlcjEzMTU5MDA1',\n",
       "   'avatar_url': 'https://avatars0.githubusercontent.com/u/13159005?v=4',\n",
       "   'gravatar_id': '',\n",
       "   'url': 'https://api.github.com/users/simonjayhawkins',\n",
       "   'html_url': 'https://github.com/simonjayhawkins',\n",
       "   'followers_url': 'https://api.github.com/users/simonjayhawkins/followers',\n",
       "   'following_url': 'https://api.github.com/users/simonjayhawkins/following{/other_user}',\n",
       "   'gists_url': 'https://api.github.com/users/simonjayhawkins/gists{/gist_id}',\n",
       "   'starred_url': 'https://api.github.com/users/simonjayhawkins/starred{/owner}{/repo}',\n",
       "   'subscriptions_url': 'https://api.github.com/users/simonjayhawkins/subscriptions',\n",
       "   'organizations_url': 'https://api.github.com/users/simonjayhawkins/orgs',\n",
       "   'repos_url': 'https://api.github.com/users/simonjayhawkins/repos',\n",
       "   'events_url': 'https://api.github.com/users/simonjayhawkins/events{/privacy}',\n",
       "   'received_events_url': 'https://api.github.com/users/simonjayhawkins/received_events',\n",
       "   'type': 'User',\n",
       "   'site_admin': False},\n",
       "  'labels': [{'id': 1280988427,\n",
       "    'node_id': 'MDU6TGFiZWwxMjgwOTg4NDI3',\n",
       "    'url': 'https://api.github.com/repos/pandas-dev/pandas/labels/Typing',\n",
       "    'name': 'Typing',\n",
       "    'color': 'ea91a4',\n",
       "    'default': False,\n",
       "    'description': 'mypy type annotations'}],\n",
       "  'state': 'open',\n",
       "  'locked': False,\n",
       "  'assignee': None,\n",
       "  'assignees': [],\n",
       "  'milestone': {'url': 'https://api.github.com/repos/pandas-dev/pandas/milestones/73',\n",
       "   'html_url': 'https://github.com/pandas-dev/pandas/milestone/73',\n",
       "   'labels_url': 'https://api.github.com/repos/pandas-dev/pandas/milestones/73/labels',\n",
       "   'id': 5479819,\n",
       "   'node_id': 'MDk6TWlsZXN0b25lNTQ3OTgxOQ==',\n",
       "   'number': 73,\n",
       "   'title': '1.2',\n",
       "   'description': '',\n",
       "   'creator': {'login': 'jreback',\n",
       "    'id': 953992,\n",
       "    'node_id': 'MDQ6VXNlcjk1Mzk5Mg==',\n",
       "    'avatar_url': 'https://avatars2.githubusercontent.com/u/953992?v=4',\n",
       "    'gravatar_id': '',\n",
       "    'url': 'https://api.github.com/users/jreback',\n",
       "    'html_url': 'https://github.com/jreback',\n",
       "    'followers_url': 'https://api.github.com/users/jreback/followers',\n",
       "    'following_url': 'https://api.github.com/users/jreback/following{/other_user}',\n",
       "    'gists_url': 'https://api.github.com/users/jreback/gists{/gist_id}',\n",
       "    'starred_url': 'https://api.github.com/users/jreback/starred{/owner}{/repo}',\n",
       "    'subscriptions_url': 'https://api.github.com/users/jreback/subscriptions',\n",
       "    'organizations_url': 'https://api.github.com/users/jreback/orgs',\n",
       "    'repos_url': 'https://api.github.com/users/jreback/repos',\n",
       "    'events_url': 'https://api.github.com/users/jreback/events{/privacy}',\n",
       "    'received_events_url': 'https://api.github.com/users/jreback/received_events',\n",
       "    'type': 'User',\n",
       "    'site_admin': False},\n",
       "   'open_issues': 48,\n",
       "   'closed_issues': 287,\n",
       "   'state': 'open',\n",
       "   'created_at': '2020-05-29T23:47:32Z',\n",
       "   'updated_at': '2020-09-05T15:03:55Z',\n",
       "   'due_on': '2020-11-29T08:00:00Z',\n",
       "   'closed_at': None},\n",
       "  'comments': 0,\n",
       "  'created_at': '2020-09-03T20:03:57Z',\n",
       "  'updated_at': '2020-09-05T02:56:05Z',\n",
       "  'closed_at': None,\n",
       "  'author_association': 'MEMBER',\n",
       "  'active_lock_reason': None,\n",
       "  'pull_request': {'url': 'https://api.github.com/repos/pandas-dev/pandas/pulls/36102',\n",
       "   'html_url': 'https://github.com/pandas-dev/pandas/pull/36102',\n",
       "   'diff_url': 'https://github.com/pandas-dev/pandas/pull/36102.diff',\n",
       "   'patch_url': 'https://github.com/pandas-dev/pandas/pull/36102.patch'},\n",
       "  'body': '```\\r\\npandas\\\\plotting\\\\_matplotlib\\\\tools.py:356: error: Incompatible return value type (got \"ndarray\", expected \"Sequence[Any]\")  [return-value]\\r\\npandas\\\\plotting\\\\_matplotlib\\\\tools.py:358: error: Incompatible return value type (got \"Union[ndarray, Any]\", expected \"Sequence[Any]\")  [return-value]\\r\\npandas\\\\plotting\\\\_matplotlib\\\\tools.py:359: error: Incompatible return value type (got \"ndarray\", expected \"Sequence[Any]\")  [return-value]\\r\\npandas\\\\core\\\\dtypes\\\\cast.py:1079: error: No overload variant of \"to_datetime\" matches argument types \"ndarray\", \"str\"  [call-overload]\\r\\npandas\\\\core\\\\arrays\\\\categorical.py:1818: error: Signature of \"_ndarray\" incompatible with supertype \"NDArrayBackedExtensionArray\"  [override]\\r\\npandas/core/arrays/datetimelike.py:465: error: Signature of \"_ndarray\" incompatible with supertype \"NDArrayBackedExtensionArray\"  [override]\\r\\n```',\n",
       "  'performed_via_github_app': None},\n",
       " {'url': 'https://api.github.com/repos/pandas-dev/pandas/issues/36100',\n",
       "  'repository_url': 'https://api.github.com/repos/pandas-dev/pandas',\n",
       "  'labels_url': 'https://api.github.com/repos/pandas-dev/pandas/issues/36100/labels{/name}',\n",
       "  'comments_url': 'https://api.github.com/repos/pandas-dev/pandas/issues/36100/comments',\n",
       "  'events_url': 'https://api.github.com/repos/pandas-dev/pandas/issues/36100/events',\n",
       "  'html_url': 'https://github.com/pandas-dev/pandas/pull/36100',\n",
       "  'id': 692217751,\n",
       "  'node_id': 'MDExOlB1bGxSZXF1ZXN0NDc4ODM2MTk3',\n",
       "  'number': 36100,\n",
       "  'title': 'TYP: misc fixes for numpy types 3',\n",
       "  'user': {'login': 'simonjayhawkins',\n",
       "   'id': 13159005,\n",
       "   'node_id': 'MDQ6VXNlcjEzMTU5MDA1',\n",
       "   'avatar_url': 'https://avatars0.githubusercontent.com/u/13159005?v=4',\n",
       "   'gravatar_id': '',\n",
       "   'url': 'https://api.github.com/users/simonjayhawkins',\n",
       "   'html_url': 'https://github.com/simonjayhawkins',\n",
       "   'followers_url': 'https://api.github.com/users/simonjayhawkins/followers',\n",
       "   'following_url': 'https://api.github.com/users/simonjayhawkins/following{/other_user}',\n",
       "   'gists_url': 'https://api.github.com/users/simonjayhawkins/gists{/gist_id}',\n",
       "   'starred_url': 'https://api.github.com/users/simonjayhawkins/starred{/owner}{/repo}',\n",
       "   'subscriptions_url': 'https://api.github.com/users/simonjayhawkins/subscriptions',\n",
       "   'organizations_url': 'https://api.github.com/users/simonjayhawkins/orgs',\n",
       "   'repos_url': 'https://api.github.com/users/simonjayhawkins/repos',\n",
       "   'events_url': 'https://api.github.com/users/simonjayhawkins/events{/privacy}',\n",
       "   'received_events_url': 'https://api.github.com/users/simonjayhawkins/received_events',\n",
       "   'type': 'User',\n",
       "   'site_admin': False},\n",
       "  'labels': [{'id': 1280988427,\n",
       "    'node_id': 'MDU6TGFiZWwxMjgwOTg4NDI3',\n",
       "    'url': 'https://api.github.com/repos/pandas-dev/pandas/labels/Typing',\n",
       "    'name': 'Typing',\n",
       "    'color': 'ea91a4',\n",
       "    'default': False,\n",
       "    'description': 'mypy type annotations'}],\n",
       "  'state': 'open',\n",
       "  'locked': False,\n",
       "  'assignee': None,\n",
       "  'assignees': [],\n",
       "  'milestone': {'url': 'https://api.github.com/repos/pandas-dev/pandas/milestones/73',\n",
       "   'html_url': 'https://github.com/pandas-dev/pandas/milestone/73',\n",
       "   'labels_url': 'https://api.github.com/repos/pandas-dev/pandas/milestones/73/labels',\n",
       "   'id': 5479819,\n",
       "   'node_id': 'MDk6TWlsZXN0b25lNTQ3OTgxOQ==',\n",
       "   'number': 73,\n",
       "   'title': '1.2',\n",
       "   'description': '',\n",
       "   'creator': {'login': 'jreback',\n",
       "    'id': 953992,\n",
       "    'node_id': 'MDQ6VXNlcjk1Mzk5Mg==',\n",
       "    'avatar_url': 'https://avatars2.githubusercontent.com/u/953992?v=4',\n",
       "    'gravatar_id': '',\n",
       "    'url': 'https://api.github.com/users/jreback',\n",
       "    'html_url': 'https://github.com/jreback',\n",
       "    'followers_url': 'https://api.github.com/users/jreback/followers',\n",
       "    'following_url': 'https://api.github.com/users/jreback/following{/other_user}',\n",
       "    'gists_url': 'https://api.github.com/users/jreback/gists{/gist_id}',\n",
       "    'starred_url': 'https://api.github.com/users/jreback/starred{/owner}{/repo}',\n",
       "    'subscriptions_url': 'https://api.github.com/users/jreback/subscriptions',\n",
       "    'organizations_url': 'https://api.github.com/users/jreback/orgs',\n",
       "    'repos_url': 'https://api.github.com/users/jreback/repos',\n",
       "    'events_url': 'https://api.github.com/users/jreback/events{/privacy}',\n",
       "    'received_events_url': 'https://api.github.com/users/jreback/received_events',\n",
       "    'type': 'User',\n",
       "    'site_admin': False},\n",
       "   'open_issues': 48,\n",
       "   'closed_issues': 287,\n",
       "   'state': 'open',\n",
       "   'created_at': '2020-05-29T23:47:32Z',\n",
       "   'updated_at': '2020-09-05T15:03:55Z',\n",
       "   'due_on': '2020-11-29T08:00:00Z',\n",
       "   'closed_at': None},\n",
       "  'comments': 1,\n",
       "  'created_at': '2020-09-03T19:04:50Z',\n",
       "  'updated_at': '2020-09-05T08:40:37Z',\n",
       "  'closed_at': None,\n",
       "  'author_association': 'MEMBER',\n",
       "  'active_lock_reason': None,\n",
       "  'pull_request': {'url': 'https://api.github.com/repos/pandas-dev/pandas/pulls/36100',\n",
       "   'html_url': 'https://github.com/pandas-dev/pandas/pull/36100',\n",
       "   'diff_url': 'https://github.com/pandas-dev/pandas/pull/36100.diff',\n",
       "   'patch_url': 'https://github.com/pandas-dev/pandas/pull/36100.patch'},\n",
       "  'body': '```\\r\\npandas\\\\core\\\\reshape\\\\merge.py:1931: error: Incompatible types in assignment (expression has type \"ndarray\", variable has type \"ExtensionArray\")  [assignment]\\r\\npandas\\\\core\\\\reshape\\\\merge.py:1932: error: Incompatible types in assignment (expression has type \"ndarray\", variable has type \"ExtensionArray\")  [assignment]\\r\\npandas\\\\core\\\\reshape\\\\merge.py:1941: error: Incompatible types in assignment (expression has type \"ndarray\", variable has type \"ExtensionArray\")  [assignment]\\r\\npandas\\\\core\\\\reshape\\\\merge.py:1950: error: Incompatible types in assignment (expression has type \"ndarray\", variable has type \"ExtensionArray\")  [assignment]\\r\\npandas\\\\core\\\\reshape\\\\merge.py:1951: error: Incompatible types in assignment (expression has type \"ndarray\", variable has type \"ExtensionArray\")  [assignment]\\r\\npandas\\\\io\\\\pytables.py:5084: error: Incompatible types in assignment (expression has type \"ndarray\", variable has type \"ExtensionArray\")  [assignment]\\r\\n```',\n",
       "  'performed_via_github_app': None},\n",
       " {'url': 'https://api.github.com/repos/pandas-dev/pandas/issues/36097',\n",
       "  'repository_url': 'https://api.github.com/repos/pandas-dev/pandas',\n",
       "  'labels_url': 'https://api.github.com/repos/pandas-dev/pandas/issues/36097/labels{/name}',\n",
       "  'comments_url': 'https://api.github.com/repos/pandas-dev/pandas/issues/36097/comments',\n",
       "  'events_url': 'https://api.github.com/repos/pandas-dev/pandas/issues/36097/events',\n",
       "  'html_url': 'https://github.com/pandas-dev/pandas/pull/36097',\n",
       "  'id': 692136954,\n",
       "  'node_id': 'MDExOlB1bGxSZXF1ZXN0NDc4NzY5MTU4',\n",
       "  'number': 36097,\n",
       "  'title': 'Center window',\n",
       "  'user': {'login': 'adamamiller',\n",
       "   'id': 2434744,\n",
       "   'node_id': 'MDQ6VXNlcjI0MzQ3NDQ=',\n",
       "   'avatar_url': 'https://avatars3.githubusercontent.com/u/2434744?v=4',\n",
       "   'gravatar_id': '',\n",
       "   'url': 'https://api.github.com/users/adamamiller',\n",
       "   'html_url': 'https://github.com/adamamiller',\n",
       "   'followers_url': 'https://api.github.com/users/adamamiller/followers',\n",
       "   'following_url': 'https://api.github.com/users/adamamiller/following{/other_user}',\n",
       "   'gists_url': 'https://api.github.com/users/adamamiller/gists{/gist_id}',\n",
       "   'starred_url': 'https://api.github.com/users/adamamiller/starred{/owner}{/repo}',\n",
       "   'subscriptions_url': 'https://api.github.com/users/adamamiller/subscriptions',\n",
       "   'organizations_url': 'https://api.github.com/users/adamamiller/orgs',\n",
       "   'repos_url': 'https://api.github.com/users/adamamiller/repos',\n",
       "   'events_url': 'https://api.github.com/users/adamamiller/events{/privacy}',\n",
       "   'received_events_url': 'https://api.github.com/users/adamamiller/received_events',\n",
       "   'type': 'User',\n",
       "   'site_admin': False},\n",
       "  'labels': [],\n",
       "  'state': 'open',\n",
       "  'locked': False,\n",
       "  'assignee': None,\n",
       "  'assignees': [],\n",
       "  'milestone': None,\n",
       "  'comments': 0,\n",
       "  'created_at': '2020-09-03T17:06:40Z',\n",
       "  'updated_at': '2020-09-03T17:39:33Z',\n",
       "  'closed_at': None,\n",
       "  'author_association': 'NONE',\n",
       "  'active_lock_reason': None,\n",
       "  'pull_request': {'url': 'https://api.github.com/repos/pandas-dev/pandas/pulls/36097',\n",
       "   'html_url': 'https://github.com/pandas-dev/pandas/pull/36097',\n",
       "   'diff_url': 'https://github.com/pandas-dev/pandas/pull/36097.diff',\n",
       "   'patch_url': 'https://github.com/pandas-dev/pandas/pull/36097.patch'},\n",
       "  'body': '- [x] closes #20012\\r\\n- [ ] tests added / passed\\r\\n- [ ] passes `black pandas`\\r\\n- [ ] passes `git diff upstream/master -u -- \"*.py\" | flake8 --diff`\\r\\n- [ ] whatsnew entry\\r\\n\\r\\nAdded center functionality for `VariableWindowIndexer`. Note - I am unsure if the NotImplementedError in lines 1966-1969 in rolling.py still correctly raises an error for offset based windows.',\n",
       "  'performed_via_github_app': None},\n",
       " {'url': 'https://api.github.com/repos/pandas-dev/pandas/issues/36096',\n",
       "  'repository_url': 'https://api.github.com/repos/pandas-dev/pandas',\n",
       "  'labels_url': 'https://api.github.com/repos/pandas-dev/pandas/issues/36096/labels{/name}',\n",
       "  'comments_url': 'https://api.github.com/repos/pandas-dev/pandas/issues/36096/comments',\n",
       "  'events_url': 'https://api.github.com/repos/pandas-dev/pandas/issues/36096/events',\n",
       "  'html_url': 'https://github.com/pandas-dev/pandas/issues/36096',\n",
       "  'id': 692133414,\n",
       "  'node_id': 'MDU6SXNzdWU2OTIxMzM0MTQ=',\n",
       "  'number': 36096,\n",
       "  'title': 'Improve `OverflowError` message when `pandas.read_stata` fails to convert dates',\n",
       "  'user': {'login': 'miker985',\n",
       "   'id': 26555712,\n",
       "   'node_id': 'MDQ6VXNlcjI2NTU1NzEy',\n",
       "   'avatar_url': 'https://avatars0.githubusercontent.com/u/26555712?v=4',\n",
       "   'gravatar_id': '',\n",
       "   'url': 'https://api.github.com/users/miker985',\n",
       "   'html_url': 'https://github.com/miker985',\n",
       "   'followers_url': 'https://api.github.com/users/miker985/followers',\n",
       "   'following_url': 'https://api.github.com/users/miker985/following{/other_user}',\n",
       "   'gists_url': 'https://api.github.com/users/miker985/gists{/gist_id}',\n",
       "   'starred_url': 'https://api.github.com/users/miker985/starred{/owner}{/repo}',\n",
       "   'subscriptions_url': 'https://api.github.com/users/miker985/subscriptions',\n",
       "   'organizations_url': 'https://api.github.com/users/miker985/orgs',\n",
       "   'repos_url': 'https://api.github.com/users/miker985/repos',\n",
       "   'events_url': 'https://api.github.com/users/miker985/events{/privacy}',\n",
       "   'received_events_url': 'https://api.github.com/users/miker985/received_events',\n",
       "   'type': 'User',\n",
       "   'site_admin': False},\n",
       "  'labels': [{'id': 104865385,\n",
       "    'node_id': 'MDU6TGFiZWwxMDQ4NjUzODU=',\n",
       "    'url': 'https://api.github.com/repos/pandas-dev/pandas/labels/IO%20Stata',\n",
       "    'name': 'IO Stata',\n",
       "    'color': '5319e7',\n",
       "    'default': False,\n",
       "    'description': 'Stata: read_stata, to_stata'},\n",
       "   {'id': 211840,\n",
       "    'node_id': 'MDU6TGFiZWwyMTE4NDA=',\n",
       "    'url': 'https://api.github.com/repos/pandas-dev/pandas/labels/Timeseries',\n",
       "    'name': 'Timeseries',\n",
       "    'color': 'AFEEEE',\n",
       "    'default': False,\n",
       "    'description': None}],\n",
       "  'state': 'open',\n",
       "  'locked': False,\n",
       "  'assignee': None,\n",
       "  'assignees': [],\n",
       "  'milestone': None,\n",
       "  'comments': 4,\n",
       "  'created_at': '2020-09-03T17:00:40Z',\n",
       "  'updated_at': '2020-09-04T14:51:49Z',\n",
       "  'closed_at': None,\n",
       "  'author_association': 'CONTRIBUTOR',\n",
       "  'active_lock_reason': None,\n",
       "  'body': '#### Is your feature request related to a problem?\\r\\n\\r\\nCalling `pd.read_stata` on a DTA file with a bad date format code leads to a minimally useful error message. The error is [raised from this line](https://github.com/pandas-dev/pandas/blob/309018c7ce7e9e31708f58af971ed92823921493/pandas/io/stata.py#L294).\\r\\n\\r\\nWhat I see:\\r\\n\\r\\n```python\\r\\n>>> import pandas as pd\\r\\n>>> pd.read_stata(\"date_overflow.DTA\")\\r\\nTraceback (most recent call last):\\r\\n  File \"<stdin>\", line 1, in <module>\\r\\n  File \"/home/miker985/lib-code/pandas/pandas/io/stata.py\", line 1933, in read_stata\\r\\n    data = reader.read()\\r\\n  File \"/home/miker985/lib-code/pandas/pandas/io/stata.py\", line 1682, in read\\r\\n    data[col], self.fmtlist[i]\\r\\n  File \"/home/miker985/lib-code/pandas/pandas/io/stata.py\", line 333, in _stata_elapsed_date_to_datetime_vec\\r\\n    conv_dates = convert_delta_safe(base, days, \"d\")\\r\\n  File \"/home/miker985/lib-code/pandas/pandas/io/stata.py\", line 294, in convert_delta_safe\\r\\n    values = [base + relativedelta(days=int(d)) for d in deltas]\\r\\n  File \"/home/miker985/lib-code/pandas/pandas/io/stata.py\", line 294, in <listcomp>\\r\\n    values = [base + relativedelta(days=int(d)) for d in deltas]\\r\\n  File \"/home/miker985/.virtualenvs/tmp-3c950d2b6b7b8c2/lib/python3.7/site-packages/dateutil/relativedelta.py\", line 405, in __radd__\\r\\n    return self.__add__(other)\\r\\n  File \"/home/miker985/.virtualenvs/tmp-3c950d2b6b7b8c2/lib/python3.7/site-packages/dateutil/relativedelta.py\", line 392, in __add__\\r\\n    microseconds=self.microseconds))\\r\\nOverflowError: date value out of range\\r\\n```\\r\\n\\r\\n#### Describe the solution you\\'d like\\r\\n\\r\\nI\\'d like a clearer message indicating the problem column. It would be easy to catch the `OverflowError`  [in the loop doing the date conversion](https://github.com/pandas-dev/pandas/blob/309018c7ce7e9e31708f58af971ed92823921493/pandas/io/stata.py#L1678-L1686) and include the column name.\\r\\n\\r\\nDesired detailed error: `OverflowError: Failed converting column tiempo_gen for format %dD_m_Y: date value out of range`\\r\\nAlternative error: `OverflowError: date value out of range for column tiempo_gen`\\r\\n[date_overflow.DTA.gz](https://github.com/pandas-dev/pandas/files/5169943/date_overflow.DTA.gz)\\r\\n\\r\\n**I would be happy to submit a patch for this if the solution is approved**.\\r\\n\\r\\n\\r\\n#### API breaking implications\\r\\n\\r\\nI don\\'t believe this would break or alter any APIs\\r\\n\\r\\n#### Describe alternatives you\\'ve considered\\r\\n\\r\\n* Add a flag `skip_invalid_dates` which changes behavior to skip converting dates IFF they would error. Instead of raising an exception it would be caught and a warning emitted along the lines of `\"date value out of range for column tiempo_gen - skipping date conversion\"`. This would allow users access to as much converted data as possible. This flag would default to `False` and be backwards compatible with the APIs.\\r\\n  * I would be happy to submit a patch for this if approved\\r\\n\\r\\n* Refactor the `pandas.io.stata` API to allow for manual date conversion without using private functions.\\r\\n\\r\\n#### Additional context\\r\\n\\r\\nOutput of `pd.show_versions()`\\r\\n\\r\\n<details>\\r\\n/home/miker985/.virtualenvs/tmp-3c950d2b6b7b8c2/lib/python3.7/site-packages/setuptools/distutils_patch.py:26: UserWarning: Distutils was imported before Setuptools. This usage is discouraged and may exhibit undesirable behaviors or errors. Please use Setuptools\\' objects directly or at least import Setuptools first.\\r\\n  \"Distutils was imported before Setuptools. This usage is discouraged \"\\r\\n\\r\\nINSTALLED VERSIONS\\r\\n------------------\\r\\ncommit           : 76f74d53bf3682c84ad8e2e64c41dfdfae9975cc\\r\\npython           : 3.7.8.final.0\\r\\npython-bits      : 64\\r\\nOS               : Linux\\r\\nOS-release       : 4.15.0-112-generic\\r\\nVersion          : #113-Ubuntu SMP Thu Jul 9 23:41:39 UTC 2020\\r\\nmachine          : x86_64\\r\\nprocessor        : x86_64\\r\\nbyteorder        : little\\r\\nLC_ALL           : None\\r\\nLANG             : en_US.UTF-8\\r\\nLOCALE           : en_US.UTF-8\\r\\n\\r\\npandas           : 1.2.0.dev0+230.g76f74d53b.dirty\\r\\nnumpy            : 1.19.1\\r\\npytz             : 2020.1\\r\\ndateutil         : 2.8.1\\r\\npip              : 20.1.1\\r\\nsetuptools       : 49.2.0\\r\\nCython           : None\\r\\npytest           : None\\r\\nhypothesis       : None\\r\\nsphinx           : None\\r\\nblosc            : None\\r\\nfeather          : None\\r\\nxlsxwriter       : None\\r\\nlxml.etree       : None\\r\\nhtml5lib         : None\\r\\npymysql          : None\\r\\npsycopg2         : None\\r\\njinja2           : None\\r\\nIPython          : None\\r\\npandas_datareader: None\\r\\nbs4              : None\\r\\nbottleneck       : None\\r\\nfsspec           : None\\r\\nfastparquet      : None\\r\\ngcsfs            : None\\r\\nmatplotlib       : None\\r\\nnumexpr          : None\\r\\nodfpy            : None\\r\\nopenpyxl         : None\\r\\npandas_gbq       : None\\r\\npyarrow          : None\\r\\npytables         : None\\r\\npyxlsb           : None\\r\\ns3fs             : None\\r\\nscipy            : None\\r\\nsqlalchemy       : None\\r\\ntables           : None\\r\\ntabulate         : None\\r\\nxarray           : None\\r\\nxlrd             : None\\r\\nxlwt             : None\\r\\nnumba            : None\\r\\n\\r\\n</details>\\r\\n\\r\\nThis was the test I put together to hammer out all the details so I knew what was happening with the file\\r\\n\\r\\ntl;dr\\r\\n\\r\\n* The column contains values in the millions\\r\\n* The date units are days, meaning the dates occur after the year 56,000\\r\\n\\r\\n```python\\r\\nimport pandas as pd\\r\\n\\r\\n\\r\\ndef test_loading_bad_format():\\r\\n    \"\"\"\\r\\n    Demonstrate OverflowError is raised with pd.read_stata\\r\\n    \"\"\"\\r\\n    dta = \"date_overflow.DTA\"\\r\\n\\r\\n    try:\\r\\n        pd.read_stata(dta)\\r\\n    except OverflowError as e:\\r\\n        assert len(e.args) == 1\\r\\n        # this message is minimally useful.\\r\\n        # it should include at minimum the column causing the error\\r\\n        assert e.args[0] == \"date value out of range\"\\r\\n\\r\\n    # demonstrate cause\\r\\n    reader = pd.io.stata.StataReader(dta, convert_dates=False)\\r\\n    # date conversion is the cause here\\r\\n    df = reader.read()\\r\\n    # for one column\\r\\n    assert len(df.columns) == 1 and \\'tiempo_gen\\' in df\\r\\n    min_val = df[\\'tiempo_gen\\'].min()\\r\\n    # with very large values ...\\r\\n    assert min_val > 20_588_866\\r\\n    assert min_val < 20_588_867\\r\\n    # ... and a format indicating the units are days\\r\\n    # (20.5 million days is ~56,000 years)\\r\\n    assert len(reader.fmtlist) == 1 and reader.fmtlist[0] == \\'%dD_m_Y\\'\\r\\n```\\r\\n\\r\\nExample file - a subset of a real life file I ran into this issue with: [date_overflow.DTA.gz](https://github.com/pandas-dev/pandas/files/5170101/date_overflow.DTA.gz)',\n",
       "  'performed_via_github_app': None},\n",
       " {'url': 'https://api.github.com/repos/pandas-dev/pandas/issues/36094',\n",
       "  'repository_url': 'https://api.github.com/repos/pandas-dev/pandas',\n",
       "  'labels_url': 'https://api.github.com/repos/pandas-dev/pandas/issues/36094/labels{/name}',\n",
       "  'comments_url': 'https://api.github.com/repos/pandas-dev/pandas/issues/36094/comments',\n",
       "  'events_url': 'https://api.github.com/repos/pandas-dev/pandas/issues/36094/events',\n",
       "  'html_url': 'https://github.com/pandas-dev/pandas/pull/36094',\n",
       "  'id': 692104591,\n",
       "  'node_id': 'MDExOlB1bGxSZXF1ZXN0NDc4NzQyMzM2',\n",
       "  'number': 36094,\n",
       "  'title': 'BUG: extra leading space in to_string when index=False',\n",
       "  'user': {'login': 'onshek',\n",
       "   'id': 21543236,\n",
       "   'node_id': 'MDQ6VXNlcjIxNTQzMjM2',\n",
       "   'avatar_url': 'https://avatars3.githubusercontent.com/u/21543236?v=4',\n",
       "   'gravatar_id': '',\n",
       "   'url': 'https://api.github.com/users/onshek',\n",
       "   'html_url': 'https://github.com/onshek',\n",
       "   'followers_url': 'https://api.github.com/users/onshek/followers',\n",
       "   'following_url': 'https://api.github.com/users/onshek/following{/other_user}',\n",
       "   'gists_url': 'https://api.github.com/users/onshek/gists{/gist_id}',\n",
       "   'starred_url': 'https://api.github.com/users/onshek/starred{/owner}{/repo}',\n",
       "   'subscriptions_url': 'https://api.github.com/users/onshek/subscriptions',\n",
       "   'organizations_url': 'https://api.github.com/users/onshek/orgs',\n",
       "   'repos_url': 'https://api.github.com/users/onshek/repos',\n",
       "   'events_url': 'https://api.github.com/users/onshek/events{/privacy}',\n",
       "   'received_events_url': 'https://api.github.com/users/onshek/received_events',\n",
       "   'type': 'User',\n",
       "   'site_admin': False},\n",
       "  'labels': [{'id': 76811,\n",
       "    'node_id': 'MDU6TGFiZWw3NjgxMQ==',\n",
       "    'url': 'https://api.github.com/repos/pandas-dev/pandas/labels/Bug',\n",
       "    'name': 'Bug',\n",
       "    'color': 'e10c02',\n",
       "    'default': False,\n",
       "    'description': None},\n",
       "   {'id': 13101118,\n",
       "    'node_id': 'MDU6TGFiZWwxMzEwMTExOA==',\n",
       "    'url': 'https://api.github.com/repos/pandas-dev/pandas/labels/Output-Formatting',\n",
       "    'name': 'Output-Formatting',\n",
       "    'color': 'ededed',\n",
       "    'default': False,\n",
       "    'description': '__repr__ of pandas objects, to_string'},\n",
       "   {'id': 32815646,\n",
       "    'node_id': 'MDU6TGFiZWwzMjgxNTY0Ng==',\n",
       "    'url': 'https://api.github.com/repos/pandas-dev/pandas/labels/Regression',\n",
       "    'name': 'Regression',\n",
       "    'color': 'e11d21',\n",
       "    'default': False,\n",
       "    'description': 'Functionality that used to work in a prior pandas version'}],\n",
       "  'state': 'open',\n",
       "  'locked': False,\n",
       "  'assignee': None,\n",
       "  'assignees': [],\n",
       "  'milestone': {'url': 'https://api.github.com/repos/pandas-dev/pandas/milestones/73',\n",
       "   'html_url': 'https://github.com/pandas-dev/pandas/milestone/73',\n",
       "   'labels_url': 'https://api.github.com/repos/pandas-dev/pandas/milestones/73/labels',\n",
       "   'id': 5479819,\n",
       "   'node_id': 'MDk6TWlsZXN0b25lNTQ3OTgxOQ==',\n",
       "   'number': 73,\n",
       "   'title': '1.2',\n",
       "   'description': '',\n",
       "   'creator': {'login': 'jreback',\n",
       "    'id': 953992,\n",
       "    'node_id': 'MDQ6VXNlcjk1Mzk5Mg==',\n",
       "    'avatar_url': 'https://avatars2.githubusercontent.com/u/953992?v=4',\n",
       "    'gravatar_id': '',\n",
       "    'url': 'https://api.github.com/users/jreback',\n",
       "    'html_url': 'https://github.com/jreback',\n",
       "    'followers_url': 'https://api.github.com/users/jreback/followers',\n",
       "    'following_url': 'https://api.github.com/users/jreback/following{/other_user}',\n",
       "    'gists_url': 'https://api.github.com/users/jreback/gists{/gist_id}',\n",
       "    'starred_url': 'https://api.github.com/users/jreback/starred{/owner}{/repo}',\n",
       "    'subscriptions_url': 'https://api.github.com/users/jreback/subscriptions',\n",
       "    'organizations_url': 'https://api.github.com/users/jreback/orgs',\n",
       "    'repos_url': 'https://api.github.com/users/jreback/repos',\n",
       "    'events_url': 'https://api.github.com/users/jreback/events{/privacy}',\n",
       "    'received_events_url': 'https://api.github.com/users/jreback/received_events',\n",
       "    'type': 'User',\n",
       "    'site_admin': False},\n",
       "   'open_issues': 48,\n",
       "   'closed_issues': 287,\n",
       "   'state': 'open',\n",
       "   'created_at': '2020-05-29T23:47:32Z',\n",
       "   'updated_at': '2020-09-05T15:03:55Z',\n",
       "   'due_on': '2020-11-29T08:00:00Z',\n",
       "   'closed_at': None},\n",
       "  'comments': 4,\n",
       "  'created_at': '2020-09-03T16:14:40Z',\n",
       "  'updated_at': '2020-09-05T09:41:35Z',\n",
       "  'closed_at': None,\n",
       "  'author_association': 'CONTRIBUTOR',\n",
       "  'active_lock_reason': None,\n",
       "  'pull_request': {'url': 'https://api.github.com/repos/pandas-dev/pandas/pulls/36094',\n",
       "   'html_url': 'https://github.com/pandas-dev/pandas/pull/36094',\n",
       "   'diff_url': 'https://github.com/pandas-dev/pandas/pull/36094.diff',\n",
       "   'patch_url': 'https://github.com/pandas-dev/pandas/pull/36094.patch'},\n",
       "  'body': '- [x] closes #24980 \\r\\n- [x] tests added / passed\\r\\n- [ ] passes `black pandas`\\r\\n- [ ] passes `git diff upstream/master -u -- \"*.py\" | flake8 --diff`\\r\\n- [x] whatsnew entry\\r\\n\\r\\nThis PR is mainly from #29670 contributed by @charlesdong1991, and I made a few changes on his work.\\r\\nThe code have passed all tests modified and added in `test_format.py` and `test_to_latex.py`.\\r\\nAny comment is welcomed!',\n",
       "  'performed_via_github_app': None},\n",
       " {'url': 'https://api.github.com/repos/pandas-dev/pandas/issues/36092',\n",
       "  'repository_url': 'https://api.github.com/repos/pandas-dev/pandas',\n",
       "  'labels_url': 'https://api.github.com/repos/pandas-dev/pandas/issues/36092/labels{/name}',\n",
       "  'comments_url': 'https://api.github.com/repos/pandas-dev/pandas/issues/36092/comments',\n",
       "  'events_url': 'https://api.github.com/repos/pandas-dev/pandas/issues/36092/events',\n",
       "  'html_url': 'https://github.com/pandas-dev/pandas/pull/36092',\n",
       "  'id': 692088975,\n",
       "  'node_id': 'MDExOlB1bGxSZXF1ZXN0NDc4NzI5MDgx',\n",
       "  'number': 36092,\n",
       "  'title': 'CI: type checking with np-dev',\n",
       "  'user': {'login': 'simonjayhawkins',\n",
       "   'id': 13159005,\n",
       "   'node_id': 'MDQ6VXNlcjEzMTU5MDA1',\n",
       "   'avatar_url': 'https://avatars0.githubusercontent.com/u/13159005?v=4',\n",
       "   'gravatar_id': '',\n",
       "   'url': 'https://api.github.com/users/simonjayhawkins',\n",
       "   'html_url': 'https://github.com/simonjayhawkins',\n",
       "   'followers_url': 'https://api.github.com/users/simonjayhawkins/followers',\n",
       "   'following_url': 'https://api.github.com/users/simonjayhawkins/following{/other_user}',\n",
       "   'gists_url': 'https://api.github.com/users/simonjayhawkins/gists{/gist_id}',\n",
       "   'starred_url': 'https://api.github.com/users/simonjayhawkins/starred{/owner}{/repo}',\n",
       "   'subscriptions_url': 'https://api.github.com/users/simonjayhawkins/subscriptions',\n",
       "   'organizations_url': 'https://api.github.com/users/simonjayhawkins/orgs',\n",
       "   'repos_url': 'https://api.github.com/users/simonjayhawkins/repos',\n",
       "   'events_url': 'https://api.github.com/users/simonjayhawkins/events{/privacy}',\n",
       "   'received_events_url': 'https://api.github.com/users/simonjayhawkins/received_events',\n",
       "   'type': 'User',\n",
       "   'site_admin': False},\n",
       "  'labels': [{'id': 1280988427,\n",
       "    'node_id': 'MDU6TGFiZWwxMjgwOTg4NDI3',\n",
       "    'url': 'https://api.github.com/repos/pandas-dev/pandas/labels/Typing',\n",
       "    'name': 'Typing',\n",
       "    'color': 'ea91a4',\n",
       "    'default': False,\n",
       "    'description': 'mypy type annotations'}],\n",
       "  'state': 'open',\n",
       "  'locked': False,\n",
       "  'assignee': None,\n",
       "  'assignees': [],\n",
       "  'milestone': None,\n",
       "  'comments': 2,\n",
       "  'created_at': '2020-09-03T15:54:38Z',\n",
       "  'updated_at': '2020-09-04T19:33:09Z',\n",
       "  'closed_at': None,\n",
       "  'author_association': 'MEMBER',\n",
       "  'active_lock_reason': None,\n",
       "  'pull_request': {'url': 'https://api.github.com/repos/pandas-dev/pandas/pulls/36092',\n",
       "   'html_url': 'https://github.com/pandas-dev/pandas/pull/36092',\n",
       "   'diff_url': 'https://github.com/pandas-dev/pandas/pull/36092.diff',\n",
       "   'patch_url': 'https://github.com/pandas-dev/pandas/pull/36092.patch'},\n",
       "  'body': 'xref #27589',\n",
       "  'performed_via_github_app': None},\n",
       " {'url': 'https://api.github.com/repos/pandas-dev/pandas/issues/36081',\n",
       "  'repository_url': 'https://api.github.com/repos/pandas-dev/pandas',\n",
       "  'labels_url': 'https://api.github.com/repos/pandas-dev/pandas/issues/36081/labels{/name}',\n",
       "  'comments_url': 'https://api.github.com/repos/pandas-dev/pandas/issues/36081/comments',\n",
       "  'events_url': 'https://api.github.com/repos/pandas-dev/pandas/issues/36081/events',\n",
       "  'html_url': 'https://github.com/pandas-dev/pandas/pull/36081',\n",
       "  'id': 691520673,\n",
       "  'node_id': 'MDExOlB1bGxSZXF1ZXN0NDc4MjU2MDA4',\n",
       "  'number': 36081,\n",
       "  'title': 'BUG: Unary pos/neg ops on IntegerArrays failing with TypeError',\n",
       "  'user': {'login': 'asishm',\n",
       "   'id': 1978117,\n",
       "   'node_id': 'MDQ6VXNlcjE5NzgxMTc=',\n",
       "   'avatar_url': 'https://avatars0.githubusercontent.com/u/1978117?v=4',\n",
       "   'gravatar_id': '',\n",
       "   'url': 'https://api.github.com/users/asishm',\n",
       "   'html_url': 'https://github.com/asishm',\n",
       "   'followers_url': 'https://api.github.com/users/asishm/followers',\n",
       "   'following_url': 'https://api.github.com/users/asishm/following{/other_user}',\n",
       "   'gists_url': 'https://api.github.com/users/asishm/gists{/gist_id}',\n",
       "   'starred_url': 'https://api.github.com/users/asishm/starred{/owner}{/repo}',\n",
       "   'subscriptions_url': 'https://api.github.com/users/asishm/subscriptions',\n",
       "   'organizations_url': 'https://api.github.com/users/asishm/orgs',\n",
       "   'repos_url': 'https://api.github.com/users/asishm/repos',\n",
       "   'events_url': 'https://api.github.com/users/asishm/events{/privacy}',\n",
       "   'received_events_url': 'https://api.github.com/users/asishm/received_events',\n",
       "   'type': 'User',\n",
       "   'site_admin': False},\n",
       "  'labels': [],\n",
       "  'state': 'open',\n",
       "  'locked': False,\n",
       "  'assignee': None,\n",
       "  'assignees': [],\n",
       "  'milestone': None,\n",
       "  'comments': 0,\n",
       "  'created_at': '2020-09-03T00:11:11Z',\n",
       "  'updated_at': '2020-09-03T00:11:11Z',\n",
       "  'closed_at': None,\n",
       "  'author_association': 'CONTRIBUTOR',\n",
       "  'active_lock_reason': None,\n",
       "  'pull_request': {'url': 'https://api.github.com/repos/pandas-dev/pandas/pulls/36081',\n",
       "   'html_url': 'https://github.com/pandas-dev/pandas/pull/36081',\n",
       "   'diff_url': 'https://github.com/pandas-dev/pandas/pull/36081.diff',\n",
       "   'patch_url': 'https://github.com/pandas-dev/pandas/pull/36081.patch'},\n",
       "  'body': '- [ ] closes #xxxx\\r\\n- [ ] tests added / passed\\r\\n- [ ] passes `black pandas`\\r\\n- [ ] passes `git diff upstream/master -u -- \"*.py\" | flake8 --diff`\\r\\n- [ ] whatsnew entry\\r\\n',\n",
       "  'performed_via_github_app': None},\n",
       " {'url': 'https://api.github.com/repos/pandas-dev/pandas/issues/36080',\n",
       "  'repository_url': 'https://api.github.com/repos/pandas-dev/pandas',\n",
       "  'labels_url': 'https://api.github.com/repos/pandas-dev/pandas/issues/36080/labels{/name}',\n",
       "  'comments_url': 'https://api.github.com/repos/pandas-dev/pandas/issues/36080/comments',\n",
       "  'events_url': 'https://api.github.com/repos/pandas-dev/pandas/issues/36080/events',\n",
       "  'html_url': 'https://github.com/pandas-dev/pandas/pull/36080',\n",
       "  'id': 691499864,\n",
       "  'node_id': 'MDExOlB1bGxSZXF1ZXN0NDc4MjM4Mzc5',\n",
       "  'number': 36080,\n",
       "  'title': 'BUG: add py39 compat check for ast.slice #32766',\n",
       "  'user': {'login': 'VirosaLi',\n",
       "   'id': 7614606,\n",
       "   'node_id': 'MDQ6VXNlcjc2MTQ2MDY=',\n",
       "   'avatar_url': 'https://avatars0.githubusercontent.com/u/7614606?v=4',\n",
       "   'gravatar_id': '',\n",
       "   'url': 'https://api.github.com/users/VirosaLi',\n",
       "   'html_url': 'https://github.com/VirosaLi',\n",
       "   'followers_url': 'https://api.github.com/users/VirosaLi/followers',\n",
       "   'following_url': 'https://api.github.com/users/VirosaLi/following{/other_user}',\n",
       "   'gists_url': 'https://api.github.com/users/VirosaLi/gists{/gist_id}',\n",
       "   'starred_url': 'https://api.github.com/users/VirosaLi/starred{/owner}{/repo}',\n",
       "   'subscriptions_url': 'https://api.github.com/users/VirosaLi/subscriptions',\n",
       "   'organizations_url': 'https://api.github.com/users/VirosaLi/orgs',\n",
       "   'repos_url': 'https://api.github.com/users/VirosaLi/repos',\n",
       "   'events_url': 'https://api.github.com/users/VirosaLi/events{/privacy}',\n",
       "   'received_events_url': 'https://api.github.com/users/VirosaLi/received_events',\n",
       "   'type': 'User',\n",
       "   'site_admin': False},\n",
       "  'labels': [{'id': 76865106,\n",
       "    'node_id': 'MDU6TGFiZWw3Njg2NTEwNg==',\n",
       "    'url': 'https://api.github.com/repos/pandas-dev/pandas/labels/Compat',\n",
       "    'name': 'Compat',\n",
       "    'color': '0052cc',\n",
       "    'default': False,\n",
       "    'description': 'Related to pandas compatibility with other libraries'}],\n",
       "  'state': 'open',\n",
       "  'locked': False,\n",
       "  'assignee': None,\n",
       "  'assignees': [],\n",
       "  'milestone': None,\n",
       "  'comments': 3,\n",
       "  'created_at': '2020-09-02T23:19:47Z',\n",
       "  'updated_at': '2020-09-05T03:00:57Z',\n",
       "  'closed_at': None,\n",
       "  'author_association': 'CONTRIBUTOR',\n",
       "  'active_lock_reason': None,\n",
       "  'pull_request': {'url': 'https://api.github.com/repos/pandas-dev/pandas/pulls/36080',\n",
       "   'html_url': 'https://github.com/pandas-dev/pandas/pull/36080',\n",
       "   'diff_url': 'https://github.com/pandas-dev/pandas/pull/36080.diff',\n",
       "   'patch_url': 'https://github.com/pandas-dev/pandas/pull/36080.patch'},\n",
       "  'body': '- [x] closes #32766\\r\\n- [x] passes `black pandas`\\r\\n- [x] passes `git diff upstream/master -u -- \"*.py\" | flake8 --diff`\\r\\n\\r\\n',\n",
       "  'performed_via_github_app': None},\n",
       " {'url': 'https://api.github.com/repos/pandas-dev/pandas/issues/36078',\n",
       "  'repository_url': 'https://api.github.com/repos/pandas-dev/pandas',\n",
       "  'labels_url': 'https://api.github.com/repos/pandas-dev/pandas/issues/36078/labels{/name}',\n",
       "  'comments_url': 'https://api.github.com/repos/pandas-dev/pandas/issues/36078/comments',\n",
       "  'events_url': 'https://api.github.com/repos/pandas-dev/pandas/issues/36078/events',\n",
       "  'html_url': 'https://github.com/pandas-dev/pandas/pull/36078',\n",
       "  'id': 691458403,\n",
       "  'node_id': 'MDExOlB1bGxSZXF1ZXN0NDc4MjAxNjg2',\n",
       "  'number': 36078,\n",
       "  'title': 'BUG: Unary pos/neg ops on IntegerArrays failing with TypeError',\n",
       "  'user': {'login': 'asishm',\n",
       "   'id': 1978117,\n",
       "   'node_id': 'MDQ6VXNlcjE5NzgxMTc=',\n",
       "   'avatar_url': 'https://avatars0.githubusercontent.com/u/1978117?v=4',\n",
       "   'gravatar_id': '',\n",
       "   'url': 'https://api.github.com/users/asishm',\n",
       "   'html_url': 'https://github.com/asishm',\n",
       "   'followers_url': 'https://api.github.com/users/asishm/followers',\n",
       "   'following_url': 'https://api.github.com/users/asishm/following{/other_user}',\n",
       "   'gists_url': 'https://api.github.com/users/asishm/gists{/gist_id}',\n",
       "   'starred_url': 'https://api.github.com/users/asishm/starred{/owner}{/repo}',\n",
       "   'subscriptions_url': 'https://api.github.com/users/asishm/subscriptions',\n",
       "   'organizations_url': 'https://api.github.com/users/asishm/orgs',\n",
       "   'repos_url': 'https://api.github.com/users/asishm/repos',\n",
       "   'events_url': 'https://api.github.com/users/asishm/events{/privacy}',\n",
       "   'received_events_url': 'https://api.github.com/users/asishm/received_events',\n",
       "   'type': 'User',\n",
       "   'site_admin': False},\n",
       "  'labels': [],\n",
       "  'state': 'open',\n",
       "  'locked': False,\n",
       "  'assignee': None,\n",
       "  'assignees': [],\n",
       "  'milestone': None,\n",
       "  'comments': 3,\n",
       "  'created_at': '2020-09-02T22:02:12Z',\n",
       "  'updated_at': '2020-09-03T00:11:36Z',\n",
       "  'closed_at': None,\n",
       "  'author_association': 'CONTRIBUTOR',\n",
       "  'active_lock_reason': None,\n",
       "  'pull_request': {'url': 'https://api.github.com/repos/pandas-dev/pandas/pulls/36078',\n",
       "   'html_url': 'https://github.com/pandas-dev/pandas/pull/36078',\n",
       "   'diff_url': 'https://github.com/pandas-dev/pandas/pull/36078.diff',\n",
       "   'patch_url': 'https://github.com/pandas-dev/pandas/pull/36078.patch'},\n",
       "  'body': '- [ ] closes #36063\\r\\n- [ ] tests added / passed\\r\\n- [ ] passes `black pandas`\\r\\n- [ ] passes `git diff upstream/master -u -- \"*.py\" | flake8 --diff`\\r\\n- [ ] whatsnew entry\\r\\n',\n",
       "  'performed_via_github_app': None},\n",
       " {'url': 'https://api.github.com/repos/pandas-dev/pandas/issues/36076',\n",
       "  'repository_url': 'https://api.github.com/repos/pandas-dev/pandas',\n",
       "  'labels_url': 'https://api.github.com/repos/pandas-dev/pandas/issues/36076/labels{/name}',\n",
       "  'comments_url': 'https://api.github.com/repos/pandas-dev/pandas/issues/36076/comments',\n",
       "  'events_url': 'https://api.github.com/repos/pandas-dev/pandas/issues/36076/events',\n",
       "  'html_url': 'https://github.com/pandas-dev/pandas/issues/36076',\n",
       "  'id': 691263138,\n",
       "  'node_id': 'MDU6SXNzdWU2OTEyNjMxMzg=',\n",
       "  'number': 36076,\n",
       "  'title': 'BUG: ser.to_frame().all() inconsistent with ser.all() with CategoryDtype',\n",
       "  'user': {'login': 'jbrockmendel',\n",
       "   'id': 8078968,\n",
       "   'node_id': 'MDQ6VXNlcjgwNzg5Njg=',\n",
       "   'avatar_url': 'https://avatars1.githubusercontent.com/u/8078968?v=4',\n",
       "   'gravatar_id': '',\n",
       "   'url': 'https://api.github.com/users/jbrockmendel',\n",
       "   'html_url': 'https://github.com/jbrockmendel',\n",
       "   'followers_url': 'https://api.github.com/users/jbrockmendel/followers',\n",
       "   'following_url': 'https://api.github.com/users/jbrockmendel/following{/other_user}',\n",
       "   'gists_url': 'https://api.github.com/users/jbrockmendel/gists{/gist_id}',\n",
       "   'starred_url': 'https://api.github.com/users/jbrockmendel/starred{/owner}{/repo}',\n",
       "   'subscriptions_url': 'https://api.github.com/users/jbrockmendel/subscriptions',\n",
       "   'organizations_url': 'https://api.github.com/users/jbrockmendel/orgs',\n",
       "   'repos_url': 'https://api.github.com/users/jbrockmendel/repos',\n",
       "   'events_url': 'https://api.github.com/users/jbrockmendel/events{/privacy}',\n",
       "   'received_events_url': 'https://api.github.com/users/jbrockmendel/received_events',\n",
       "   'type': 'User',\n",
       "   'site_admin': False},\n",
       "  'labels': [{'id': 1741841389,\n",
       "    'node_id': 'MDU6TGFiZWwxNzQxODQxMzg5',\n",
       "    'url': 'https://api.github.com/repos/pandas-dev/pandas/labels/API%20-%20Consistency',\n",
       "    'name': 'API - Consistency',\n",
       "    'color': 'b60205',\n",
       "    'default': False,\n",
       "    'description': 'Internal Consistency of API/Behavior'}],\n",
       "  'state': 'open',\n",
       "  'locked': False,\n",
       "  'assignee': None,\n",
       "  'assignees': [],\n",
       "  'milestone': None,\n",
       "  'comments': 4,\n",
       "  'created_at': '2020-09-02T17:42:26Z',\n",
       "  'updated_at': '2020-09-04T20:06:55Z',\n",
       "  'closed_at': None,\n",
       "  'author_association': 'MEMBER',\n",
       "  'active_lock_reason': None,\n",
       "  'body': 'Based on tests.frame.test_analytics.test_any_all_np_func\\r\\n\\r\\n```\\r\\nser = pd.Series([0, 1], dtype=\"category\", name=\"A\")\\r\\ndf = ser.to_frame()\\r\\n\\r\\n>>> ser.all().\\r\\nTypeError: Categorical cannot perform the operation all\\r\\n\\r\\n>>> df.all().item()\\r\\nFalse\\r\\n```\\r\\n\\r\\nWhats happening here is the DataFrame case is calling `self.values` which casts to int64 (avoidable with 2D EAs...).\\r\\n\\r\\nIf instead we refactor (xref #35881) to operate blockwise, this block is ignored, so we end up getting the result we\\'d get on an empty DataFrame, i.e. True.  (xref #28900 ignoring failures is a footgun).\\r\\n\\r\\nExpected Behavior: as long as have ignore_failures, `df.all()` should be `True`',\n",
       "  'performed_via_github_app': None}]"
      ]
     },
     "execution_count": 50,
     "metadata": {},
     "output_type": "execute_result"
    }
   ],
   "source": [
    "data"
   ]
  },
  {
   "cell_type": "code",
   "execution_count": 51,
   "metadata": {},
   "outputs": [
    {
     "data": {
      "text/plain": [
       "'STY+CI: check for private function access across modules'"
      ]
     },
     "execution_count": 51,
     "metadata": {},
     "output_type": "execute_result"
    }
   ],
   "source": [
    "data[0]['title']"
   ]
  },
  {
   "cell_type": "markdown",
   "metadata": {},
   "source": [
    "We can pass data directly to DataFrame and extract fields of interest"
   ]
  },
  {
   "cell_type": "code",
   "execution_count": 52,
   "metadata": {},
   "outputs": [],
   "source": [
    "issues = pd.DataFrame(data, columns=['number','title','labels','state'])"
   ]
  },
  {
   "cell_type": "code",
   "execution_count": 53,
   "metadata": {},
   "outputs": [
    {
     "data": {
      "text/html": [
       "<div>\n",
       "<style scoped>\n",
       "    .dataframe tbody tr th:only-of-type {\n",
       "        vertical-align: middle;\n",
       "    }\n",
       "\n",
       "    .dataframe tbody tr th {\n",
       "        vertical-align: top;\n",
       "    }\n",
       "\n",
       "    .dataframe thead th {\n",
       "        text-align: right;\n",
       "    }\n",
       "</style>\n",
       "<table border=\"1\" class=\"dataframe\">\n",
       "  <thead>\n",
       "    <tr style=\"text-align: right;\">\n",
       "      <th></th>\n",
       "      <th>number</th>\n",
       "      <th>title</th>\n",
       "      <th>labels</th>\n",
       "      <th>state</th>\n",
       "    </tr>\n",
       "  </thead>\n",
       "  <tbody>\n",
       "    <tr>\n",
       "      <th>0</th>\n",
       "      <td>36144</td>\n",
       "      <td>STY+CI: check for private function access acro...</td>\n",
       "      <td>[]</td>\n",
       "      <td>open</td>\n",
       "    </tr>\n",
       "    <tr>\n",
       "      <th>1</th>\n",
       "      <td>36143</td>\n",
       "      <td>CLN: unused case in compare_or_regex_search</td>\n",
       "      <td>[]</td>\n",
       "      <td>open</td>\n",
       "    </tr>\n",
       "    <tr>\n",
       "      <th>2</th>\n",
       "      <td>36142</td>\n",
       "      <td>Arrow string array dtype</td>\n",
       "      <td>[]</td>\n",
       "      <td>open</td>\n",
       "    </tr>\n",
       "    <tr>\n",
       "      <th>3</th>\n",
       "      <td>36141</td>\n",
       "      <td>BUG: copying series into empty dataframe does ...</td>\n",
       "      <td>[]</td>\n",
       "      <td>open</td>\n",
       "    </tr>\n",
       "    <tr>\n",
       "      <th>4</th>\n",
       "      <td>36138</td>\n",
       "      <td>TYP: misc property return types</td>\n",
       "      <td>[{'id': 1280988427, 'node_id': 'MDU6TGFiZWwxMj...</td>\n",
       "      <td>open</td>\n",
       "    </tr>\n",
       "    <tr>\n",
       "      <th>5</th>\n",
       "      <td>36136</td>\n",
       "      <td>API: Make ExtensionDtype.construct_array_type ...</td>\n",
       "      <td>[{'id': 35818298, 'node_id': 'MDU6TGFiZWwzNTgx...</td>\n",
       "      <td>open</td>\n",
       "    </tr>\n",
       "    <tr>\n",
       "      <th>6</th>\n",
       "      <td>36134</td>\n",
       "      <td>BUG: shows correct package name when import_op...</td>\n",
       "      <td>[{'id': 129350, 'node_id': 'MDU6TGFiZWwxMjkzNT...</td>\n",
       "      <td>open</td>\n",
       "    </tr>\n",
       "    <tr>\n",
       "      <th>7</th>\n",
       "      <td>36133</td>\n",
       "      <td>WIP/DEPR: DataFrame reductions match Series be...</td>\n",
       "      <td>[]</td>\n",
       "      <td>open</td>\n",
       "    </tr>\n",
       "    <tr>\n",
       "      <th>8</th>\n",
       "      <td>36132</td>\n",
       "      <td>updated fixed indexer to work with rolling df ...</td>\n",
       "      <td>[{'id': 1045950827, 'node_id': 'MDU6TGFiZWwxMD...</td>\n",
       "      <td>open</td>\n",
       "    </tr>\n",
       "    <tr>\n",
       "      <th>9</th>\n",
       "      <td>36131</td>\n",
       "      <td>BUG: Timestamp == date match stdlib</td>\n",
       "      <td>[]</td>\n",
       "      <td>open</td>\n",
       "    </tr>\n",
       "    <tr>\n",
       "      <th>10</th>\n",
       "      <td>36126</td>\n",
       "      <td>Make ExtensionDtype.construct_array_type a reg...</td>\n",
       "      <td>[{'id': 35818298, 'node_id': 'MDU6TGFiZWwzNTgx...</td>\n",
       "      <td>open</td>\n",
       "    </tr>\n",
       "    <tr>\n",
       "      <th>11</th>\n",
       "      <td>36124</td>\n",
       "      <td>ENH: Display IntEnums by name rather then value</td>\n",
       "      <td>[{'id': 76812, 'node_id': 'MDU6TGFiZWw3NjgxMg=...</td>\n",
       "      <td>open</td>\n",
       "    </tr>\n",
       "    <tr>\n",
       "      <th>12</th>\n",
       "      <td>36123</td>\n",
       "      <td>BUG: GroupBy.mean() is extremely slow with spa...</td>\n",
       "      <td>[{'id': 76811, 'node_id': 'MDU6TGFiZWw3NjgxMQ=...</td>\n",
       "      <td>open</td>\n",
       "    </tr>\n",
       "    <tr>\n",
       "      <th>13</th>\n",
       "      <td>36122</td>\n",
       "      <td>Regression in pandas/io/excel/_odfreader.py  (...</td>\n",
       "      <td>[]</td>\n",
       "      <td>open</td>\n",
       "    </tr>\n",
       "    <tr>\n",
       "      <th>14</th>\n",
       "      <td>36115</td>\n",
       "      <td>REGR: append tz-aware DataFrame with tz-naive ...</td>\n",
       "      <td>[{'id': 32815646, 'node_id': 'MDU6TGFiZWwzMjgx...</td>\n",
       "      <td>open</td>\n",
       "    </tr>\n",
       "    <tr>\n",
       "      <th>15</th>\n",
       "      <td>36113</td>\n",
       "      <td>BUG: pandas.DataFrame().stack() raise an error...</td>\n",
       "      <td>[{'id': 76811, 'node_id': 'MDU6TGFiZWw3NjgxMQ=...</td>\n",
       "      <td>open</td>\n",
       "    </tr>\n",
       "    <tr>\n",
       "      <th>16</th>\n",
       "      <td>36111</td>\n",
       "      <td>BUG: read_csv with custom date parser and na_f...</td>\n",
       "      <td>[{'id': 76811, 'node_id': 'MDU6TGFiZWw3NjgxMQ=...</td>\n",
       "      <td>open</td>\n",
       "    </tr>\n",
       "    <tr>\n",
       "      <th>17</th>\n",
       "      <td>36106</td>\n",
       "      <td>BUG: DataFrame.any with axis=1 and bool_only=True</td>\n",
       "      <td>[]</td>\n",
       "      <td>open</td>\n",
       "    </tr>\n",
       "    <tr>\n",
       "      <th>18</th>\n",
       "      <td>36105</td>\n",
       "      <td>DEPR: making copies when indexing along columns</td>\n",
       "      <td>[]</td>\n",
       "      <td>open</td>\n",
       "    </tr>\n",
       "    <tr>\n",
       "      <th>19</th>\n",
       "      <td>36103</td>\n",
       "      <td>QST: Why does Pandas change data type from obj...</td>\n",
       "      <td>[{'id': 34444536, 'node_id': 'MDU6TGFiZWwzNDQ0...</td>\n",
       "      <td>open</td>\n",
       "    </tr>\n",
       "    <tr>\n",
       "      <th>20</th>\n",
       "      <td>36102</td>\n",
       "      <td>TYP: misc fixes for numpy types 4</td>\n",
       "      <td>[{'id': 1280988427, 'node_id': 'MDU6TGFiZWwxMj...</td>\n",
       "      <td>open</td>\n",
       "    </tr>\n",
       "    <tr>\n",
       "      <th>21</th>\n",
       "      <td>36100</td>\n",
       "      <td>TYP: misc fixes for numpy types 3</td>\n",
       "      <td>[{'id': 1280988427, 'node_id': 'MDU6TGFiZWwxMj...</td>\n",
       "      <td>open</td>\n",
       "    </tr>\n",
       "    <tr>\n",
       "      <th>22</th>\n",
       "      <td>36097</td>\n",
       "      <td>Center window</td>\n",
       "      <td>[]</td>\n",
       "      <td>open</td>\n",
       "    </tr>\n",
       "    <tr>\n",
       "      <th>23</th>\n",
       "      <td>36096</td>\n",
       "      <td>Improve `OverflowError` message when `pandas.r...</td>\n",
       "      <td>[{'id': 104865385, 'node_id': 'MDU6TGFiZWwxMDQ...</td>\n",
       "      <td>open</td>\n",
       "    </tr>\n",
       "    <tr>\n",
       "      <th>24</th>\n",
       "      <td>36094</td>\n",
       "      <td>BUG: extra leading space in to_string when ind...</td>\n",
       "      <td>[{'id': 76811, 'node_id': 'MDU6TGFiZWw3NjgxMQ=...</td>\n",
       "      <td>open</td>\n",
       "    </tr>\n",
       "    <tr>\n",
       "      <th>25</th>\n",
       "      <td>36092</td>\n",
       "      <td>CI: type checking with np-dev</td>\n",
       "      <td>[{'id': 1280988427, 'node_id': 'MDU6TGFiZWwxMj...</td>\n",
       "      <td>open</td>\n",
       "    </tr>\n",
       "    <tr>\n",
       "      <th>26</th>\n",
       "      <td>36081</td>\n",
       "      <td>BUG: Unary pos/neg ops on IntegerArrays failin...</td>\n",
       "      <td>[]</td>\n",
       "      <td>open</td>\n",
       "    </tr>\n",
       "    <tr>\n",
       "      <th>27</th>\n",
       "      <td>36080</td>\n",
       "      <td>BUG: add py39 compat check for ast.slice #32766</td>\n",
       "      <td>[{'id': 76865106, 'node_id': 'MDU6TGFiZWw3Njg2...</td>\n",
       "      <td>open</td>\n",
       "    </tr>\n",
       "    <tr>\n",
       "      <th>28</th>\n",
       "      <td>36078</td>\n",
       "      <td>BUG: Unary pos/neg ops on IntegerArrays failin...</td>\n",
       "      <td>[]</td>\n",
       "      <td>open</td>\n",
       "    </tr>\n",
       "    <tr>\n",
       "      <th>29</th>\n",
       "      <td>36076</td>\n",
       "      <td>BUG: ser.to_frame().all() inconsistent with se...</td>\n",
       "      <td>[{'id': 1741841389, 'node_id': 'MDU6TGFiZWwxNz...</td>\n",
       "      <td>open</td>\n",
       "    </tr>\n",
       "  </tbody>\n",
       "</table>\n",
       "</div>"
      ],
      "text/plain": [
       "    number                                              title  \\\n",
       "0    36144  STY+CI: check for private function access acro...   \n",
       "1    36143        CLN: unused case in compare_or_regex_search   \n",
       "2    36142                           Arrow string array dtype   \n",
       "3    36141  BUG: copying series into empty dataframe does ...   \n",
       "4    36138                    TYP: misc property return types   \n",
       "5    36136  API: Make ExtensionDtype.construct_array_type ...   \n",
       "6    36134  BUG: shows correct package name when import_op...   \n",
       "7    36133  WIP/DEPR: DataFrame reductions match Series be...   \n",
       "8    36132  updated fixed indexer to work with rolling df ...   \n",
       "9    36131                BUG: Timestamp == date match stdlib   \n",
       "10   36126  Make ExtensionDtype.construct_array_type a reg...   \n",
       "11   36124    ENH: Display IntEnums by name rather then value   \n",
       "12   36123  BUG: GroupBy.mean() is extremely slow with spa...   \n",
       "13   36122  Regression in pandas/io/excel/_odfreader.py  (...   \n",
       "14   36115  REGR: append tz-aware DataFrame with tz-naive ...   \n",
       "15   36113  BUG: pandas.DataFrame().stack() raise an error...   \n",
       "16   36111  BUG: read_csv with custom date parser and na_f...   \n",
       "17   36106  BUG: DataFrame.any with axis=1 and bool_only=True   \n",
       "18   36105    DEPR: making copies when indexing along columns   \n",
       "19   36103  QST: Why does Pandas change data type from obj...   \n",
       "20   36102                  TYP: misc fixes for numpy types 4   \n",
       "21   36100                  TYP: misc fixes for numpy types 3   \n",
       "22   36097                                      Center window   \n",
       "23   36096  Improve `OverflowError` message when `pandas.r...   \n",
       "24   36094  BUG: extra leading space in to_string when ind...   \n",
       "25   36092                      CI: type checking with np-dev   \n",
       "26   36081  BUG: Unary pos/neg ops on IntegerArrays failin...   \n",
       "27   36080    BUG: add py39 compat check for ast.slice #32766   \n",
       "28   36078  BUG: Unary pos/neg ops on IntegerArrays failin...   \n",
       "29   36076  BUG: ser.to_frame().all() inconsistent with se...   \n",
       "\n",
       "                                               labels state  \n",
       "0                                                  []  open  \n",
       "1                                                  []  open  \n",
       "2                                                  []  open  \n",
       "3                                                  []  open  \n",
       "4   [{'id': 1280988427, 'node_id': 'MDU6TGFiZWwxMj...  open  \n",
       "5   [{'id': 35818298, 'node_id': 'MDU6TGFiZWwzNTgx...  open  \n",
       "6   [{'id': 129350, 'node_id': 'MDU6TGFiZWwxMjkzNT...  open  \n",
       "7                                                  []  open  \n",
       "8   [{'id': 1045950827, 'node_id': 'MDU6TGFiZWwxMD...  open  \n",
       "9                                                  []  open  \n",
       "10  [{'id': 35818298, 'node_id': 'MDU6TGFiZWwzNTgx...  open  \n",
       "11  [{'id': 76812, 'node_id': 'MDU6TGFiZWw3NjgxMg=...  open  \n",
       "12  [{'id': 76811, 'node_id': 'MDU6TGFiZWw3NjgxMQ=...  open  \n",
       "13                                                 []  open  \n",
       "14  [{'id': 32815646, 'node_id': 'MDU6TGFiZWwzMjgx...  open  \n",
       "15  [{'id': 76811, 'node_id': 'MDU6TGFiZWw3NjgxMQ=...  open  \n",
       "16  [{'id': 76811, 'node_id': 'MDU6TGFiZWw3NjgxMQ=...  open  \n",
       "17                                                 []  open  \n",
       "18                                                 []  open  \n",
       "19  [{'id': 34444536, 'node_id': 'MDU6TGFiZWwzNDQ0...  open  \n",
       "20  [{'id': 1280988427, 'node_id': 'MDU6TGFiZWwxMj...  open  \n",
       "21  [{'id': 1280988427, 'node_id': 'MDU6TGFiZWwxMj...  open  \n",
       "22                                                 []  open  \n",
       "23  [{'id': 104865385, 'node_id': 'MDU6TGFiZWwxMDQ...  open  \n",
       "24  [{'id': 76811, 'node_id': 'MDU6TGFiZWw3NjgxMQ=...  open  \n",
       "25  [{'id': 1280988427, 'node_id': 'MDU6TGFiZWwxMj...  open  \n",
       "26                                                 []  open  \n",
       "27  [{'id': 76865106, 'node_id': 'MDU6TGFiZWw3Njg2...  open  \n",
       "28                                                 []  open  \n",
       "29  [{'id': 1741841389, 'node_id': 'MDU6TGFiZWwxNz...  open  "
      ]
     },
     "execution_count": 53,
     "metadata": {},
     "output_type": "execute_result"
    }
   ],
   "source": [
    "issues"
   ]
  },
  {
   "cell_type": "markdown",
   "metadata": {},
   "source": [
    "## 6.4 Interacting with Databases"
   ]
  },
  {
   "cell_type": "code",
   "execution_count": 54,
   "metadata": {},
   "outputs": [],
   "source": [
    "#create sqlite databases\n",
    "import sqlite3"
   ]
  },
  {
   "cell_type": "code",
   "execution_count": 55,
   "metadata": {},
   "outputs": [],
   "source": [
    "query = \"\"\"\n",
    "CREATE TABLE test(\n",
    "a VARCHAR(20),\n",
    "b VARCHAR(20),\n",
    "c REAL,\n",
    "d INTEGER\n",
    ");\n",
    "\"\"\""
   ]
  },
  {
   "cell_type": "code",
   "execution_count": 56,
   "metadata": {},
   "outputs": [],
   "source": [
    "con = sqlite3.connect('mydata.sqlite')"
   ]
  },
  {
   "cell_type": "code",
   "execution_count": 57,
   "metadata": {},
   "outputs": [
    {
     "data": {
      "text/plain": [
       "<sqlite3.Cursor at 0x7f7e4ddf8f80>"
      ]
     },
     "execution_count": 57,
     "metadata": {},
     "output_type": "execute_result"
    }
   ],
   "source": [
    "con.execute(query)"
   ]
  },
  {
   "cell_type": "code",
   "execution_count": 58,
   "metadata": {},
   "outputs": [],
   "source": [
    "con.commit()"
   ]
  },
  {
   "cell_type": "code",
   "execution_count": 59,
   "metadata": {},
   "outputs": [],
   "source": [
    "# insert few rows of data"
   ]
  },
  {
   "cell_type": "code",
   "execution_count": 60,
   "metadata": {},
   "outputs": [],
   "source": [
    "data = [('Atlanta', 'Georgia', 1.25, 6),\n",
    "        ('Tallahassee','Florida', 2.6, 3),\n",
    "        ('Secramento','California', 1.7, 5)\n",
    "       ]"
   ]
  },
  {
   "cell_type": "code",
   "execution_count": 61,
   "metadata": {},
   "outputs": [],
   "source": [
    "stmt = \"INSERT INTO test VALUES(?, ?, ?, ?)\""
   ]
  },
  {
   "cell_type": "code",
   "execution_count": 62,
   "metadata": {},
   "outputs": [
    {
     "data": {
      "text/plain": [
       "<sqlite3.Cursor at 0x7f7e80b25ce0>"
      ]
     },
     "execution_count": 62,
     "metadata": {},
     "output_type": "execute_result"
    }
   ],
   "source": [
    "con.executemany(stmt, data)"
   ]
  },
  {
   "cell_type": "code",
   "execution_count": 63,
   "metadata": {},
   "outputs": [],
   "source": [
    "con.commit()"
   ]
  },
  {
   "cell_type": "code",
   "execution_count": 64,
   "metadata": {},
   "outputs": [],
   "source": [
    "cursor = con.execute('select * from test')"
   ]
  },
  {
   "cell_type": "code",
   "execution_count": 65,
   "metadata": {},
   "outputs": [
    {
     "data": {
      "text/plain": [
       "<sqlite3.Cursor at 0x7f7e4ddff340>"
      ]
     },
     "execution_count": 65,
     "metadata": {},
     "output_type": "execute_result"
    }
   ],
   "source": [
    "cursor"
   ]
  },
  {
   "cell_type": "code",
   "execution_count": 66,
   "metadata": {},
   "outputs": [],
   "source": [
    "rows = cursor.fetchall()"
   ]
  },
  {
   "cell_type": "code",
   "execution_count": 67,
   "metadata": {},
   "outputs": [
    {
     "data": {
      "text/plain": [
       "[('Atlanta', 'Georgia', 1.25, 6),\n",
       " ('Tallahassee', 'Florida', 2.6, 3),\n",
       " ('Secramento', 'California', 1.7, 5)]"
      ]
     },
     "execution_count": 67,
     "metadata": {},
     "output_type": "execute_result"
    }
   ],
   "source": [
    "rows"
   ]
  },
  {
   "cell_type": "code",
   "execution_count": 68,
   "metadata": {},
   "outputs": [
    {
     "data": {
      "text/plain": [
       "(('a', None, None, None, None, None, None),\n",
       " ('b', None, None, None, None, None, None),\n",
       " ('c', None, None, None, None, None, None),\n",
       " ('d', None, None, None, None, None, None))"
      ]
     },
     "execution_count": 68,
     "metadata": {},
     "output_type": "execute_result"
    }
   ],
   "source": [
    "cursor.description"
   ]
  },
  {
   "cell_type": "code",
   "execution_count": 69,
   "metadata": {},
   "outputs": [
    {
     "data": {
      "text/html": [
       "<div>\n",
       "<style scoped>\n",
       "    .dataframe tbody tr th:only-of-type {\n",
       "        vertical-align: middle;\n",
       "    }\n",
       "\n",
       "    .dataframe tbody tr th {\n",
       "        vertical-align: top;\n",
       "    }\n",
       "\n",
       "    .dataframe thead th {\n",
       "        text-align: right;\n",
       "    }\n",
       "</style>\n",
       "<table border=\"1\" class=\"dataframe\">\n",
       "  <thead>\n",
       "    <tr style=\"text-align: right;\">\n",
       "      <th></th>\n",
       "      <th>a</th>\n",
       "      <th>b</th>\n",
       "      <th>c</th>\n",
       "      <th>d</th>\n",
       "    </tr>\n",
       "  </thead>\n",
       "  <tbody>\n",
       "    <tr>\n",
       "      <th>0</th>\n",
       "      <td>Atlanta</td>\n",
       "      <td>Georgia</td>\n",
       "      <td>1.25</td>\n",
       "      <td>6</td>\n",
       "    </tr>\n",
       "    <tr>\n",
       "      <th>1</th>\n",
       "      <td>Tallahassee</td>\n",
       "      <td>Florida</td>\n",
       "      <td>2.60</td>\n",
       "      <td>3</td>\n",
       "    </tr>\n",
       "    <tr>\n",
       "      <th>2</th>\n",
       "      <td>Secramento</td>\n",
       "      <td>California</td>\n",
       "      <td>1.70</td>\n",
       "      <td>5</td>\n",
       "    </tr>\n",
       "  </tbody>\n",
       "</table>\n",
       "</div>"
      ],
      "text/plain": [
       "             a           b     c  d\n",
       "0      Atlanta     Georgia  1.25  6\n",
       "1  Tallahassee     Florida  2.60  3\n",
       "2   Secramento  California  1.70  5"
      ]
     },
     "execution_count": 69,
     "metadata": {},
     "output_type": "execute_result"
    }
   ],
   "source": [
    "pd.DataFrame(rows, columns=[x[0] for x in cursor.description])"
   ]
  },
  {
   "cell_type": "code",
   "execution_count": 70,
   "metadata": {},
   "outputs": [],
   "source": [
    "# connect to the same SQLite database with SQLALchemy and read data from the table created before"
   ]
  },
  {
   "cell_type": "code",
   "execution_count": 72,
   "metadata": {},
   "outputs": [],
   "source": [
    "import sqlalchemy as sqla"
   ]
  },
  {
   "cell_type": "code",
   "execution_count": 74,
   "metadata": {},
   "outputs": [],
   "source": [
    "db = sqla.create_engine('sqlite:///mydata.sqlite')"
   ]
  },
  {
   "cell_type": "code",
   "execution_count": 75,
   "metadata": {},
   "outputs": [
    {
     "data": {
      "text/html": [
       "<div>\n",
       "<style scoped>\n",
       "    .dataframe tbody tr th:only-of-type {\n",
       "        vertical-align: middle;\n",
       "    }\n",
       "\n",
       "    .dataframe tbody tr th {\n",
       "        vertical-align: top;\n",
       "    }\n",
       "\n",
       "    .dataframe thead th {\n",
       "        text-align: right;\n",
       "    }\n",
       "</style>\n",
       "<table border=\"1\" class=\"dataframe\">\n",
       "  <thead>\n",
       "    <tr style=\"text-align: right;\">\n",
       "      <th></th>\n",
       "      <th>a</th>\n",
       "      <th>b</th>\n",
       "      <th>c</th>\n",
       "      <th>d</th>\n",
       "    </tr>\n",
       "  </thead>\n",
       "  <tbody>\n",
       "    <tr>\n",
       "      <th>0</th>\n",
       "      <td>Atlanta</td>\n",
       "      <td>Georgia</td>\n",
       "      <td>1.25</td>\n",
       "      <td>6</td>\n",
       "    </tr>\n",
       "    <tr>\n",
       "      <th>1</th>\n",
       "      <td>Tallahassee</td>\n",
       "      <td>Florida</td>\n",
       "      <td>2.60</td>\n",
       "      <td>3</td>\n",
       "    </tr>\n",
       "    <tr>\n",
       "      <th>2</th>\n",
       "      <td>Secramento</td>\n",
       "      <td>California</td>\n",
       "      <td>1.70</td>\n",
       "      <td>5</td>\n",
       "    </tr>\n",
       "  </tbody>\n",
       "</table>\n",
       "</div>"
      ],
      "text/plain": [
       "             a           b     c  d\n",
       "0      Atlanta     Georgia  1.25  6\n",
       "1  Tallahassee     Florida  2.60  3\n",
       "2   Secramento  California  1.70  5"
      ]
     },
     "execution_count": 75,
     "metadata": {},
     "output_type": "execute_result"
    }
   ],
   "source": [
    "pd.read_sql('select * from test', db)"
   ]
  }
 ],
 "metadata": {
  "kernelspec": {
   "display_name": "Python 3",
   "language": "python",
   "name": "python3"
  },
  "language_info": {
   "codemirror_mode": {
    "name": "ipython",
    "version": 3
   },
   "file_extension": ".py",
   "mimetype": "text/x-python",
   "name": "python",
   "nbconvert_exporter": "python",
   "pygments_lexer": "ipython3",
   "version": "3.7.6"
  }
 },
 "nbformat": 4,
 "nbformat_minor": 4
}
